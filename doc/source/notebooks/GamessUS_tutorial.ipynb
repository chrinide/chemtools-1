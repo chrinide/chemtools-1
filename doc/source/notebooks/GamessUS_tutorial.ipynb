{
 "cells": [
  {
   "cell_type": "markdown",
   "metadata": {},
   "source": [
    "# Example of gamessus module functionality\n",
    "\n",
    "We start by importin the `Gamess` object from the `gamessus` module"
   ]
  },
  {
   "cell_type": "code",
   "execution_count": 11,
   "metadata": {
    "collapsed": false
   },
   "outputs": [],
   "source": [
    "from chemtools.gamessus import GamessUS, GamessLogParser"
   ]
  },
  {
   "cell_type": "markdown",
   "metadata": {},
   "source": [
    "## GamessUS wrapper"
   ]
  },
  {
   "cell_type": "markdown",
   "metadata": {},
   "source": [
    "Now we instantiate the object by calling `Gamess` with arguments corresponding to the local installation of GAMESS(US)"
   ]
  },
  {
   "cell_type": "code",
   "execution_count": 2,
   "metadata": {
    "collapsed": false
   },
   "outputs": [],
   "source": [
    "gamess = GamessUS(executable=\"/home/lmentel/Programs/gamess-us-dec2014/rungms\",\n",
    "                version=\"00\",\n",
    "                runopts={\"nproc\" : 1},\n",
    "                scratch=\"/home/lmentel/scratch\")"
   ]
  },
  {
   "cell_type": "code",
   "execution_count": 3,
   "metadata": {
    "collapsed": false
   },
   "outputs": [
    {
     "data": {
      "text/plain": [
       "'/home/lmentel/Programs/gamess-us-dec2014/rungms'"
      ]
     },
     "execution_count": 3,
     "metadata": {},
     "output_type": "execute_result"
    }
   ],
   "source": [
    "gamess.rungms"
   ]
  },
  {
   "cell_type": "code",
   "execution_count": 4,
   "metadata": {
    "collapsed": false
   },
   "outputs": [],
   "source": [
    "inpstr = \"\"\" $CONTRL scftyp=rhf runtyp=energy maxit=30 mult=1 ispher=1\n",
    "     itol=30 icut=30 units=bohr cityp=guga qmttol=1.0e-8 $END\n",
    " $SYSTEM timlim=525600 mwords=100 $END\n",
    " $SCF dirscf=.false. $END\n",
    " $CIDRT iexcit=2 nfzc=0 ndoc=1 nval=27 group=d2h stsym=ag\n",
    "        mxnint=14307305 $END\n",
    " $GUGDIA prttol=1.0e-6 cvgtol=1.0e-10 $END\n",
    " $DATA\n",
    "H2 cc-pVTZ\n",
    "dnh 2\n",
    "\n",
    "H    1.00       0.000000       0.000000       0.700000\n",
    "S   3\n",
    "  1     33.8700000              0.0060680        \n",
    "  2      5.0950000              0.0453080        \n",
    "  3      1.1590000              0.2028220        \n",
    "S   1\n",
    "  1      0.3258000              1.0000000        \n",
    "S   1\n",
    "  1      0.1027000              1.0000000        \n",
    "P   1\n",
    "  1      1.4070000              1.0000000        \n",
    "P   1\n",
    "  1      0.3880000              1.0000000        \n",
    "D   1\n",
    "  1      1.0570000              1.0000000        \n",
    "\n",
    " $END\n",
    "\"\"\""
   ]
  },
  {
   "cell_type": "code",
   "execution_count": 5,
   "metadata": {
    "collapsed": false
   },
   "outputs": [],
   "source": [
    "inpfile = \"h2_eq_pvtz_fci.inp\"\n",
    "with open(inpfile, 'w') as inp:\n",
    "    inp.write(inpstr)"
   ]
  },
  {
   "cell_type": "code",
   "execution_count": 6,
   "metadata": {
    "collapsed": false
   },
   "outputs": [],
   "source": [
    "logfile = gamess.run(inpfile)"
   ]
  },
  {
   "cell_type": "code",
   "execution_count": 7,
   "metadata": {
    "collapsed": false
   },
   "outputs": [
    {
     "data": {
      "text/plain": [
       "'h2_eq_pvtz_fci.log'"
      ]
     },
     "execution_count": 7,
     "metadata": {},
     "output_type": "execute_result"
    }
   ],
   "source": [
    "logfile"
   ]
  },
  {
   "cell_type": "code",
   "execution_count": 10,
   "metadata": {
    "collapsed": false
   },
   "outputs": [
    {
     "name": "stdout",
     "output_type": "stream",
     "text": [
      "----- GAMESS execution script 'rungms' -----\r\n",
      "This job is running on host marvin\r\n",
      "under operating system Linux at pią, 3 lip 2015, 00:04:12 CEST\r\n",
      "Available scratch disk space (Kbyte units) at beginning of the job is\r\n",
      "System plików      1K-bl    użyte  dostępne %uż. zamont. na\r\n",
      "/dev/sda6      199862336 80721476 108965324  43% /home\r\n",
      "GAMESS temporary binary files will be written to /home/lmentel/scratch\r\n",
      "GAMESS supplementary output files will be written to /home/lmentel/scratch\r\n",
      "Copying input file h2_eq_pvtz_fci.inp to your run's scratch directory...\r\n",
      "cp h2_eq_pvtz_fci.inp /home/lmentel/scratch/h2_eq_pvtz_fci.F05\r\n",
      "unset echo\r\n",
      "/home/lmentel/Programs/gamess-us-dec2014/ddikick.x /home/lmentel/Programs/gamess-us-dec2014/gamess.00.x h2_eq_pvtz_fci -ddi 1 1 marvin -scr /home/lmentel/scratch\r\n",
      "\r\n",
      " Distributed Data Interface kickoff program.\r\n",
      " Initiating 1 compute processes on 1 nodes to run the following command:\r\n",
      " /home/lmentel/Programs/gamess-us-dec2014/gamess.00.x h2_eq_pvtz_fci \r\n",
      "\r\n",
      "          ******************************************************\r\n",
      "          *         GAMESS VERSION =  5 DEC 2014 (R1)          *\r\n",
      "          *             FROM IOWA STATE UNIVERSITY             *\r\n",
      "          * M.W.SCHMIDT, K.K.BALDRIDGE, J.A.BOATZ, S.T.ELBERT, *\r\n",
      "          *   M.S.GORDON, J.H.JENSEN, S.KOSEKI, N.MATSUNAGA,   *\r\n",
      "          *          K.A.NGUYEN, S.J.SU, T.L.WINDUS,           *\r\n",
      "          *       TOGETHER WITH M.DUPUIS, J.A.MONTGOMERY       *\r\n",
      "          *         J.COMPUT.CHEM.  14, 1347-1363(1993)        *\r\n",
      "          **************** 64 BIT LINUX VERSION ****************\r\n",
      "\r\n",
      "  SINCE 1993, STUDENTS AND POSTDOCS WORKING AT IOWA STATE UNIVERSITY\r\n",
      "  AND ALSO IN THEIR VARIOUS JOBS AFTER LEAVING ISU HAVE MADE IMPORTANT\r\n",
      "  CONTRIBUTIONS TO THE CODE:\r\n"
     ]
    }
   ],
   "source": [
    "!head -n 30 h2_eq_pvtz_fci.log"
   ]
  },
  {
   "cell_type": "markdown",
   "metadata": {},
   "source": [
    "## GamessLogParser"
   ]
  },
  {
   "cell_type": "code",
   "execution_count": 12,
   "metadata": {
    "collapsed": true
   },
   "outputs": [],
   "source": [
    "glp = GamessLogParser(logfile)"
   ]
  },
  {
   "cell_type": "code",
   "execution_count": 13,
   "metadata": {
    "collapsed": false
   },
   "outputs": [
    {
     "data": {
      "text/plain": [
       "True"
      ]
     },
     "execution_count": 13,
     "metadata": {},
     "output_type": "execute_result"
    }
   ],
   "source": [
    "glp.accomplished()"
   ]
  },
  {
   "cell_type": "code",
   "execution_count": 14,
   "metadata": {
    "collapsed": false
   },
   "outputs": [
    {
     "data": {
      "text/plain": [
       "-1.1329605255"
      ]
     },
     "execution_count": 14,
     "metadata": {},
     "output_type": "execute_result"
    }
   ],
   "source": [
    "glp.get_hf_total_energy()"
   ]
  },
  {
   "cell_type": "code",
   "execution_count": 16,
   "metadata": {
    "collapsed": false
   },
   "outputs": [
    {
     "data": {
      "text/plain": [
       "'GUGA'"
      ]
     },
     "execution_count": 16,
     "metadata": {},
     "output_type": "execute_result"
    }
   ],
   "source": [
    "glp.get_ci_type()"
   ]
  },
  {
   "cell_type": "code",
   "execution_count": 17,
   "metadata": {
    "collapsed": false
   },
   "outputs": [
    {
     "data": {
      "text/plain": [
       "{'ELECTRON-ELECTRON POTENTIAL ENERGY': 0.6583903152,\n",
       " 'NUCLEAR REPULSION ENERGY': 0.7142857143,\n",
       " 'NUCLEUS-ELECTRON POTENTIAL ENERGY': -3.6287606058,\n",
       " 'NUCLEUS-NUCLEUS POTENTIAL ENERGY': 0.7142857143,\n",
       " 'ONE ELECTRON ENERGY': -2.505636555,\n",
       " 'TOTAL ENERGY': -1.1329605255,\n",
       " 'TOTAL KINETIC ENERGY': 1.1231240508,\n",
       " 'TOTAL POTENTIAL ENERGY': -2.2560845763,\n",
       " 'TWO ELECTRON ENERGY': 0.6583903152,\n",
       " 'VIRIAL RATIO (V/T)': 2.0087581373,\n",
       " 'WAVEFUNCTION NORMALIZATION': 1.0}"
      ]
     },
     "execution_count": 17,
     "metadata": {},
     "output_type": "execute_result"
    }
   ],
   "source": [
    "glp.get_energy_components('hf')"
   ]
  },
  {
   "cell_type": "code",
   "execution_count": 15,
   "metadata": {
    "collapsed": false
   },
   "outputs": [
    {
     "data": {
      "text/plain": [
       "{'ELECTRON-ELECTRON POTENTIAL ENERGY': 0.5886602014,\n",
       " 'NUCLEAR REPULSION ENERGY': 0.7142857143,\n",
       " 'NUCLEUS-ELECTRON POTENTIAL ENERGY': -3.6466910029,\n",
       " 'NUCLEUS-NUCLEUS POTENTIAL ENERGY': 0.7142857143,\n",
       " 'ONE ELECTRON ENERGY': -2.4752805092,\n",
       " 'TOTAL ENERGY': -1.1723345936,\n",
       " 'TOTAL KINETIC ENERGY': 1.1714104937,\n",
       " 'TOTAL POTENTIAL ENERGY': -2.3437450872,\n",
       " 'TWO ELECTRON ENERGY': 0.5886602014,\n",
       " 'VIRIAL RATIO (V/T)': 2.0007888779,\n",
       " 'WAVEFUNCTION NORMALIZATION': 1.0}"
      ]
     },
     "execution_count": 15,
     "metadata": {},
     "output_type": "execute_result"
    }
   ],
   "source": [
    "glp.get_energy_components('ci')"
   ]
  },
  {
   "cell_type": "code",
   "execution_count": 2,
   "metadata": {
    "collapsed": false
   },
   "outputs": [
    {
     "data": {
      "application/json": {
       "Software versions": [
        {
         "module": "Python",
         "version": "2.7.9 64bit [GCC 4.9.2]"
        },
        {
         "module": "IPython",
         "version": "3.2.0"
        },
        {
         "module": "OS",
         "version": "Linux 3.16.0 4 amd64 x86_64 with debian 8.1"
        },
        {
         "module": "chemtools",
         "version": "0.5.0"
        }
       ]
      },
      "text/html": [
       "<table><tr><th>Software</th><th>Version</th></tr><tr><td>Python</td><td>2.7.9 64bit [GCC 4.9.2]</td></tr><tr><td>IPython</td><td>3.2.0</td></tr><tr><td>OS</td><td>Linux 3.16.0 4 amd64 x86_64 with debian 8.1</td></tr><tr><td>chemtools</td><td>0.5.0</td></tr><tr><td colspan='2'>Thu Jul 02 23:57:08 2015 CEST</td></tr></table>"
      ],
      "text/latex": [
       "\\begin{tabular}{|l|l|}\\hline\n",
       "{\\bf Software} & {\\bf Version} \\\\ \\hline\\hline\n",
       "Python & 2.7.9 64bit [GCC 4.9.2] \\\\ \\hline\n",
       "IPython & 3.2.0 \\\\ \\hline\n",
       "OS & Linux 3.16.0 4 amd64 x86\\_64 with debian 8.1 \\\\ \\hline\n",
       "chemtools & 0.5.0 \\\\ \\hline\n",
       "\\hline \\multicolumn{2}{|l|}{Thu Jul 02 23:57:08 2015 CEST} \\\\ \\hline\n",
       "\\end{tabular}\n"
      ],
      "text/plain": [
       "Software versions\n",
       "Python 2.7.9 64bit [GCC 4.9.2]\n",
       "IPython 3.2.0\n",
       "OS Linux 3.16.0 4 amd64 x86_64 with debian 8.1\n",
       "chemtools 0.5.0\n",
       "Thu Jul 02 23:57:08 2015 CEST"
      ]
     },
     "execution_count": 2,
     "metadata": {},
     "output_type": "execute_result"
    }
   ],
   "source": [
    "%version_information chemtools"
   ]
  }
 ],
 "metadata": {
  "kernelspec": {
   "display_name": "Python 2",
   "language": "python",
   "name": "python2"
  },
  "language_info": {
   "codemirror_mode": {
    "name": "ipython",
    "version": 2
   },
   "file_extension": ".py",
   "mimetype": "text/x-python",
   "name": "python",
   "nbconvert_exporter": "python",
   "pygments_lexer": "ipython2",
   "version": "2.7.9"
  }
 },
 "nbformat": 4,
 "nbformat_minor": 0
}
