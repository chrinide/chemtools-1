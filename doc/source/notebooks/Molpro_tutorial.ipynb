{
 "cells": [
  {
   "cell_type": "markdown",
   "metadata": {},
   "source": [
    "<h1 style=\"text-align:center\"> Molpro module tutorial </h1>\n",
    "\n",
    "The `molpro` module contains the following convenience classes:\n",
    "\n",
    "* `Molpro` python wrapper for running the [Molpro](https://www.molpro.net/) program\n",
    "* `MolproInput` is a convenience class for handling [Molpro](https://www.molpro.net/) inputs\n",
    "* `MolproOutputParser` is the parser for [Molpro](https://www.molpro.net/) output "
   ]
  },
  {
   "cell_type": "code",
   "execution_count": 22,
   "metadata": {
    "collapsed": false
   },
   "outputs": [],
   "source": [
    "from chemtools.molpro import Molpro, MolproOutputParser"
   ]
  },
  {
   "cell_type": "markdown",
   "metadata": {},
   "source": [
    "## Molpro wrapper\n",
    "\n",
    "To instantiate a `Molpro` object the path to the executable has to be passed"
   ]
  },
  {
   "cell_type": "code",
   "execution_count": 5,
   "metadata": {
    "collapsed": false
   },
   "outputs": [],
   "source": [
    "molpro = Molpro(executable=\"/home/lmentel/Programs/molprop_2012_1_Linux_x86_64_i8/bin/molpro\",\n",
    "                runopts=[\"-s\", \"-n\", \"1\"],\n",
    "                scratch=\"/home/lmentel/scratch\")"
   ]
  },
  {
   "cell_type": "markdown",
   "metadata": {},
   "source": [
    "Now we can write some sample molpro input and run in from python using the `Molpro` object created earlier."
   ]
  },
  {
   "cell_type": "code",
   "execution_count": 14,
   "metadata": {
    "collapsed": true
   },
   "outputs": [],
   "source": [
    "inpstr = '''***,H2O finite field calculations\n",
    "r=1.85,theta=104                !set geometry parameters\n",
    "geometry={O;                    !z-matrix input\n",
    "H1,O,r;\n",
    "H2,O,r,H1,theta}\n",
    "\n",
    "basis=avtz                      !define default basis\n",
    "\n",
    "hf\n",
    "ccsd(t)\n",
    "'''\n",
    "\n",
    "with open('h2o.inp', 'w') as finp:\n",
    "    finp.write(inpstr)"
   ]
  },
  {
   "cell_type": "markdown",
   "metadata": {},
   "source": [
    "`run` method runs the job and returns the ouput name"
   ]
  },
  {
   "cell_type": "code",
   "execution_count": 6,
   "metadata": {
    "collapsed": false
   },
   "outputs": [],
   "source": [
    "output = molpro.run('h2o.inp')"
   ]
  },
  {
   "cell_type": "markdown",
   "metadata": {},
   "source": [
    "## MolproOutputParser\n",
    "\n",
    "`MolproOutputParser` needs only the file name with the Molpro output as argument."
   ]
  },
  {
   "cell_type": "code",
   "execution_count": 15,
   "metadata": {
    "collapsed": false
   },
   "outputs": [],
   "source": [
    "mop = MolproOutputParser(output)"
   ]
  },
  {
   "cell_type": "code",
   "execution_count": 16,
   "metadata": {
    "collapsed": false
   },
   "outputs": [
    {
     "data": {
      "text/plain": [
       "True"
      ]
     },
     "execution_count": 16,
     "metadata": {},
     "output_type": "execute_result"
    }
   ],
   "source": [
    "mop.accomplished()"
   ]
  },
  {
   "cell_type": "code",
   "execution_count": 17,
   "metadata": {
    "collapsed": false
   },
   "outputs": [
    {
     "data": {
      "text/plain": [
       "-76.058288041466"
      ]
     },
     "execution_count": 17,
     "metadata": {},
     "output_type": "execute_result"
    }
   ],
   "source": [
    "mop.get_hf_total_energy()"
   ]
  },
  {
   "cell_type": "code",
   "execution_count": 18,
   "metadata": {
    "collapsed": false
   },
   "outputs": [
    {
     "data": {
      "text/plain": [
       "-76.341780640047"
      ]
     },
     "execution_count": 18,
     "metadata": {},
     "output_type": "execute_result"
    }
   ],
   "source": [
    "mop.get_ccsdt_total_energy()"
   ]
  },
  {
   "cell_type": "code",
   "execution_count": 19,
   "metadata": {
    "collapsed": false
   },
   "outputs": [
    {
     "data": {
      "text/plain": [
       "8.99162654"
      ]
     },
     "execution_count": 19,
     "metadata": {},
     "output_type": "execute_result"
    }
   ],
   "source": [
    "mop.get_variable(r'NUCLEAR REPULSION ENERGY\\s*(-?\\d+\\.\\d+)')"
   ]
  },
  {
   "cell_type": "code",
   "execution_count": 20,
   "metadata": {
    "collapsed": false
   },
   "outputs": [
    {
     "data": {
      "text/plain": [
       "True"
      ]
     },
     "execution_count": 20,
     "metadata": {},
     "output_type": "execute_result"
    }
   ],
   "source": [
    "mop.outexists()"
   ]
  },
  {
   "cell_type": "code",
   "execution_count": 21,
   "metadata": {
    "collapsed": false
   },
   "outputs": [
    {
     "data": {
      "application/json": {
       "Software versions": [
        {
         "module": "Python",
         "version": "2.7.9 64bit [GCC 4.9.2]"
        },
        {
         "module": "IPython",
         "version": "3.2.0"
        },
        {
         "module": "OS",
         "version": "Linux 3.16.0 4 amd64 x86_64 with debian 8.1"
        },
        {
         "module": "chemtools",
         "version": "0.5.0"
        }
       ]
      },
      "text/html": [
       "<table><tr><th>Software</th><th>Version</th></tr><tr><td>Python</td><td>2.7.9 64bit [GCC 4.9.2]</td></tr><tr><td>IPython</td><td>3.2.0</td></tr><tr><td>OS</td><td>Linux 3.16.0 4 amd64 x86_64 with debian 8.1</td></tr><tr><td>chemtools</td><td>0.5.0</td></tr><tr><td colspan='2'>Thu Jul 02 23:57:18 2015 CEST</td></tr></table>"
      ],
      "text/latex": [
       "\\begin{tabular}{|l|l|}\\hline\n",
       "{\\bf Software} & {\\bf Version} \\\\ \\hline\\hline\n",
       "Python & 2.7.9 64bit [GCC 4.9.2] \\\\ \\hline\n",
       "IPython & 3.2.0 \\\\ \\hline\n",
       "OS & Linux 3.16.0 4 amd64 x86\\_64 with debian 8.1 \\\\ \\hline\n",
       "chemtools & 0.5.0 \\\\ \\hline\n",
       "\\hline \\multicolumn{2}{|l|}{Thu Jul 02 23:57:18 2015 CEST} \\\\ \\hline\n",
       "\\end{tabular}\n"
      ],
      "text/plain": [
       "Software versions\n",
       "Python 2.7.9 64bit [GCC 4.9.2]\n",
       "IPython 3.2.0\n",
       "OS Linux 3.16.0 4 amd64 x86_64 with debian 8.1\n",
       "chemtools 0.5.0\n",
       "Thu Jul 02 23:57:18 2015 CEST"
      ]
     },
     "execution_count": 21,
     "metadata": {},
     "output_type": "execute_result"
    }
   ],
   "source": [
    "%version_information chemtools"
   ]
  }
 ],
 "metadata": {
  "kernelspec": {
   "display_name": "Python 2",
   "language": "python",
   "name": "python2"
  },
  "language_info": {
   "codemirror_mode": {
    "name": "ipython",
    "version": 2
   },
   "file_extension": ".py",
   "mimetype": "text/x-python",
   "name": "python",
   "nbconvert_exporter": "python",
   "pygments_lexer": "ipython2",
   "version": "2.7.9"
  }
 },
 "nbformat": 4,
 "nbformat_minor": 0
}
