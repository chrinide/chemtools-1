{
 "metadata": {
  "name": "",
  "signature": "sha256:89abb6f6f86ff528f269fe603387868232bce1045047b79303c61b5169c9377f"
 },
 "nbformat": 3,
 "nbformat_minor": 0,
 "worksheets": [
  {
   "cells": [
    {
     "cell_type": "markdown",
     "metadata": {},
     "source": [
      "# GamessReader tutorial\n",
      "\n",
      "GamessReader provides methods for reading the binary files produced by GAMESS(US) such as the:\n",
      "* F10\n",
      "    dictionary file with one electron integrals (details about the contents of this file can be found in the GAMESS documentation\n",
      "* F08\n",
      "    two electron integrals over atomic orbitals (AO)\n",
      "* F09\n",
      "    two electron integrals over molecular orbitals (MO)\n",
      "* F15"
     ]
    },
    {
     "cell_type": "code",
     "collapsed": false,
     "input": [
      "from chemtools.gamessus import DictionaryFile, records"
     ],
     "language": "python",
     "metadata": {},
     "outputs": [],
     "prompt_number": 1
    },
    {
     "cell_type": "markdown",
     "metadata": {},
     "source": [
      "`records` is a dictionary of record numbers with descriptions that can be read by the `DictionaryFile` `read_record` method. We can print it's contents "
     ]
    },
    {
     "cell_type": "code",
     "collapsed": false,
     "input": [
      "for k in sorted(records.keys()):\n",
      "    print k, records[k].name"
     ],
     "language": "python",
     "metadata": {},
     "outputs": [
      {
       "output_type": "stream",
       "stream": "stdout",
       "text": [
        "1 atomic coordinates\n",
        "2 enrgys\n",
        "3 gradient vector\n",
        "4 hessian matrix\n",
        "5 not used\n",
        "6 not used\n",
        "7 ptr\n",
        "8 dtr\n",
        "9 ftr\n",
        "10 gtr\n",
        "11 bare nucleus\n",
        "12 overlap\n",
        "13 kinetic energy\n",
        "14 alpha fock matrix\n",
        "15 alpha orbitals\n",
        "16 alpha density matrix\n",
        "17 alpha energies or occupation numbers\n",
        "18 beta fock matrix\n",
        "19 beta orbitals\n",
        "20 beta density matrix\n",
        "21 beta energies or occupation numbers\n",
        "22 error function interpolation table\n",
        "23 old alpha fock matrix\n",
        "24 older alpha fock matrix\n",
        "25 oldest alpha fock matrix\n",
        "26 old beta fock matrix\n",
        "27 older beta fock matrix\n",
        "28 odest beta fock matrix\n",
        "29 vib 0 gradient in FORCE\n",
        "30 vib 0 alpha orbitals in FORCE\n",
        "31 Vib 0 beta  orbitals in FORCE\n",
        "32 Vib 0 alpha density matrix in FORCE\n",
        "33 Vib 0 beta  density matrix in FORCE\n",
        "34 dipole derivative tensor in FORCE\n",
        "35 frozen core Fock operator\n",
        "36 RHF/UHF/ROHF Lagrangian\n",
        "37 floating point part of common block /OPTGRD/\n",
        "38 integer part of common block /OPTGRD/\n",
        "39 ZMAT of input internal coords\n",
        "40 IZMAT of input internal coords\n",
        "41 B matrix of redundant internal coords\n",
        "42 pristine core Fock matrix in MO basis (see 87)\n",
        "43 Force constant matrix in internal coordinates\n",
        "44 SALC transformation\n",
        "45 symmetry adapted Q matrix\n",
        "46 S matrix for symmetry coordinates\n",
        "47 ZMAT for symmetry internal coords\n",
        "48 IZMAT for symmetry internal coords\n",
        "49 B matrix\n",
        "50 B inverse matrix\n",
        "95 x dipole integrals in AO basis\n",
        "96 y dipole integrals in AO basis\n",
        "97 z dipole integrals in AO basis\n",
        "251 static polarizability tensor alpha\n",
        "252 X dipole integrals in MO basis\n",
        "253 Y dipole integrals in MO basis\n",
        "254 Z dipole integrals in MO basis\n",
        "255 alpha MO symmetry labels\n",
        "256 beta MO symmetry labels\n",
        "379 Lz integrals\n"
       ]
      }
     ],
     "prompt_number": 2
    },
    {
     "cell_type": "code",
     "collapsed": false,
     "input": [
      "df = DictionaryFile(\"data/h2_eq_pvtz_fci.F10\")"
     ],
     "language": "python",
     "metadata": {},
     "outputs": [],
     "prompt_number": 3
    },
    {
     "cell_type": "code",
     "collapsed": false,
     "input": [
      "coords = df.read_record(1)\n",
      "coords = coords.reshape(2, 3)\n",
      "coords"
     ],
     "language": "python",
     "metadata": {},
     "outputs": [
      {
       "metadata": {},
       "output_type": "pyout",
       "prompt_number": 25,
       "text": [
        "array([[ 0. ,  0. , -0.7],\n",
        "       [ 0. ,  0. ,  0.7]])"
       ]
      }
     ],
     "prompt_number": 25
    },
    {
     "cell_type": "code",
     "collapsed": false,
     "input": [
      "df.read_record(2)"
     ],
     "language": "python",
     "metadata": {},
     "outputs": [
      {
       "metadata": {},
       "output_type": "pyout",
       "prompt_number": 5,
       "text": [
        "array([ 0.71428571, -1.88662031, -1.17233459,  0.        ,  0.        ,\n",
        "        0.        , -1.13296053,  0.        , -2.47528051,  0.5886602 ,\n",
        "       -3.646691  ,  0.5886602 , -2.34374509,  1.17141049, -1.17233459,\n",
        "        0.        ,  0.        ,  0.        ,  0.        ,  0.        ,\n",
        "        0.        ,  0.        ,  0.        ,  0.        ,  0.        ,\n",
        "        0.        ,  0.        ,  0.        ,  0.        ,  0.        ,\n",
        "        0.        ,  0.        ,  0.        ,  0.        ,  0.        ,\n",
        "        0.        ,  0.        ,  0.        ,  0.        ,  0.        ,\n",
        "        0.        ,  0.        ,  0.        ,  0.        ,  0.        ,\n",
        "        0.        ,  0.        ,  0.        ,  0.        ,  0.        ,\n",
        "        0.        ,  0.        ,  0.        ,  0.        ,  0.        ,\n",
        "        0.        ,  0.        ,  0.        ,  0.        ,  0.        ,\n",
        "        0.        ,  0.        ,  0.        ,  0.        ,  0.        ,\n",
        "        0.        ,  0.        ,  0.        ,  0.        ,  0.        ,\n",
        "        0.        ,  0.        ,  0.        ,  0.        ,  0.        ,\n",
        "        0.        ,  0.        ,  0.        ,  0.        ,  0.        ,\n",
        "        0.        ,  0.        ,  0.        ,  0.        ,  0.        ,\n",
        "        0.        ,  0.        ,  0.        ,  0.        ,  0.        ,\n",
        "        0.        ,  0.        ,  0.        ,  0.        ,  0.        ,\n",
        "        0.        ,  0.        ,  0.        ,  0.        ,  0.        ,\n",
        "        0.        ,  0.        ,  0.        ,  0.        ,  0.        ,\n",
        "        0.        ,  0.        ,  0.        ,  0.        ,  0.        ,\n",
        "        0.        ,  0.        ,  0.        ,  0.        ,  1.        ])"
       ]
      }
     ],
     "prompt_number": 5
    },
    {
     "cell_type": "code",
     "collapsed": false,
     "input": [
      "H = df.read_record(11)"
     ],
     "language": "python",
     "metadata": {},
     "outputs": [],
     "prompt_number": 6
    },
    {
     "cell_type": "code",
     "collapsed": false,
     "input": [
      "H.shape"
     ],
     "language": "python",
     "metadata": {},
     "outputs": [
      {
       "metadata": {},
       "output_type": "pyout",
       "prompt_number": 7,
       "text": [
        "(465,)"
       ]
      }
     ],
     "prompt_number": 7
    },
    {
     "cell_type": "code",
     "collapsed": false,
     "input": [
      "30*31/2"
     ],
     "language": "python",
     "metadata": {},
     "outputs": [
      {
       "metadata": {},
       "output_type": "pyout",
       "prompt_number": 8,
       "text": [
        "465"
       ]
      }
     ],
     "prompt_number": 8
    },
    {
     "cell_type": "code",
     "collapsed": false,
     "input": [
      "df.read_record(39)"
     ],
     "language": "python",
     "metadata": {},
     "outputs": [
      {
       "ename": "ValueError",
       "evalue": "Record 39 was not previously written, IODA[39]=-1",
       "output_type": "pyerr",
       "traceback": [
        "\u001b[1;31m---------------------------------------------------------------------------\u001b[0m\n\u001b[1;31mValueError\u001b[0m                                Traceback (most recent call last)",
        "\u001b[1;32m<ipython-input-26-8a68d992409d>\u001b[0m in \u001b[0;36m<module>\u001b[1;34m()\u001b[0m\n\u001b[1;32m----> 1\u001b[1;33m \u001b[0mdf\u001b[0m\u001b[1;33m.\u001b[0m\u001b[0mread_record\u001b[0m\u001b[1;33m(\u001b[0m\u001b[1;36m39\u001b[0m\u001b[1;33m)\u001b[0m\u001b[1;33m\u001b[0m\u001b[0m\n\u001b[0m",
        "\u001b[1;32m/home/lmentel/.virtualenvs/chemtools/local/lib/python2.7/site-packages/chemtools-0.3.1-py2.7.egg/chemtools/gamessus.pyc\u001b[0m in \u001b[0;36mread_record\u001b[1;34m(self, nrec, dtype)\u001b[0m\n\u001b[0;32m   1381\u001b[0m \u001b[1;33m\u001b[0m\u001b[0m\n\u001b[0;32m   1382\u001b[0m         \u001b[1;32mif\u001b[0m \u001b[0mself\u001b[0m\u001b[1;33m.\u001b[0m\u001b[0mioda\u001b[0m\u001b[1;33m[\u001b[0m\u001b[0mnrec\u001b[0m\u001b[1;33m-\u001b[0m\u001b[1;36m1\u001b[0m\u001b[1;33m]\u001b[0m \u001b[1;33m<\u001b[0m \u001b[1;36m0\u001b[0m\u001b[1;33m:\u001b[0m\u001b[1;33m\u001b[0m\u001b[0m\n\u001b[1;32m-> 1383\u001b[1;33m             \u001b[1;32mraise\u001b[0m \u001b[0mValueError\u001b[0m\u001b[1;33m(\u001b[0m\u001b[1;34m\"Record {0} was not previously written, IODA[{0}]={1}\"\u001b[0m\u001b[1;33m.\u001b[0m\u001b[0mformat\u001b[0m\u001b[1;33m(\u001b[0m\u001b[0mnrec\u001b[0m\u001b[1;33m,\u001b[0m \u001b[0mself\u001b[0m\u001b[1;33m.\u001b[0m\u001b[0mioda\u001b[0m\u001b[1;33m[\u001b[0m\u001b[0mnrec\u001b[0m\u001b[1;33m-\u001b[0m\u001b[1;36m1\u001b[0m\u001b[1;33m]\u001b[0m\u001b[1;33m)\u001b[0m\u001b[1;33m)\u001b[0m\u001b[1;33m\u001b[0m\u001b[0m\n\u001b[0m\u001b[0;32m   1384\u001b[0m \u001b[1;33m\u001b[0m\u001b[0m\n\u001b[0;32m   1385\u001b[0m         \u001b[0mself\u001b[0m\u001b[1;33m.\u001b[0m\u001b[0mseek\u001b[0m\u001b[1;33m(\u001b[0m\u001b[1;36m8\u001b[0m\u001b[1;33m*\u001b[0m\u001b[0mself\u001b[0m\u001b[1;33m.\u001b[0m\u001b[0mirecln\u001b[0m\u001b[1;33m*\u001b[0m\u001b[1;33m(\u001b[0m\u001b[0mint\u001b[0m\u001b[1;33m(\u001b[0m\u001b[0mself\u001b[0m\u001b[1;33m.\u001b[0m\u001b[0mioda\u001b[0m\u001b[1;33m[\u001b[0m\u001b[0mnrec\u001b[0m\u001b[1;33m-\u001b[0m\u001b[1;36m1\u001b[0m\u001b[1;33m]\u001b[0m\u001b[1;33m)\u001b[0m\u001b[1;33m-\u001b[0m\u001b[1;36m1\u001b[0m\u001b[1;33m)\u001b[0m\u001b[1;33m)\u001b[0m\u001b[1;33m\u001b[0m\u001b[0m\n",
        "\u001b[1;31mValueError\u001b[0m: Record 39 was not previously written, IODA[39]=-1"
       ]
      }
     ],
     "prompt_number": 26
    },
    {
     "cell_type": "code",
     "collapsed": false,
     "input": [
      "df.read_record(12);"
     ],
     "language": "python",
     "metadata": {},
     "outputs": [],
     "prompt_number": 13
    },
    {
     "cell_type": "code",
     "collapsed": false,
     "input": [
      "df.read_record(17)"
     ],
     "language": "python",
     "metadata": {},
     "outputs": [
      {
       "metadata": {},
       "output_type": "pyout",
       "prompt_number": 12,
       "text": [
        "array([-0.59442797,  0.16713829,  0.30507984,  0.64355015,  0.69261917,\n",
        "        0.69261917,  1.09640445,  1.11998497,  1.11998497,  1.52917244,\n",
        "        2.33707703,  2.40733557,  3.1753351 ,  3.1753351 ,  3.41225816,\n",
        "        3.41225816,  3.67481228,  3.89352728,  3.89352728,  4.08443932,\n",
        "        4.08443932,  4.1141952 ,  4.1141952 ,  4.65705168,  5.72969139,\n",
        "        5.72969139,  5.8059791 ,  6.96654377,  0.        ,  0.        ])"
       ]
      }
     ],
     "prompt_number": 12
    },
    {
     "cell_type": "code",
     "collapsed": false,
     "input": [
      "mos = df.read_record(15);\n",
      "mos.shape"
     ],
     "language": "python",
     "metadata": {},
     "outputs": [
      {
       "metadata": {},
       "output_type": "pyout",
       "prompt_number": 16,
       "text": [
        "(900,)"
       ]
      }
     ],
     "prompt_number": 16
    },
    {
     "cell_type": "code",
     "collapsed": false,
     "input": [
      "def tri2full(vector, shape):\n",
      "    \n",
      "    n, m = shape\n",
      "    matrix = np.zeros(shape, dtype=float, order='F')\n",
      "    ij = -1\n",
      "    for i in range(n):\n",
      "        for j in range(i):\n",
      "            ij += 1\n",
      "            matrix[i, j] = vector[ij]\n",
      "            print i,j,ij,vector[ij]"
     ],
     "language": "python",
     "metadata": {},
     "outputs": [],
     "prompt_number": 15
    },
    {
     "cell_type": "code",
     "collapsed": false,
     "input": [
      "mos = mos.reshape(30, 28, order='F')"
     ],
     "language": "python",
     "metadata": {},
     "outputs": [
      {
       "ename": "ValueError",
       "evalue": "total size of new array must be unchanged",
       "output_type": "pyerr",
       "traceback": [
        "\u001b[1;31m---------------------------------------------------------------------------\u001b[0m\n\u001b[1;31mValueError\u001b[0m                                Traceback (most recent call last)",
        "\u001b[1;32m<ipython-input-22-ad01f03ce2e5>\u001b[0m in \u001b[0;36m<module>\u001b[1;34m()\u001b[0m\n\u001b[1;32m----> 1\u001b[1;33m \u001b[0mmos\u001b[0m \u001b[1;33m=\u001b[0m \u001b[0mmos\u001b[0m\u001b[1;33m.\u001b[0m\u001b[0mreshape\u001b[0m\u001b[1;33m(\u001b[0m\u001b[1;36m30\u001b[0m\u001b[1;33m,\u001b[0m \u001b[1;36m28\u001b[0m\u001b[1;33m,\u001b[0m \u001b[0morder\u001b[0m\u001b[1;33m=\u001b[0m\u001b[1;34m'F'\u001b[0m\u001b[1;33m)\u001b[0m\u001b[1;33m\u001b[0m\u001b[0m\n\u001b[0m",
        "\u001b[1;31mValueError\u001b[0m: total size of new array must be unchanged"
       ]
      }
     ],
     "prompt_number": 22
    },
    {
     "cell_type": "code",
     "collapsed": false,
     "input": [
      "mos[:,28]"
     ],
     "language": "python",
     "metadata": {},
     "outputs": [
      {
       "metadata": {},
       "output_type": "pyout",
       "prompt_number": 21,
       "text": [
        "array([ 0.,  0.,  0.,  0.,  0.,  0.,  0.,  0.,  0.,  0.,  0.,  0.,  0.,\n",
        "        0.,  0.,  0.,  0.,  0.,  0.,  0.,  0.,  0.,  0.,  0.,  0.,  0.,\n",
        "        0.,  0.,  0.,  0.])"
       ]
      }
     ],
     "prompt_number": 21
    },
    {
     "cell_type": "code",
     "collapsed": false,
     "input": [],
     "language": "python",
     "metadata": {},
     "outputs": []
    }
   ],
   "metadata": {}
  }
 ]
}