{
 "metadata": {
  "name": "",
  "signature": "sha256:8a9cadf62eda711e2db5b27d57d151d434ab0cab706420dc7f7f8dfed8429039"
 },
 "nbformat": 3,
 "nbformat_minor": 0,
 "worksheets": [
  {
   "cells": [
    {
     "cell_type": "markdown",
     "metadata": {},
     "source": [
      "# Example of gamessus module functionality\n",
      "\n",
      "We start by importin the `Gamess` object from the `gamessus` module"
     ]
    },
    {
     "cell_type": "code",
     "collapsed": false,
     "input": [
      "from chemtools.gamessus import Gamess"
     ],
     "language": "python",
     "metadata": {},
     "outputs": [],
     "prompt_number": 1
    },
    {
     "cell_type": "markdown",
     "metadata": {},
     "source": [
      "Now we instantiate the object by calling `Gamess` with arguments corresponding to the local installation of GAMESS(US)"
     ]
    },
    {
     "cell_type": "code",
     "collapsed": false,
     "input": [
      "gamess = Gamess(executable=\"/home/lmentel/Programs/gamess-us-may2013/rungms\",\n",
      "                version=\"00\",\n",
      "                runopts=None,\n",
      "                scratch=\"/home/lmentel/scratch\")"
     ],
     "language": "python",
     "metadata": {},
     "outputs": [],
     "prompt_number": 2
    },
    {
     "cell_type": "code",
     "collapsed": false,
     "input": [
      "gamess.rungms"
     ],
     "language": "python",
     "metadata": {},
     "outputs": [
      {
       "metadata": {},
       "output_type": "pyout",
       "prompt_number": 5,
       "text": [
        "'/home/lmentel/Programs/gamess-us-may2013/rungms'"
       ]
      }
     ],
     "prompt_number": 5
    },
    {
     "cell_type": "code",
     "collapsed": false,
     "input": [
      "inpstr = \"\"\" $CONTRL scftyp=rhf runtyp=energy maxit=30 mult=1 ispher=1\n",
      "     itol=30 icut=30 units=bohr cityp=guga qmttol=1.0e-8 $END\n",
      " $SYSTEM timlim=525600 mwords=100 $END\n",
      " $SCF dirscf=.false. $END\n",
      " $CIDRT iexcit=2 nfzc=0 ndoc=1 nval=27 group=d2h stsym=ag\n",
      "        mxnint=14307305 $END\n",
      " $GUGDIA prttol=1.0e-6 cvgtol=1.0e-10 $END\n",
      " $DATA\n",
      "H2 cc-pVTZ\n",
      "dnh 2\n",
      "\n",
      "H    1.00       0.000000       0.000000       0.700000\n",
      "S   3\n",
      "  1     33.8700000              0.0060680        \n",
      "  2      5.0950000              0.0453080        \n",
      "  3      1.1590000              0.2028220        \n",
      "S   1\n",
      "  1      0.3258000              1.0000000        \n",
      "S   1\n",
      "  1      0.1027000              1.0000000        \n",
      "P   1\n",
      "  1      1.4070000              1.0000000        \n",
      "P   1\n",
      "  1      0.3880000              1.0000000        \n",
      "D   1\n",
      "  1      1.0570000              1.0000000        \n",
      "\n",
      " $END\n",
      "\"\"\""
     ],
     "language": "python",
     "metadata": {},
     "outputs": [],
     "prompt_number": 6
    },
    {
     "cell_type": "code",
     "collapsed": false,
     "input": [
      "inpfile = \"h2_eq_pvtz_fci.inp\"\n",
      "with open(inpfile, 'w') as inp:\n",
      "    inp.write(inpstr)"
     ],
     "language": "python",
     "metadata": {},
     "outputs": [],
     "prompt_number": 7
    },
    {
     "cell_type": "code",
     "collapsed": false,
     "input": [
      "logfile = gamess.run(inpfile)"
     ],
     "language": "python",
     "metadata": {},
     "outputs": [],
     "prompt_number": 8
    },
    {
     "cell_type": "code",
     "collapsed": false,
     "input": [
      "logfile"
     ],
     "language": "python",
     "metadata": {},
     "outputs": [
      {
       "metadata": {},
       "output_type": "pyout",
       "prompt_number": 9,
       "text": [
        "'h2_eq_pvtz_fci.log'"
       ]
      }
     ],
     "prompt_number": 9
    }
   ],
   "metadata": {}
  }
 ]
}