{
 "metadata": {
  "name": "",
  "signature": "sha256:781d991abfd0d3de223c5bf6cd742dcf4ae48235a8ba51934425853ea74839ec"
 },
 "nbformat": 3,
 "nbformat_minor": 0,
 "worksheets": [
  {
   "cells": [
    {
     "cell_type": "markdown",
     "metadata": {},
     "source": [
      "# GamessDatParser tutorial\n",
      "\n",
      "This tutorial shows a few examples on how to use `GamessDatParser` class to extract data from the the ASCII dat file created by GAMESS(US).\n",
      "\n",
      "First we need to import the necessary class"
     ]
    },
    {
     "cell_type": "code",
     "collapsed": false,
     "input": [
      "from chemtools.gamessus import GamessDatParser"
     ],
     "language": "python",
     "metadata": {},
     "outputs": [],
     "prompt_number": 1
    },
    {
     "cell_type": "code",
     "collapsed": false,
     "input": [
      "gdp = GamessDatParser(\"data/h2_eq_pvtz_fci.dat\")"
     ],
     "language": "python",
     "metadata": {},
     "outputs": [],
     "prompt_number": 34
    },
    {
     "cell_type": "markdown",
     "metadata": {},
     "source": [
      "Now we can get the occupation numbers as `numpy` array "
     ]
    },
    {
     "cell_type": "code",
     "collapsed": false,
     "input": [
      "gdp.get_occupations()"
     ],
     "language": "python",
     "metadata": {},
     "outputs": [
      {
       "metadata": {},
       "output_type": "pyout",
       "prompt_number": 4,
       "text": [
        "array([  1.96441235e+00,   2.00048908e-02,   5.98969500e-03,\n",
        "         4.20956670e-03,   4.20956670e-03,   1.98179300e-04,\n",
        "         1.90423400e-04,   1.47048700e-04,   1.47048700e-04,\n",
        "         1.08179100e-04,   7.54083000e-05,   7.54083000e-05,\n",
        "         5.73806000e-05,   5.73806000e-05,   1.66176000e-05,\n",
        "         1.39763000e-05,   1.27980000e-05,   1.27980000e-05,\n",
        "         1.17193000e-05,   1.17193000e-05,   9.99820000e-06,\n",
        "         9.99820000e-06,   9.10240000e-06,   2.29550000e-06,\n",
        "         2.03490000e-06,   2.03490000e-06,   1.54180000e-06,\n",
        "         8.35500000e-07])"
       ]
      }
     ],
     "prompt_number": 4
    },
    {
     "cell_type": "markdown",
     "metadata": {},
     "source": [
      "retrieve the molecular orbitals as an array of shape number of AO's x number of MO's"
     ]
    },
    {
     "cell_type": "code",
     "collapsed": false,
     "input": [
      "mos = gdp.get_orbitals('hf')\n",
      "mos.shape"
     ],
     "language": "python",
     "metadata": {},
     "outputs": [
      {
       "metadata": {},
       "output_type": "pyout",
       "prompt_number": 28,
       "text": [
        "(30, 28)"
       ]
      }
     ],
     "prompt_number": 28
    },
    {
     "cell_type": "markdown",
     "metadata": {},
     "source": [
      "To print the first vector we can use a slice on numpy array, \n",
      "\n",
      "    Note: in python arrays are numbered from 0 not from 1"
     ]
    },
    {
     "cell_type": "code",
     "collapsed": false,
     "input": [
      "mos[:, 0]"
     ],
     "language": "python",
     "metadata": {},
     "outputs": [
      {
       "metadata": {},
       "output_type": "pyout",
       "prompt_number": 30,
       "text": [
        "array([ 0.18648279,  0.28367175,  0.13546836,  0.        ,  0.        ,\n",
        "        0.01205087,  0.        ,  0.        ,  0.01741547, -0.00041868,\n",
        "       -0.00041868,  0.00083736,  0.        ,  0.        ,  0.        ,\n",
        "        0.18648279,  0.28367175,  0.13546836,  0.        ,  0.        ,\n",
        "       -0.01205087,  0.        ,  0.        , -0.01741547, -0.00041868,\n",
        "       -0.00041868,  0.00083736,  0.        ,  0.        ,  0.        ])"
       ]
      }
     ],
     "prompt_number": 30
    },
    {
     "cell_type": "markdown",
     "metadata": {},
     "source": [
      "We can also get the NO's if they are printed in the dat file using the `get_orbitals` method with `ci` as argument"
     ]
    },
    {
     "cell_type": "code",
     "collapsed": false,
     "input": [
      "nos = gdp.get_orbitals('ci')\n",
      "nos.shape"
     ],
     "language": "python",
     "metadata": {},
     "outputs": [
      {
       "metadata": {},
       "output_type": "pyout",
       "prompt_number": 31,
       "text": [
        "(30, 28)"
       ]
      }
     ],
     "prompt_number": 31
    },
    {
     "cell_type": "code",
     "collapsed": false,
     "input": [
      "nos[:, 0]"
     ],
     "language": "python",
     "metadata": {},
     "outputs": [
      {
       "metadata": {},
       "output_type": "pyout",
       "prompt_number": 32,
       "text": [
        "array([ 0.19036396,  0.28656433,  0.13035434,  0.        ,  0.        ,\n",
        "        0.01163051,  0.        ,  0.        ,  0.01420725, -0.00035366,\n",
        "       -0.00035366,  0.00070732,  0.        ,  0.        ,  0.        ,\n",
        "        0.19036396,  0.28656433,  0.13035434,  0.        ,  0.        ,\n",
        "       -0.01163051,  0.        ,  0.        , -0.01420725, -0.00035366,\n",
        "       -0.00035366,  0.00070732,  0.        ,  0.        ,  0.        ])"
       ]
      }
     ],
     "prompt_number": 32
    },
    {
     "cell_type": "code",
     "collapsed": false,
     "input": [
      "data = gdp.parse_data()"
     ],
     "language": "python",
     "metadata": {},
     "outputs": [],
     "prompt_number": 27
    },
    {
     "cell_type": "code",
     "collapsed": false,
     "input": [
      "print data['atoms'][0]['atomic']"
     ],
     "language": "python",
     "metadata": {},
     "outputs": [
      {
       "output_type": "stream",
       "stream": "stdout",
       "text": [
        "1.0\n"
       ]
      }
     ],
     "prompt_number": 23
    },
    {
     "cell_type": "code",
     "collapsed": false,
     "input": [
      "print data['atoms'][0]['basis']"
     ],
     "language": "python",
     "metadata": {},
     "outputs": [
      {
       "output_type": "stream",
       "stream": "stdout",
       "text": [
        "S       3\n",
        "     1             33.8700000000  0.00606800\n",
        "     2              5.0950000000  0.04530800\n",
        "     3              1.1590000000  0.20282200\n",
        "   S       1\n",
        "     1              0.3258000000  1.00000000\n",
        "   S       1\n",
        "     1              0.1027000000  1.00000000\n",
        "   P       1\n",
        "     1              1.4070000000  1.00000000\n",
        "   P       1\n",
        "     1              0.3880000000  1.00000000\n",
        "   D       1\n",
        "     1              1.0570000000  1.00000000\n"
       ]
      }
     ],
     "prompt_number": 22
    },
    {
     "cell_type": "code",
     "collapsed": false,
     "input": [
      "print data['atoms'][0]['label']"
     ],
     "language": "python",
     "metadata": {},
     "outputs": [
      {
       "output_type": "stream",
       "stream": "stdout",
       "text": [
        "H\n"
       ]
      }
     ],
     "prompt_number": 24
    },
    {
     "cell_type": "code",
     "collapsed": false,
     "input": [
      "print data['group']"
     ],
     "language": "python",
     "metadata": {},
     "outputs": [
      {
       "output_type": "stream",
       "stream": "stdout",
       "text": [
        "DNH      2\n"
       ]
      }
     ],
     "prompt_number": 25
    },
    {
     "cell_type": "code",
     "collapsed": false,
     "input": [
      "print data['title']"
     ],
     "language": "python",
     "metadata": {},
     "outputs": [
      {
       "output_type": "stream",
       "stream": "stdout",
       "text": [
        "H2 cc-pVTZ\n"
       ]
      }
     ],
     "prompt_number": 26
    },
    {
     "cell_type": "code",
     "collapsed": false,
     "input": [],
     "language": "python",
     "metadata": {},
     "outputs": []
    }
   ],
   "metadata": {}
  }
 ]
}