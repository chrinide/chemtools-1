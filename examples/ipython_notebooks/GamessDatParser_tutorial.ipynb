{
 "cells": [
  {
   "cell_type": "markdown",
   "metadata": {},
   "source": [
    "# GamessDatParser tutorial\n",
    "\n",
    "This tutorial shows a few examples on how to use `GamessDatParser` class to extract data from the the ASCII dat file created by GAMESS(US).\n",
    "\n",
    "First we need to import the necessary class"
   ]
  },
  {
   "cell_type": "code",
   "execution_count": 3,
   "metadata": {
    "collapsed": false
   },
   "outputs": [],
   "source": [
    "from chemtools.gamessus import GamessDatParser"
   ]
  },
  {
   "cell_type": "code",
   "execution_count": 4,
   "metadata": {
    "collapsed": false
   },
   "outputs": [],
   "source": [
    "gdp = GamessDatParser(\"data/h2_eq_pvtz_fci.dat\")"
   ]
  },
  {
   "cell_type": "markdown",
   "metadata": {},
   "source": [
    "Now we can get the occupation numbers as `numpy` array "
   ]
  },
  {
   "cell_type": "code",
   "execution_count": 5,
   "metadata": {
    "collapsed": false
   },
   "outputs": [
    {
     "data": {
      "text/plain": [
       "array([  1.96441235e+00,   2.00048908e-02,   5.98969500e-03,\n",
       "         4.20956670e-03,   4.20956670e-03,   1.98179300e-04,\n",
       "         1.90423400e-04,   1.47048700e-04,   1.47048700e-04,\n",
       "         1.08179100e-04,   7.54083000e-05,   7.54083000e-05,\n",
       "         5.73806000e-05,   5.73806000e-05,   1.66176000e-05,\n",
       "         1.39763000e-05,   1.27980000e-05,   1.27980000e-05,\n",
       "         1.17193000e-05,   1.17193000e-05,   9.99820000e-06,\n",
       "         9.99820000e-06,   9.10240000e-06,   2.29550000e-06,\n",
       "         2.03490000e-06,   2.03490000e-06,   1.54180000e-06,\n",
       "         8.35500000e-07])"
      ]
     },
     "execution_count": 5,
     "metadata": {},
     "output_type": "execute_result"
    }
   ],
   "source": [
    "gdp.get_occupations()"
   ]
  },
  {
   "cell_type": "markdown",
   "metadata": {},
   "source": [
    "retrieve the molecular orbitals as an array of shape number of AO's x number of MO's"
   ]
  },
  {
   "cell_type": "code",
   "execution_count": 6,
   "metadata": {
    "collapsed": false
   },
   "outputs": [
    {
     "ename": "ValueError",
     "evalue": "'nlines' cannot be zero, check vecstr in 'get_naos_nmos'",
     "output_type": "error",
     "traceback": [
      "\u001b[1;31m---------------------------------------------------------------------------\u001b[0m",
      "\u001b[1;31mValueError\u001b[0m                                Traceback (most recent call last)",
      "\u001b[1;32m<ipython-input-6-b7518bfcded5>\u001b[0m in \u001b[0;36m<module>\u001b[1;34m()\u001b[0m\n\u001b[1;32m----> 1\u001b[1;33m \u001b[0mmos\u001b[0m \u001b[1;33m=\u001b[0m \u001b[0mgdp\u001b[0m\u001b[1;33m.\u001b[0m\u001b[0mget_orbitals\u001b[0m\u001b[1;33m(\u001b[0m\u001b[1;34m'hf'\u001b[0m\u001b[1;33m)\u001b[0m\u001b[1;33m\u001b[0m\u001b[0m\n\u001b[0m\u001b[0;32m      2\u001b[0m \u001b[0mmos\u001b[0m\u001b[1;33m.\u001b[0m\u001b[0mshape\u001b[0m\u001b[1;33m\u001b[0m\u001b[0m\n",
      "\u001b[1;32m/home/lmentel/.virtualenvs/cat/local/lib/python2.7/site-packages/chemtools-0.6.0-py2.7.egg/chemtools/gamessus.pyc\u001b[0m in \u001b[0;36mget_orbitals\u001b[1;34m(self, method)\u001b[0m\n\u001b[0;32m    982\u001b[0m         \u001b[0mvecstr\u001b[0m \u001b[1;33m=\u001b[0m \u001b[0mself\u001b[0m\u001b[1;33m.\u001b[0m\u001b[0mget_vec_string\u001b[0m\u001b[1;33m(\u001b[0m\u001b[0mmethod\u001b[0m\u001b[1;33m)\u001b[0m\u001b[1;33m\u001b[0m\u001b[0m\n\u001b[0;32m    983\u001b[0m         \u001b[1;31m# add a single whitespace to account for the removed space in strip\u001b[0m\u001b[1;33m\u001b[0m\u001b[1;33m\u001b[0m\u001b[0m\n\u001b[1;32m--> 984\u001b[1;33m         \u001b[1;32mreturn\u001b[0m \u001b[0mself\u001b[0m\u001b[1;33m.\u001b[0m\u001b[0mparse_orbitals\u001b[0m\u001b[1;33m(\u001b[0m\u001b[1;34m\" \"\u001b[0m \u001b[1;33m+\u001b[0m \u001b[0mvecstr\u001b[0m\u001b[1;33m)\u001b[0m\u001b[1;33m\u001b[0m\u001b[0m\n\u001b[0m\u001b[0;32m    985\u001b[0m \u001b[1;33m\u001b[0m\u001b[0m\n\u001b[0;32m    986\u001b[0m     \u001b[1;33m@\u001b[0m\u001b[0mstaticmethod\u001b[0m\u001b[1;33m\u001b[0m\u001b[0m\n",
      "\u001b[1;32m/home/lmentel/.virtualenvs/cat/local/lib/python2.7/site-packages/chemtools-0.6.0-py2.7.egg/chemtools/gamessus.pyc\u001b[0m in \u001b[0;36mparse_orbitals\u001b[1;34m(vecstr, clength)\u001b[0m\n\u001b[0;32m   1009\u001b[0m         '''\n\u001b[0;32m   1010\u001b[0m \u001b[1;33m\u001b[0m\u001b[0m\n\u001b[1;32m-> 1011\u001b[1;33m         \u001b[0mnaos\u001b[0m\u001b[1;33m,\u001b[0m \u001b[0mnmos\u001b[0m\u001b[1;33m,\u001b[0m \u001b[0mnlines\u001b[0m \u001b[1;33m=\u001b[0m \u001b[0mget_naos_nmos\u001b[0m\u001b[1;33m(\u001b[0m\u001b[0mvecstr\u001b[0m\u001b[1;33m)\u001b[0m\u001b[1;33m\u001b[0m\u001b[0m\n\u001b[0m\u001b[0;32m   1012\u001b[0m         \u001b[0morblines\u001b[0m \u001b[1;33m=\u001b[0m \u001b[0mvecstr\u001b[0m\u001b[1;33m.\u001b[0m\u001b[0msplit\u001b[0m\u001b[1;33m(\u001b[0m\u001b[1;34m'\\n'\u001b[0m\u001b[1;33m)\u001b[0m\u001b[1;33m\u001b[0m\u001b[0m\n\u001b[0;32m   1013\u001b[0m         \u001b[0morbs\u001b[0m \u001b[1;33m=\u001b[0m \u001b[0mnp\u001b[0m\u001b[1;33m.\u001b[0m\u001b[0mzeros\u001b[0m\u001b[1;33m(\u001b[0m\u001b[1;33m(\u001b[0m\u001b[0mnaos\u001b[0m\u001b[1;33m,\u001b[0m \u001b[0mnmos\u001b[0m\u001b[1;33m)\u001b[0m\u001b[1;33m,\u001b[0m \u001b[0mdtype\u001b[0m\u001b[1;33m=\u001b[0m\u001b[0mfloat\u001b[0m\u001b[1;33m)\u001b[0m\u001b[1;33m\u001b[0m\u001b[0m\n",
      "\u001b[1;32m/home/lmentel/.virtualenvs/cat/local/lib/python2.7/site-packages/chemtools-0.6.0-py2.7.egg/chemtools/gamessus.pyc\u001b[0m in \u001b[0;36mget_naos_nmos\u001b[1;34m(vecstr, clength)\u001b[0m\n\u001b[0;32m   1047\u001b[0m         \u001b[0mnlines\u001b[0m \u001b[1;33m+=\u001b[0m \u001b[1;36m1\u001b[0m\u001b[1;33m\u001b[0m\u001b[0m\n\u001b[0;32m   1048\u001b[0m     \u001b[1;32mif\u001b[0m \u001b[0mnlines\u001b[0m \u001b[1;33m==\u001b[0m \u001b[1;36m0\u001b[0m\u001b[1;33m:\u001b[0m\u001b[1;33m\u001b[0m\u001b[0m\n\u001b[1;32m-> 1049\u001b[1;33m         \u001b[1;32mraise\u001b[0m \u001b[0mValueError\u001b[0m\u001b[1;33m(\u001b[0m\u001b[1;34m\"'nlines' cannot be zero, check vecstr in 'get_naos_nmos'\"\u001b[0m\u001b[1;33m)\u001b[0m\u001b[1;33m\u001b[0m\u001b[0m\n\u001b[0m\u001b[0;32m   1050\u001b[0m     \u001b[0mnaos\u001b[0m \u001b[1;33m=\u001b[0m \u001b[1;36m5\u001b[0m\u001b[1;33m*\u001b[0m\u001b[1;33m(\u001b[0m\u001b[0mnlines\u001b[0m \u001b[1;33m-\u001b[0m \u001b[1;36m1\u001b[0m\u001b[1;33m)\u001b[0m \u001b[1;33m+\u001b[0m \u001b[0mlen\u001b[0m\u001b[1;33m(\u001b[0m\u001b[0mvecstr\u001b[0m\u001b[1;33m.\u001b[0m\u001b[0msplit\u001b[0m\u001b[1;33m(\u001b[0m\u001b[1;34m'\\n'\u001b[0m\u001b[1;33m)\u001b[0m\u001b[1;33m[\u001b[0m\u001b[0mnlines\u001b[0m\u001b[1;33m-\u001b[0m\u001b[1;36m1\u001b[0m\u001b[1;33m]\u001b[0m\u001b[1;33m[\u001b[0m\u001b[1;36m5\u001b[0m\u001b[1;33m:\u001b[0m\u001b[1;33m]\u001b[0m\u001b[1;33m)\u001b[0m\u001b[1;33m//\u001b[0m\u001b[0mclength\u001b[0m\u001b[1;33m\u001b[0m\u001b[0m\n\u001b[0;32m   1051\u001b[0m     \u001b[0mnmos\u001b[0m \u001b[1;33m=\u001b[0m \u001b[0mveclines\u001b[0m\u001b[1;33m//\u001b[0m\u001b[0mnlines\u001b[0m\u001b[1;33m\u001b[0m\u001b[0m\n",
      "\u001b[1;31mValueError\u001b[0m: 'nlines' cannot be zero, check vecstr in 'get_naos_nmos'"
     ]
    }
   ],
   "source": [
    "mos = gdp.get_orbitals('hf')\n",
    "mos.shape"
   ]
  },
  {
   "cell_type": "markdown",
   "metadata": {},
   "source": [
    "the orbitals can be printed as any array"
   ]
  },
  {
   "cell_type": "code",
   "execution_count": 7,
   "metadata": {
    "collapsed": false
   },
   "outputs": [
    {
     "ename": "NameError",
     "evalue": "name 'mos' is not defined",
     "output_type": "error",
     "traceback": [
      "\u001b[1;31m---------------------------------------------------------------------------\u001b[0m",
      "\u001b[1;31mNameError\u001b[0m                                 Traceback (most recent call last)",
      "\u001b[1;32m<ipython-input-7-293398b5b4f1>\u001b[0m in \u001b[0;36m<module>\u001b[1;34m()\u001b[0m\n\u001b[1;32m----> 1\u001b[1;33m \u001b[0mmos\u001b[0m\u001b[1;33m\u001b[0m\u001b[0m\n\u001b[0m",
      "\u001b[1;31mNameError\u001b[0m: name 'mos' is not defined"
     ]
    }
   ],
   "source": [
    "mos"
   ]
  },
  {
   "cell_type": "markdown",
   "metadata": {},
   "source": [
    "To print the first vector we can use a slice on numpy array, \n",
    "\n",
    "    Note: in python arrays are numbered from 0 not from 1"
   ]
  },
  {
   "cell_type": "code",
   "execution_count": 6,
   "metadata": {
    "collapsed": false
   },
   "outputs": [
    {
     "data": {
      "text/plain": [
       "array([ 0.18648279,  0.28367175,  0.13546836,  0.        ,  0.        ,\n",
       "        0.01205087,  0.        ,  0.        ,  0.01741547, -0.00041868,\n",
       "       -0.00041868,  0.00083736,  0.        ,  0.        ,  0.        ,\n",
       "        0.18648279,  0.28367175,  0.13546836,  0.        ,  0.        ,\n",
       "       -0.01205087,  0.        ,  0.        , -0.01741547, -0.00041868,\n",
       "       -0.00041868,  0.00083736,  0.        ,  0.        ,  0.        ])"
      ]
     },
     "execution_count": 6,
     "metadata": {},
     "output_type": "execute_result"
    }
   ],
   "source": [
    "mos[:, 0]"
   ]
  },
  {
   "cell_type": "markdown",
   "metadata": {},
   "source": [
    "We can also get the NO's if they are printed in the dat file using the `get_orbitals` method with `ci` as argument"
   ]
  },
  {
   "cell_type": "code",
   "execution_count": 7,
   "metadata": {
    "collapsed": false
   },
   "outputs": [
    {
     "data": {
      "text/plain": [
       "(30, 28)"
      ]
     },
     "execution_count": 7,
     "metadata": {},
     "output_type": "execute_result"
    }
   ],
   "source": [
    "nos = gdp.get_orbitals('ci')\n",
    "nos.shape"
   ]
  },
  {
   "cell_type": "code",
   "execution_count": 8,
   "metadata": {
    "collapsed": false
   },
   "outputs": [
    {
     "data": {
      "text/plain": [
       "array([ 0.19036396,  0.28656433,  0.13035434,  0.        ,  0.        ,\n",
       "        0.01163051,  0.        ,  0.        ,  0.01420725, -0.00035366,\n",
       "       -0.00035366,  0.00070732,  0.        ,  0.        ,  0.        ,\n",
       "        0.19036396,  0.28656433,  0.13035434,  0.        ,  0.        ,\n",
       "       -0.01163051,  0.        ,  0.        , -0.01420725, -0.00035366,\n",
       "       -0.00035366,  0.00070732,  0.        ,  0.        ,  0.        ])"
      ]
     },
     "execution_count": 8,
     "metadata": {},
     "output_type": "execute_result"
    }
   ],
   "source": [
    "nos[:, 0]"
   ]
  },
  {
   "cell_type": "code",
   "execution_count": 8,
   "metadata": {
    "collapsed": false
   },
   "outputs": [],
   "source": [
    "data = gdp.parse_data()"
   ]
  },
  {
   "cell_type": "code",
   "execution_count": 9,
   "metadata": {
    "collapsed": false
   },
   "outputs": [
    {
     "name": "stdout",
     "output_type": "stream",
     "text": [
      "1.0\n"
     ]
    }
   ],
   "source": [
    "print data['atoms'][0]['atomic']"
   ]
  },
  {
   "cell_type": "code",
   "execution_count": 10,
   "metadata": {
    "collapsed": false
   },
   "outputs": [
    {
     "name": "stdout",
     "output_type": "stream",
     "text": [
      "S       3\n",
      "     1             33.8700000000  0.00606800\n",
      "     2              5.0950000000  0.04530800\n",
      "     3              1.1590000000  0.20282200\n",
      "   S       1\n",
      "     1              0.3258000000  1.00000000\n",
      "   S       1\n",
      "     1              0.1027000000  1.00000000\n",
      "   P       1\n",
      "     1              1.4070000000  1.00000000\n",
      "   P       1\n",
      "     1              0.3880000000  1.00000000\n",
      "   D       1\n",
      "     1              1.0570000000  1.00000000\n"
     ]
    }
   ],
   "source": [
    "print data['atoms'][0]['basis']"
   ]
  },
  {
   "cell_type": "code",
   "execution_count": 11,
   "metadata": {
    "collapsed": false
   },
   "outputs": [
    {
     "name": "stdout",
     "output_type": "stream",
     "text": [
      "H\n"
     ]
    }
   ],
   "source": [
    "print data['atoms'][0]['label']"
   ]
  },
  {
   "cell_type": "code",
   "execution_count": 12,
   "metadata": {
    "collapsed": false
   },
   "outputs": [
    {
     "name": "stdout",
     "output_type": "stream",
     "text": [
      "DNH      2\n"
     ]
    }
   ],
   "source": [
    "print data['group']"
   ]
  },
  {
   "cell_type": "code",
   "execution_count": 13,
   "metadata": {
    "collapsed": false
   },
   "outputs": [
    {
     "name": "stdout",
     "output_type": "stream",
     "text": [
      "H2 cc-pVTZ\n"
     ]
    }
   ],
   "source": [
    "print data['title']"
   ]
  },
  {
   "cell_type": "code",
   "execution_count": null,
   "metadata": {
    "collapsed": true
   },
   "outputs": [],
   "source": []
  }
 ],
 "metadata": {
  "kernelspec": {
   "display_name": "Python 2",
   "language": "python",
   "name": "python2"
  },
  "language_info": {
   "codemirror_mode": {
    "name": "ipython",
    "version": 2
   },
   "file_extension": ".py",
   "mimetype": "text/x-python",
   "name": "python",
   "nbconvert_exporter": "python",
   "pygments_lexer": "ipython2",
   "version": "2.7.9"
  }
 },
 "nbformat": 4,
 "nbformat_minor": 0
}
