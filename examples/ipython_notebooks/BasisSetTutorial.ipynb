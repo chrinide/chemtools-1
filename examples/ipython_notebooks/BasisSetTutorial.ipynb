{
 "cells": [
  {
   "cell_type": "markdown",
   "metadata": {},
   "source": [
    "<h1 style=\"text-align:center\"> A short tutorial on the `basisset` module </h1>\n",
    "\n",
    "BasisSet class provides a handy format for storing and manipulating basis sets used in quantum chemistry.\n",
    "\n",
    "The BasisSet object has the following attributes\n",
    "* name\n",
    "* functions\n",
    "* element\n",
    "\n",
    "`functions` is a dictionary and should have the folowing structure:\n",
    "\n",
    "    {'s' : {'e'  : numpy.array([exp0, exp1, exp2, ...]),\n",
    "            'cf' : [\n",
    "                    numpy.array([(i00, c00), (i01, c01), (i02, c02) ...], dtype=[('idx', '<i4'), ('cc', '<f8')]),\n",
    "                    numpy.array([(i10, c10), (i11, c11), (i12, c12) ...], dtype=[('idx', '<i4'), ('cc', '<f8')]),\n",
    "                    ...\n",
    "                    ]\n",
    "            }\n",
    "     'p' : {'e'  : numpy.array([exp0, exp1, exp2, ...]),\n",
    "            'cf' : [\n",
    "                    numpy.array([(i00, c00), (i01, c01), (i02, c02) ...], dtype=[('idx', '<i4'), ('cc', '<f8')]),\n",
    "                    numpy.array([(i10, c10), (i11, c11), (i12, c12) ...], dtype=[('idx', '<i4'), ('cc', '<f8')]),\n",
    "                    ...\n",
    "                    ]\n",
    "            }\n",
    "      ...\n",
    "    }\n",
    "\n"
   ]
  },
  {
   "cell_type": "code",
   "execution_count": 1,
   "metadata": {
    "collapsed": false
   },
   "outputs": [],
   "source": [
    "from __future__ import print_function\n",
    "from chemtools.basisset import BasisSet"
   ]
  },
  {
   "cell_type": "markdown",
   "metadata": {},
   "source": [
    "<h1 style=\"text-align:center\"> Parsing basis sets </h1>"
   ]
  },
  {
   "cell_type": "markdown",
   "metadata": {},
   "source": [
    "At present the basis sets can be parsed from either [Molpro](https://www.molpro.net/) or [Gamess(US)](http://www.msg.ameslab.gov/gamess/) formats."
   ]
  },
  {
   "cell_type": "markdown",
   "metadata": {},
   "source": [
    "### `cc-pvdz` basis for Be in molpro format"
   ]
  },
  {
   "cell_type": "code",
   "execution_count": 19,
   "metadata": {
    "collapsed": false
   },
   "outputs": [],
   "source": [
    "mpstr = '''basis={\n",
    "!\n",
    "! BERYLLIUM       (9s,4p,1d) -> [3s,2p,1d]\n",
    "! BERYLLIUM       (9s,4p,1d) -> [3s,2p,1d]\n",
    "s, BE , 2940.0000000, 441.2000000, 100.5000000, 28.4300000, 9.1690000, 3.1960000, 1.1590000, 0.1811000, 0.0589000\n",
    "c, 1.8, 0.0006800, 0.0052360, 0.0266060, 0.0999930, 0.2697020, 0.4514690, 0.2950740, 0.0125870\n",
    "c, 1.8, -0.0001230, -0.0009660, -0.0048310, -0.0193140, -0.0532800, -0.1207230, -0.1334350, 0.5307670\n",
    "c, 9.9, 1\n",
    "p, BE , 3.6190000, 0.7110000, 0.1951000, 0.0601800\n",
    "c, 1.3, 0.0291110, 0.1693650, 0.5134580\n",
    "c, 4.4, 1\n",
    "d, BE , 0.2380000\n",
    "c, 1.1, 1\n",
    "}'''"
   ]
  },
  {
   "cell_type": "markdown",
   "metadata": {},
   "source": [
    "Construct a `BasisSet` instance from string"
   ]
  },
  {
   "cell_type": "code",
   "execution_count": 20,
   "metadata": {
    "collapsed": false
   },
   "outputs": [],
   "source": [
    "pvdz = BasisSet.from_str(mpstr, fmt='molpro', name='cc-pvdz')"
   ]
  },
  {
   "cell_type": "code",
   "execution_count": 21,
   "metadata": {
    "collapsed": false
   },
   "outputs": [
    {
     "data": {
      "text/plain": [
       "<BasisSet(\n",
       "\tname                 = cc-pvdz\n",
       "\telement              = Be\n",
       "\tfamily               = None\n",
       "\tkind                 = None\n",
       "\n",
       "================s shell=================\n",
       "Contracted:\n",
       "     2940.0000000000     0.00068000    -0.00012300\n",
       "      441.2000000000     0.00523600    -0.00096600\n",
       "      100.5000000000     0.02660600    -0.00483100\n",
       "       28.4300000000     0.09999300    -0.01931400\n",
       "        9.1690000000     0.26970200    -0.05328000\n",
       "        3.1960000000     0.45146900    -0.12072300\n",
       "        1.1590000000     0.29507400    -0.13343500\n",
       "        0.1811000000     0.01258700     0.53076700\n",
       "Uncontracted:\n",
       "        0.0589000000     1.00000000\n",
       "\n",
       "================p shell=================\n",
       "Contracted:\n",
       "        3.6190000000     0.02911100\n",
       "        0.7110000000     0.16936500\n",
       "        0.1951000000     0.51345800\n",
       "Uncontracted:\n",
       "        0.0601800000     1.00000000\n",
       "\n",
       "================d shell=================\n",
       "Uncontracted:\n",
       "        0.2380000000     1.00000000\n",
       ")>"
      ]
     },
     "execution_count": 21,
     "metadata": {},
     "output_type": "execute_result"
    }
   ],
   "source": [
    "pvdz"
   ]
  },
  {
   "cell_type": "markdown",
   "metadata": {},
   "source": [
    "Now we can print the specified attributes"
   ]
  },
  {
   "cell_type": "code",
   "execution_count": 5,
   "metadata": {
    "collapsed": false
   },
   "outputs": [
    {
     "data": {
      "text/plain": [
       "'cc-pvdz'"
      ]
     },
     "execution_count": 5,
     "metadata": {},
     "output_type": "execute_result"
    }
   ],
   "source": [
    "pvdz.name"
   ]
  },
  {
   "cell_type": "code",
   "execution_count": 6,
   "metadata": {
    "collapsed": false
   },
   "outputs": [
    {
     "data": {
      "text/plain": [
       "'Be'"
      ]
     },
     "execution_count": 6,
     "metadata": {},
     "output_type": "execute_result"
    }
   ],
   "source": [
    "pvdz.element"
   ]
  },
  {
   "cell_type": "markdown",
   "metadata": {},
   "source": [
    "and apply some common methods "
   ]
  },
  {
   "cell_type": "code",
   "execution_count": 7,
   "metadata": {
    "collapsed": false
   },
   "outputs": [
    {
     "data": {
      "text/plain": [
       "'(9s4p1d) -> [3s2p1d] : {8 8 1/3 1/1}'"
      ]
     },
     "execution_count": 7,
     "metadata": {},
     "output_type": "execute_result"
    }
   ],
   "source": [
    "pvdz.contraction_scheme()"
   ]
  },
  {
   "cell_type": "code",
   "execution_count": 8,
   "metadata": {
    "collapsed": false
   },
   "outputs": [
    {
     "data": {
      "text/plain": [
       "'unknown'"
      ]
     },
     "execution_count": 8,
     "metadata": {},
     "output_type": "execute_result"
    }
   ],
   "source": [
    "pvdz.contraction_type()"
   ]
  },
  {
   "cell_type": "code",
   "execution_count": 31,
   "metadata": {
    "collapsed": false
   },
   "outputs": [
    {
     "data": {
      "text/plain": [
       "14"
      ]
     },
     "execution_count": 31,
     "metadata": {},
     "output_type": "execute_result"
    }
   ],
   "source": [
    "pvdz.nf()"
   ]
  },
  {
   "cell_type": "code",
   "execution_count": 32,
   "metadata": {
    "collapsed": false
   },
   "outputs": [
    {
     "data": {
      "text/plain": [
       "15"
      ]
     },
     "execution_count": 32,
     "metadata": {},
     "output_type": "execute_result"
    }
   ],
   "source": [
    "pvdz.nf(spherical=False)"
   ]
  },
  {
   "cell_type": "markdown",
   "metadata": {},
   "source": [
    "### `cc-pvdz` for Be in Gamess(US) format"
   ]
  },
  {
   "cell_type": "code",
   "execution_count": 8,
   "metadata": {
    "collapsed": true
   },
   "outputs": [],
   "source": [
    "gamstr = '''$DATA\n",
    "BERYLLIUM\n",
    "S   8\n",
    "  1   2940.0000000              0.0006800        \n",
    "  2    441.2000000              0.0052360        \n",
    "  3    100.5000000              0.0266060        \n",
    "  4     28.4300000              0.0999930        \n",
    "  5      9.1690000              0.2697020        \n",
    "  6      3.1960000              0.4514690        \n",
    "  7      1.1590000              0.2950740        \n",
    "  8      0.1811000              0.0125870        \n",
    "S   8\n",
    "  1   2940.0000000             -0.0001230        \n",
    "  2    441.2000000             -0.0009660        \n",
    "  3    100.5000000             -0.0048310        \n",
    "  4     28.4300000             -0.0193140        \n",
    "  5      9.1690000             -0.0532800        \n",
    "  6      3.1960000             -0.1207230        \n",
    "  7      1.1590000             -0.1334350        \n",
    "  8      0.1811000              0.5307670        \n",
    "S   1\n",
    "  1      0.0589000              1.0000000        \n",
    "P   3\n",
    "  1      3.6190000              0.0291110        \n",
    "  2      0.7110000              0.1693650        \n",
    "  3      0.1951000              0.5134580        \n",
    "P   1\n",
    "  1      0.0601800              1.0000000        \n",
    "D   1\n",
    "  1      0.2380000              1.0000000        \n",
    "$END\n",
    "'''"
   ]
  },
  {
   "cell_type": "code",
   "execution_count": 9,
   "metadata": {
    "collapsed": true
   },
   "outputs": [],
   "source": [
    "pvdzg = BasisSet.from_str(gamstr, fmt='gamessus', name='cc-pvdz') "
   ]
  },
  {
   "cell_type": "code",
   "execution_count": 15,
   "metadata": {
    "collapsed": false
   },
   "outputs": [
    {
     "data": {
      "text/plain": [
       "<BasisSet(\n",
       "\tname                 = cc-pvdz\n",
       "\telement              = Be\n",
       "\tfamily               = None\n",
       "\tkind                 = None\n",
       "\n",
       "================s shell=================\n",
       "Contracted:\n",
       "     2940.0000000000     0.00068000    -0.00012300\n",
       "      441.2000000000     0.00523600    -0.00096600\n",
       "      100.5000000000     0.02660600    -0.00483100\n",
       "       28.4300000000     0.09999300    -0.01931400\n",
       "        9.1690000000     0.26970200    -0.05328000\n",
       "        3.1960000000     0.45146900    -0.12072300\n",
       "        1.1590000000     0.29507400    -0.13343500\n",
       "        0.1811000000     0.01258700     0.53076700\n",
       "Uncontracted:\n",
       "        0.0589000000     1.00000000\n",
       "\n",
       "================p shell=================\n",
       "Contracted:\n",
       "        3.6190000000     0.02911100\n",
       "        0.7110000000     0.16936500\n",
       "        0.1951000000     0.51345800\n",
       "Uncontracted:\n",
       "        0.0601800000     1.00000000\n",
       "\n",
       "================d shell=================\n",
       "Uncontracted:\n",
       "        0.2380000000     1.00000000\n",
       ")>"
      ]
     },
     "execution_count": 15,
     "metadata": {},
     "output_type": "execute_result"
    }
   ],
   "source": [
    "pvdzg"
   ]
  },
  {
   "cell_type": "markdown",
   "metadata": {},
   "source": [
    "<h1 style=\"text-align:center\">Conversion to formats of different quantum chemistry programs </h1>"
   ]
  },
  {
   "cell_type": "markdown",
   "metadata": {},
   "source": [
    "Gaussian format"
   ]
  },
  {
   "cell_type": "code",
   "execution_count": 11,
   "metadata": {
    "collapsed": false
   },
   "outputs": [
    {
     "name": "stdout",
     "output_type": "stream",
     "text": [
      "****\n",
      "Be     0\n",
      "S   8   1.00\n",
      "     2940.0000000000     0.00068000\n",
      "      441.2000000000     0.00523600\n",
      "      100.5000000000     0.02660600\n",
      "       28.4300000000     0.09999300\n",
      "        9.1690000000     0.26970200\n",
      "        3.1960000000     0.45146900\n",
      "        1.1590000000     0.29507400\n",
      "        0.1811000000     0.01258700\n",
      "S   8   1.00\n",
      "     2940.0000000000    -0.00012300\n",
      "      441.2000000000    -0.00096600\n",
      "      100.5000000000    -0.00483100\n",
      "       28.4300000000    -0.01931400\n",
      "        9.1690000000    -0.05328000\n",
      "        3.1960000000    -0.12072300\n",
      "        1.1590000000    -0.13343500\n",
      "        0.1811000000     0.53076700\n",
      "S   1   1.00\n",
      "        0.0589000000     1.00000000\n",
      "P   3   1.00\n",
      "        3.6190000000     0.02911100\n",
      "        0.7110000000     0.16936500\n",
      "        0.1951000000     0.51345800\n",
      "P   1   1.00\n",
      "        0.0601800000     1.00000000\n",
      "D   1   1.00\n",
      "        0.2380000000     1.00000000\n",
      "****\n",
      "\n"
     ]
    }
   ],
   "source": [
    "print(pvdz.to_gaussian())"
   ]
  },
  {
   "cell_type": "markdown",
   "metadata": {},
   "source": [
    "NwChem format"
   ]
  },
  {
   "cell_type": "code",
   "execution_count": 12,
   "metadata": {
    "collapsed": false
   },
   "outputs": [
    {
     "name": "stdout",
     "output_type": "stream",
     "text": [
      "BASIS \"ao basis\" PRINT\n",
      "Be s\n",
      "     2940.0000000000     0.00068000    -0.00012300\n",
      "      441.2000000000     0.00523600    -0.00096600\n",
      "      100.5000000000     0.02660600    -0.00483100\n",
      "       28.4300000000     0.09999300    -0.01931400\n",
      "        9.1690000000     0.26970200    -0.05328000\n",
      "        3.1960000000     0.45146900    -0.12072300\n",
      "        1.1590000000     0.29507400    -0.13343500\n",
      "        0.1811000000     0.01258700     0.53076700\n",
      "Be s\n",
      "        0.0589000000     1.00000000\n",
      "Be p\n",
      "        3.6190000000     0.02911100\n",
      "        0.7110000000     0.16936500\n",
      "        0.1951000000     0.51345800\n",
      "Be p\n",
      "        0.0601800000     1.00000000\n",
      "Be d\n",
      "        0.2380000000     1.00000000\n",
      "END\n",
      "\n"
     ]
    }
   ],
   "source": [
    "print(pvdz.to_nwchem())"
   ]
  },
  {
   "cell_type": "markdown",
   "metadata": {},
   "source": [
    "Cfour/AcesII format"
   ]
  },
  {
   "cell_type": "code",
   "execution_count": 13,
   "metadata": {
    "collapsed": false
   },
   "outputs": [
    {
     "name": "stdout",
     "output_type": "stream",
     "text": [
      "\n",
      "Be:cc-pvdz\n",
      "komentarz\n",
      "\n",
      "  3\n",
      "    0    1    2\n",
      "    3    2    1\n",
      "    9    4    1\n",
      "\n",
      "  2940.00000000   441.20000000   100.50000000    28.43000000     9.16900000\n",
      "     3.19600000     1.15900000     0.18110000     0.05890000\n",
      "\n",
      "     0.00068000    -0.00012300     0.00000000\n",
      "     0.00523600    -0.00096600     0.00000000\n",
      "     0.02660600    -0.00483100     0.00000000\n",
      "     0.09999300    -0.01931400     0.00000000\n",
      "     0.26970200    -0.05328000     0.00000000\n",
      "     0.45146900    -0.12072300     0.00000000\n",
      "     0.29507400    -0.13343500     0.00000000\n",
      "     0.01258700     0.53076700     0.00000000\n",
      "     0.00000000     0.00000000     1.00000000\n",
      "\n",
      "     3.61900000     0.71100000     0.19510000     0.06018000\n",
      "\n",
      "     0.02911100     0.00000000\n",
      "     0.16936500     0.00000000\n",
      "     0.51345800     0.00000000\n",
      "     0.00000000     1.00000000\n",
      "\n",
      "     0.23800000\n",
      "\n",
      "     1.00000000\n",
      "\n",
      "\n"
     ]
    }
   ],
   "source": [
    "print(pvdz.to_cfour(comment=\"komentarz\"))"
   ]
  },
  {
   "cell_type": "markdown",
   "metadata": {},
   "source": [
    "Dalton format"
   ]
  },
  {
   "cell_type": "code",
   "execution_count": 14,
   "metadata": {
    "collapsed": false
   },
   "outputs": [
    {
     "name": "stdout",
     "output_type": "stream",
     "text": [
      "! cc-pvdz\n",
      "! s functions\n",
      "F   9   3\n",
      "     2940.0000000000     0.00068000    -0.00012300     0.00000000\n",
      "      441.2000000000     0.00523600    -0.00096600     0.00000000\n",
      "      100.5000000000     0.02660600    -0.00483100     0.00000000\n",
      "       28.4300000000     0.09999300    -0.01931400     0.00000000\n",
      "        9.1690000000     0.26970200    -0.05328000     0.00000000\n",
      "        3.1960000000     0.45146900    -0.12072300     0.00000000\n",
      "        1.1590000000     0.29507400    -0.13343500     0.00000000\n",
      "        0.1811000000     0.01258700     0.53076700     0.00000000\n",
      "        0.0589000000     0.00000000     0.00000000     1.00000000\n",
      "! p functions\n",
      "F   4   2\n",
      "        3.6190000000     0.02911100     0.00000000\n",
      "        0.7110000000     0.16936500     0.00000000\n",
      "        0.1951000000     0.51345800     0.00000000\n",
      "        0.0601800000     0.00000000     1.00000000\n",
      "! d functions\n",
      "F   1   1\n",
      "        0.2380000000     1.00000000\n",
      "\n"
     ]
    }
   ],
   "source": [
    "print(pvdz.to_dalton())"
   ]
  },
  {
   "cell_type": "markdown",
   "metadata": {},
   "source": [
    "Gamess(US) format"
   ]
  },
  {
   "cell_type": "code",
   "execution_count": 15,
   "metadata": {
    "collapsed": false
   },
   "outputs": [
    {
     "name": "stdout",
     "output_type": "stream",
     "text": [
      "S  8\n",
      "  1     2940.0000000000     0.00068000\n",
      "  2      441.2000000000     0.00523600\n",
      "  3      100.5000000000     0.02660600\n",
      "  4       28.4300000000     0.09999300\n",
      "  5        9.1690000000     0.26970200\n",
      "  6        3.1960000000     0.45146900\n",
      "  7        1.1590000000     0.29507400\n",
      "  8        0.1811000000     0.01258700\n",
      "S  8\n",
      "  1     2940.0000000000    -0.00012300\n",
      "  2      441.2000000000    -0.00096600\n",
      "  3      100.5000000000    -0.00483100\n",
      "  4       28.4300000000    -0.01931400\n",
      "  5        9.1690000000    -0.05328000\n",
      "  6        3.1960000000    -0.12072300\n",
      "  7        1.1590000000    -0.13343500\n",
      "  8        0.1811000000     0.53076700\n",
      "S  1\n",
      "  1        0.0589000000     1.00000000\n",
      "P  3\n",
      "  1        3.6190000000     0.02911100\n",
      "  2        0.7110000000     0.16936500\n",
      "  3        0.1951000000     0.51345800\n",
      "P  1\n",
      "  1        0.0601800000     1.00000000\n",
      "D  1\n",
      "  1        0.2380000000     1.00000000\n",
      "\n",
      "\n"
     ]
    }
   ],
   "source": [
    "print(pvdz.to_gamessus())"
   ]
  },
  {
   "cell_type": "markdown",
   "metadata": {},
   "source": [
    "Molpro format"
   ]
  },
  {
   "cell_type": "code",
   "execution_count": 16,
   "metadata": {
    "collapsed": false
   },
   "outputs": [
    {
     "name": "stdout",
     "output_type": "stream",
     "text": [
      "basis={\n",
      "s, Be, 2940.0000000000, 441.2000000000, 100.5000000000, 28.4300000000, 9.1690000000, 3.1960000000, 1.1590000000, 0.1811000000, 0.0589000000\n",
      "c, 1.8, 0.00068000, 0.00523600, 0.02660600, 0.09999300, 0.26970200, 0.45146900, 0.29507400, 0.01258700\n",
      "c, 1.8, -0.00012300, -0.00096600, -0.00483100, -0.01931400, -0.05328000, -0.12072300, -0.13343500, 0.53076700\n",
      "c, 9.9, 1.00000000\n",
      "p, Be, 3.6190000000, 0.7110000000, 0.1951000000, 0.0601800000\n",
      "c, 1.3, 0.02911100, 0.16936500, 0.51345800\n",
      "c, 4.4, 1.00000000\n",
      "d, Be, 0.2380000000\n",
      "c, 1.1, 1.00000000\n",
      "}\n"
     ]
    }
   ],
   "source": [
    "print(pvdz.to_molpro(pars=True))"
   ]
  },
  {
   "cell_type": "markdown",
   "metadata": {},
   "source": [
    "## Sorting\n",
    "\n",
    "Each shell of the `BasisSet` can be sorted with respect to the exponents, the default order is descending"
   ]
  },
  {
   "cell_type": "code",
   "execution_count": 16,
   "metadata": {
    "collapsed": false
   },
   "outputs": [
    {
     "data": {
      "text/plain": [
       "<BasisSet(\n",
       "\tname                 = cc-pvdz\n",
       "\telement              = Be\n",
       "\tfamily               = None\n",
       "\tkind                 = None\n",
       "\n",
       "================s shell=================\n",
       "Contracted:\n",
       "     2940.0000000000     0.00068000    -0.00012300\n",
       "      441.2000000000     0.00523600    -0.00096600\n",
       "      100.5000000000     0.02660600    -0.00483100\n",
       "       28.4300000000     0.09999300    -0.01931400\n",
       "        9.1690000000     0.26970200    -0.05328000\n",
       "        3.1960000000     0.45146900    -0.12072300\n",
       "        1.1590000000     0.29507400    -0.13343500\n",
       "        0.1811000000     0.01258700     0.53076700\n",
       "Uncontracted:\n",
       "        0.0589000000     1.00000000\n",
       "\n",
       "================p shell=================\n",
       "Contracted:\n",
       "        3.6190000000     0.02911100\n",
       "        0.7110000000     0.16936500\n",
       "        0.1951000000     0.51345800\n",
       "Uncontracted:\n",
       "        0.0601800000     1.00000000\n",
       "\n",
       "================d shell=================\n",
       "Uncontracted:\n",
       "        0.2380000000     1.00000000\n",
       ")>"
      ]
     },
     "execution_count": 16,
     "metadata": {},
     "output_type": "execute_result"
    }
   ],
   "source": [
    "pvdz.sort()\n",
    "pvdz"
   ]
  },
  {
   "cell_type": "markdown",
   "metadata": {},
   "source": [
    "the basis set was already sorted so there is no difference but we can also sort in ascending order to see the result"
   ]
  },
  {
   "cell_type": "code",
   "execution_count": 18,
   "metadata": {
    "collapsed": false
   },
   "outputs": [
    {
     "data": {
      "text/plain": [
       "<BasisSet(\n",
       "\tname                 = cc-pvdz\n",
       "\telement              = Be\n",
       "\tfamily               = None\n",
       "\tkind                 = None\n",
       "\n",
       "================s shell=================\n",
       "Contracted:\n",
       "        0.1811000000     0.01258700     0.53076700\n",
       "        1.1590000000     0.29507400    -0.13343500\n",
       "        3.1960000000     0.45146900    -0.12072300\n",
       "        9.1690000000     0.26970200    -0.05328000\n",
       "       28.4300000000     0.09999300    -0.01931400\n",
       "      100.5000000000     0.02660600    -0.00483100\n",
       "      441.2000000000     0.00523600    -0.00096600\n",
       "     2940.0000000000     0.00068000    -0.00012300\n",
       "Uncontracted:\n",
       "        0.0589000000     1.00000000\n",
       "\n",
       "================p shell=================\n",
       "Contracted:\n",
       "        0.1951000000     0.51345800\n",
       "        0.7110000000     0.16936500\n",
       "        3.6190000000     0.02911100\n",
       "Uncontracted:\n",
       "        0.0601800000     1.00000000\n",
       "\n",
       "================d shell=================\n",
       "Uncontracted:\n",
       "        0.2380000000     1.00000000\n",
       ")>"
      ]
     },
     "execution_count": 18,
     "metadata": {},
     "output_type": "execute_result"
    }
   ],
   "source": [
    "pvdz.sort(reverse=True)\n",
    "pvdz"
   ]
  },
  {
   "cell_type": "markdown",
   "metadata": {},
   "source": [
    "## Mergin basis sets\n",
    "\n",
    "For exmaple diffuse functions can be added to the existing BasisSet object"
   ]
  },
  {
   "cell_type": "code",
   "execution_count": 22,
   "metadata": {
    "collapsed": false
   },
   "outputs": [],
   "source": [
    "augstr = '''! aug-cc-pVDZ\n",
    "\n",
    "basis={\n",
    "\n",
    "s,Be,1.790000E-02;\n",
    "c,1.1,1.000000E+00;\n",
    "\n",
    "p,Be,1.110000E-02;\n",
    "c,1.1,1.000000E+00;\n",
    "\n",
    "d,Be,7.220000E-02;\n",
    "c,1.1,1.000000E+00;\n",
    "\n",
    "}'''"
   ]
  },
  {
   "cell_type": "code",
   "execution_count": 23,
   "metadata": {
    "collapsed": false
   },
   "outputs": [],
   "source": [
    "aug = BasisSet.from_str(augstr, fmt='molpro', name='aug functions')"
   ]
  },
  {
   "cell_type": "code",
   "execution_count": 24,
   "metadata": {
    "collapsed": false
   },
   "outputs": [
    {
     "name": "stdout",
     "output_type": "stream",
     "text": [
      "S  1\n",
      "  1        0.0179000000     1.00000000\n",
      "P  1\n",
      "  1        0.0111000000     1.00000000\n",
      "D  1\n",
      "  1        0.0722000000     1.00000000\n",
      "\n",
      "\n"
     ]
    }
   ],
   "source": [
    "print(aug.to_gamessus())"
   ]
  },
  {
   "cell_type": "code",
   "execution_count": 25,
   "metadata": {
    "collapsed": false
   },
   "outputs": [],
   "source": [
    "apvdz = pvdz + aug"
   ]
  },
  {
   "cell_type": "code",
   "execution_count": 26,
   "metadata": {
    "collapsed": false
   },
   "outputs": [
    {
     "data": {
      "text/plain": [
       "<BasisSet(\n",
       "\tname                 = cc-pvdz\n",
       "\telement              = Be\n",
       "\tfamily               = None\n",
       "\tkind                 = None\n",
       "\n",
       "================s shell=================\n",
       "Contracted:\n",
       "     2940.0000000000     0.00068000    -0.00012300\n",
       "      441.2000000000     0.00523600    -0.00096600\n",
       "      100.5000000000     0.02660600    -0.00483100\n",
       "       28.4300000000     0.09999300    -0.01931400\n",
       "        9.1690000000     0.26970200    -0.05328000\n",
       "        3.1960000000     0.45146900    -0.12072300\n",
       "        1.1590000000     0.29507400    -0.13343500\n",
       "        0.1811000000     0.01258700     0.53076700\n",
       "Uncontracted:\n",
       "        0.0589000000     1.00000000\n",
       "        0.0179000000     1.00000000\n",
       "\n",
       "================p shell=================\n",
       "Contracted:\n",
       "        3.6190000000     0.02911100\n",
       "        0.7110000000     0.16936500\n",
       "        0.1951000000     0.51345800\n",
       "Uncontracted:\n",
       "        0.0601800000     1.00000000\n",
       "        0.0111000000     1.00000000\n",
       "\n",
       "================d shell=================\n",
       "Uncontracted:\n",
       "        0.2380000000     1.00000000\n",
       "        0.0722000000     1.00000000\n",
       ")>"
      ]
     },
     "execution_count": 26,
     "metadata": {},
     "output_type": "execute_result"
    }
   ],
   "source": [
    "apvdz"
   ]
  },
  {
   "cell_type": "code",
   "execution_count": 23,
   "metadata": {
    "collapsed": false
   },
   "outputs": [
    {
     "name": "stdout",
     "output_type": "stream",
     "text": [
      "S  8\n",
      "  1     2940.0000000000     0.00068000\n",
      "  2      441.2000000000     0.00523600\n",
      "  3      100.5000000000     0.02660600\n",
      "  4       28.4300000000     0.09999300\n",
      "  5        9.1690000000     0.26970200\n",
      "  6        3.1960000000     0.45146900\n",
      "  7        1.1590000000     0.29507400\n",
      "  8        0.1811000000     0.01258700\n",
      "S  8\n",
      "  1     2940.0000000000    -0.00012300\n",
      "  2      441.2000000000    -0.00096600\n",
      "  3      100.5000000000    -0.00483100\n",
      "  4       28.4300000000    -0.01931400\n",
      "  5        9.1690000000    -0.05328000\n",
      "  6        3.1960000000    -0.12072300\n",
      "  7        1.1590000000    -0.13343500\n",
      "  8        0.1811000000     0.53076700\n",
      "S  1\n",
      "  1        0.0589000000     1.00000000\n",
      "P  3\n",
      "  1        3.6190000000     0.02911100\n",
      "  2        0.7110000000     0.16936500\n",
      "  3        0.1951000000     0.51345800\n",
      "P  1\n",
      "  1        0.0601800000     1.00000000\n",
      "D  1\n",
      "  1        0.2380000000     1.00000000\n",
      "\n",
      "\n"
     ]
    }
   ],
   "source": [
    "print(pvdz.to_gamessus())"
   ]
  },
  {
   "cell_type": "code",
   "execution_count": 24,
   "metadata": {
    "collapsed": false
   },
   "outputs": [
    {
     "name": "stdout",
     "output_type": "stream",
     "text": [
      "S  1\n",
      "  1        0.0179000000     1.00000000\n",
      "P  1\n",
      "  1        0.0111000000     1.00000000\n",
      "D  1\n",
      "  1        0.0722000000     1.00000000\n",
      "\n",
      "\n"
     ]
    }
   ],
   "source": [
    "print(aug.to_gamessus())"
   ]
  },
  {
   "cell_type": "markdown",
   "metadata": {},
   "source": [
    "<h1 style=\"text-align:center\"> Initialize a basis set from a sequence </h1>\n",
    "\n",
    "The BasisSet exponents can be generated from following sequences:\n",
    "* even tempered\n",
    "* well tempered\n",
    "* legendre expansion\n",
    "\n",
    "To generate the exponents `from_sequence` classmethod is used. The arguments that have to be specified are\n",
    "* `formula` describing the sequence, one of *eventemp*, *welltemp*, *legendre*, can be a single value or a list of values with the same length as `funcs`\n",
    "* `name` of the basis set\n",
    "* `element`\n",
    "* `funcs` a list of 3-tuples, where the tuple elements are *shell*, *number of functions*, *parameters*"
   ]
  },
  {
   "cell_type": "markdown",
   "metadata": {},
   "source": [
    "## even tempered"
   ]
  },
  {
   "cell_type": "markdown",
   "metadata": {},
   "source": [
    "10 `s` functions with $\\alpha=0.5$ and $\\beta=2.0$"
   ]
  },
  {
   "cell_type": "code",
   "execution_count": 25,
   "metadata": {
    "collapsed": false
   },
   "outputs": [
    {
     "name": "stdout",
     "output_type": "stream",
     "text": [
      "BASIS \"ao basis\" PRINT\n",
      "Be s\n",
      "      256.0000000000     1.00000000\n",
      "Be s\n",
      "      128.0000000000     1.00000000\n",
      "Be s\n",
      "       64.0000000000     1.00000000\n",
      "Be s\n",
      "       32.0000000000     1.00000000\n",
      "Be s\n",
      "       16.0000000000     1.00000000\n",
      "Be s\n",
      "        8.0000000000     1.00000000\n",
      "Be s\n",
      "        4.0000000000     1.00000000\n",
      "Be s\n",
      "        2.0000000000     1.00000000\n",
      "Be s\n",
      "        1.0000000000     1.00000000\n",
      "Be s\n",
      "        0.5000000000     1.00000000\n",
      "END\n",
      "\n"
     ]
    }
   ],
   "source": [
    "et = BasisSet.from_sequence(formula='eventemp', name='my basis', element='Be', functs=[('s', 10, (0.5, 2.0))])\n",
    "print(et.to_nwchem())"
   ]
  },
  {
   "cell_type": "markdown",
   "metadata": {},
   "source": [
    "8 *s* functions with $\\alpha=0.8$, $\\beta=2.5$ and 6 *p* functions with $\\alpha=0.2$, $\\beta=3.0$"
   ]
  },
  {
   "cell_type": "code",
   "execution_count": 26,
   "metadata": {
    "collapsed": false
   },
   "outputs": [
    {
     "name": "stdout",
     "output_type": "stream",
     "text": [
      "S  1\n",
      "  1      488.2812500000     1.00000000\n",
      "S  1\n",
      "  1      195.3125000000     1.00000000\n",
      "S  1\n",
      "  1       78.1250000000     1.00000000\n",
      "S  1\n",
      "  1       31.2500000000     1.00000000\n",
      "S  1\n",
      "  1       12.5000000000     1.00000000\n",
      "S  1\n",
      "  1        5.0000000000     1.00000000\n",
      "S  1\n",
      "  1        2.0000000000     1.00000000\n",
      "S  1\n",
      "  1        0.8000000000     1.00000000\n",
      "P  1\n",
      "  1       48.6000000000     1.00000000\n",
      "P  1\n",
      "  1       16.2000000000     1.00000000\n",
      "P  1\n",
      "  1        5.4000000000     1.00000000\n",
      "P  1\n",
      "  1        1.8000000000     1.00000000\n",
      "P  1\n",
      "  1        0.6000000000     1.00000000\n",
      "P  1\n",
      "  1        0.2000000000     1.00000000\n",
      "\n",
      "\n"
     ]
    }
   ],
   "source": [
    "et = BasisSet.from_sequence(formula='eventemp', name='my basis', element='Be',\n",
    "                            functs=[('s', 8, (0.8, 2.5)), ('p', 6, (0.2, 3.0))])\n",
    "print(et.to_gamessus())"
   ]
  },
  {
   "cell_type": "markdown",
   "metadata": {},
   "source": [
    "## well tempered "
   ]
  },
  {
   "cell_type": "code",
   "execution_count": 27,
   "metadata": {
    "collapsed": false
   },
   "outputs": [
    {
     "name": "stdout",
     "output_type": "stream",
     "text": [
      "P  1\n",
      "  1       30.4000000000     1.00000000\n",
      "P  1\n",
      "  1       13.7851550240     1.00000000\n",
      "P  1\n",
      "  1        6.2130589876     1.00000000\n",
      "P  1\n",
      "  1        2.7834955070     1.00000000\n",
      "P  1\n",
      "  1        1.2408224685     1.00000000\n",
      "P  1\n",
      "  1        0.5524120339     1.00000000\n",
      "\n",
      "\n"
     ]
    }
   ],
   "source": [
    "wt = BasisSet.from_sequence(formula='welltemp', name='my basis', element='Be', functs=[('p', 6, (0.5, 2.0, 0.9, 1.2))])\n",
    "print(wt.to_gamessus())"
   ]
  },
  {
   "cell_type": "markdown",
   "metadata": {},
   "source": [
    "## legendre"
   ]
  },
  {
   "cell_type": "code",
   "execution_count": 28,
   "metadata": {
    "collapsed": false
   },
   "outputs": [
    {
     "name": "stdout",
     "output_type": "stream",
     "text": [
      "D  1\n",
      "  1       12.1824939607     1.00000000\n",
      "D  1\n",
      "  1        6.8796751109     1.00000000\n",
      "D  1\n",
      "  1        3.8850772086     1.00000000\n",
      "D  1\n",
      "  1        2.1939735051     1.00000000\n",
      "D  1\n",
      "  1        1.2389765975     1.00000000\n",
      "D  1\n",
      "  1        0.6996725374     1.00000000\n",
      "D  1\n",
      "  1        0.3951177613     1.00000000\n",
      "D  1\n",
      "  1        0.2231301601     1.00000000\n",
      "\n",
      "\n"
     ]
    }
   ],
   "source": [
    "leg = BasisSet.from_sequence(formula='legendre', name='my basis', element='Be', functs=[('d', 8, (0.5, 2.0))])\n",
    "print(leg.to_gamessus())"
   ]
  },
  {
   "cell_type": "markdown",
   "metadata": {},
   "source": [
    "## mixed"
   ]
  },
  {
   "cell_type": "code",
   "execution_count": 29,
   "metadata": {
    "collapsed": false
   },
   "outputs": [
    {
     "name": "stdout",
     "output_type": "stream",
     "text": [
      "S  1\n",
      "  1      512.0000000000     1.00000000\n",
      "S  1\n",
      "  1      128.0000000000     1.00000000\n",
      "S  1\n",
      "  1       32.0000000000     1.00000000\n",
      "S  1\n",
      "  1        8.0000000000     1.00000000\n",
      "S  1\n",
      "  1        2.0000000000     1.00000000\n",
      "S  1\n",
      "  1        0.5000000000     1.00000000\n",
      "P  1\n",
      "  1       43.7400000000     1.00000000\n",
      "P  1\n",
      "  1       12.6882653049     1.00000000\n",
      "P  1\n",
      "  1        3.6401946084     1.00000000\n",
      "P  1\n",
      "  1        1.0364144910     1.00000000\n",
      "D  1\n",
      "  1       33.1154519587     1.00000000\n",
      "D  1\n",
      "  1        6.2547009519     1.00000000\n",
      "D  1\n",
      "  1        1.1813604129     1.00000000\n",
      "D  1\n",
      "  1        0.2231301601     1.00000000\n",
      "\n",
      "\n"
     ]
    }
   ],
   "source": [
    "basis = BasisSet.from_sequence(name='composite', element='He', formula=['eventemp', 'welltemp', 'legendre'],\n",
    "                              functs=[('s', 6, (0.5, 4.0)), ('p', 4, (0.9, 3.0, 0.8, 1.2)), ('d', 4, (1.0, 2.5))])\n",
    "print(basis.to_gamessus())"
   ]
  },
  {
   "cell_type": "code",
   "execution_count": 41,
   "metadata": {
    "collapsed": false
   },
   "outputs": [
    {
     "data": {
      "application/json": {
       "Software versions": [
        {
         "module": "Python",
         "version": "2.7.9 64bit [GCC 4.9.2]"
        },
        {
         "module": "IPython",
         "version": "3.1.0"
        },
        {
         "module": "OS",
         "version": "Linux 3.16.0 4 amd64 x86_64 with debian 8.1"
        },
        {
         "module": "chemtools",
         "version": "0.5.0"
        },
        {
         "module": "elements",
         "version": "0.1.0"
        },
        {
         "module": "scipy",
         "version": "0.15.1"
        },
        {
         "module": "numpy",
         "version": "1.8.2"
        }
       ]
      },
      "text/html": [
       "<table><tr><th>Software</th><th>Version</th></tr><tr><td>Python</td><td>2.7.9 64bit [GCC 4.9.2]</td></tr><tr><td>IPython</td><td>3.1.0</td></tr><tr><td>OS</td><td>Linux 3.16.0 4 amd64 x86_64 with debian 8.1</td></tr><tr><td>chemtools</td><td>0.5.0</td></tr><tr><td>elements</td><td>0.1.0</td></tr><tr><td>scipy</td><td>0.15.1</td></tr><tr><td>numpy</td><td>1.8.2</td></tr><tr><td colspan='2'>Tue Jun 23 01:49:03 2015 CEST</td></tr></table>"
      ],
      "text/latex": [
       "\\begin{tabular}{|l|l|}\\hline\n",
       "{\\bf Software} & {\\bf Version} \\\\ \\hline\\hline\n",
       "Python & 2.7.9 64bit [GCC 4.9.2] \\\\ \\hline\n",
       "IPython & 3.1.0 \\\\ \\hline\n",
       "OS & Linux 3.16.0 4 amd64 x86\\_64 with debian 8.1 \\\\ \\hline\n",
       "chemtools & 0.5.0 \\\\ \\hline\n",
       "elements & 0.1.0 \\\\ \\hline\n",
       "scipy & 0.15.1 \\\\ \\hline\n",
       "numpy & 1.8.2 \\\\ \\hline\n",
       "\\hline \\multicolumn{2}{|l|}{Tue Jun 23 01:49:03 2015 CEST} \\\\ \\hline\n",
       "\\end{tabular}\n"
      ],
      "text/plain": [
       "Software versions\n",
       "Python 2.7.9 64bit [GCC 4.9.2]\n",
       "IPython 3.1.0\n",
       "OS Linux 3.16.0 4 amd64 x86_64 with debian 8.1\n",
       "chemtools 0.5.0\n",
       "elements 0.1.0\n",
       "scipy 0.15.1\n",
       "numpy 1.8.2\n",
       "Tue Jun 23 01:49:03 2015 CEST"
      ]
     },
     "execution_count": 41,
     "metadata": {},
     "output_type": "execute_result"
    }
   ],
   "source": [
    "%version_information chemtools, elements, scipy, numpy"
   ]
  }
 ],
 "metadata": {
  "kernelspec": {
   "display_name": "Python 2",
   "language": "python",
   "name": "python2"
  },
  "language_info": {
   "codemirror_mode": {
    "name": "ipython",
    "version": 2
   },
   "file_extension": ".py",
   "mimetype": "text/x-python",
   "name": "python",
   "nbconvert_exporter": "python",
   "pygments_lexer": "ipython2",
   "version": "2.7.9"
  }
 },
 "nbformat": 4,
 "nbformat_minor": 0
}
