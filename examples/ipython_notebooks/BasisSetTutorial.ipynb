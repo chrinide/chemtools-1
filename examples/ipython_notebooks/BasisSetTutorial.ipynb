{
 "metadata": {
  "name": "",
  "signature": "sha256:c6b04aee32841b9b0d5b37a25382c18e5cdaa5f8ba7cb8434df0eb957e99d97b"
 },
 "nbformat": 3,
 "nbformat_minor": 0,
 "worksheets": [
  {
   "cells": [
    {
     "cell_type": "markdown",
     "metadata": {},
     "source": [
      "# This is a short tutorial on the BasisSet class\n",
      "\n",
      "BasisSet class provides a handy format for storing and manipulating basis sets used in quantum chemistry.\n",
      "\n",
      "The BasisSet object has the following attributes\n",
      "* name\n",
      "* functions\n",
      "* element\n",
      "\n",
      "`functions` is a dictionary and should have the folowing structure:\n",
      "\n",
      "    {'shell_1' : {'exponents'    : [exp_1, exp_2],\n",
      "                  'contractedfs' : [{'indices'      : [index_1-1, index_1-2, ...], \n",
      "                                     'coefficients' : [coeff_1-1, coeff_1-2, ...]},\n",
      "                                    {'indices'      : [index_2-1, index_2-2, ...], \n",
      "                                     'coefficients' : [coeff_2-1, coeff_2-2, ...]}, \n",
      "                                   ]\n",
      "                 }\n",
      "     'shell_2' : {'exponents'    : [exp_1, exp_2],\n",
      "                  'contractedfs' : [{'indices'      : [index_1-1, index_1-2, ...], \n",
      "                                     'coefficients' : [coeff_1-1, coeff_1-2, ...]},\n",
      "                                    {'indices'      : [index_2-1, index_2-2, ...], \n",
      "                                     'coefficients' : [coeff_2-1, coeff_2-2, ...]}, \n",
      "                                   ]\n",
      "                 }\n",
      "    }\n",
      "\n"
     ]
    },
    {
     "cell_type": "code",
     "collapsed": false,
     "input": [
      "from chemtools import basisset as bs"
     ],
     "language": "python",
     "metadata": {},
     "outputs": [],
     "prompt_number": 1
    },
    {
     "cell_type": "code",
     "collapsed": false,
     "input": [
      "from chemtools import molpro\n",
      "\n",
      "basstr = '''basis={\n",
      "!BAZA Petersona\n",
      "s,Be,2.940000E+03,4.412000E+02,1.005000E+02,2.843000E+01,9.169000E+00,3.196000E+00,1.159000E+00,1.811000E-01,5.890000E-02;\n",
      "c,1.9,6.800000E-04,5.236000E-03,2.660600E-02,9.999300E-02,2.697020E-01,4.514690E-01,2.950740E-01,1.258700E-02,-3.756000E-03;\n",
      "c,1.9,-1.230000E-04,-9.660000E-04,-4.831000E-03,-1.931400E-02,-5.328000E-02,-1.207230E-01,-1.334350E-01,5.307670E-01,5.801170E-01;\n",
      "c,9.9,1.000000E+00;\n",
      "\n",
      "p,Be,3.619000E+00,7.110000E-01,1.951000E-01,6.018000E-02;\n",
      "c,1.4,2.911100E-02,1.693650E-01,5.134580E-01,4.793380E-01;\n",
      "c,4.4,1.000000E+00;\n",
      "\n",
      "d,Be,2.354000E-01;\n",
      "c,1.1,1.000000E+00;\n",
      "}'''\n",
      "\n",
      "# parse the basis into the internal format\n",
      "parsed = molpro.parse_basis(basstr)\n",
      "\n",
      "bs_dict = {'name'      : 'cc-pVDZ',\n",
      "           'element'   : 'Be',\n",
      "           'functions' : parsed['Be']}\n",
      "\n",
      "\n",
      "pvdz = bs.BasisSet.from_dict(bs_dict)"
     ],
     "language": "python",
     "metadata": {},
     "outputs": [],
     "prompt_number": 2
    },
    {
     "cell_type": "markdown",
     "metadata": {},
     "source": [
      "Now we can print the specified attributes"
     ]
    },
    {
     "cell_type": "code",
     "collapsed": false,
     "input": [
      "pvdz.name"
     ],
     "language": "python",
     "metadata": {},
     "outputs": [
      {
       "metadata": {},
       "output_type": "pyout",
       "prompt_number": 6,
       "text": [
        "'cc-pVDZ'"
       ]
      }
     ],
     "prompt_number": 6
    },
    {
     "cell_type": "code",
     "collapsed": false,
     "input": [
      "pvdz.element"
     ],
     "language": "python",
     "metadata": {},
     "outputs": [
      {
       "metadata": {},
       "output_type": "pyout",
       "prompt_number": 7,
       "text": [
        "'Be'"
       ]
      }
     ],
     "prompt_number": 7
    },
    {
     "cell_type": "markdown",
     "metadata": {},
     "source": [
      "and apply some common methods "
     ]
    },
    {
     "cell_type": "code",
     "collapsed": false,
     "input": [
      "pvdz.contraction_scheme()"
     ],
     "language": "python",
     "metadata": {},
     "outputs": [
      {
       "metadata": {},
       "output_type": "pyout",
       "prompt_number": 3,
       "text": [
        "'(9s4p1d) -> [3s2p1d] : {991/41/1}'"
       ]
      }
     ],
     "prompt_number": 3
    },
    {
     "cell_type": "code",
     "collapsed": false,
     "input": [
      "pvdz.contraction_type()"
     ],
     "language": "python",
     "metadata": {},
     "outputs": [
      {
       "metadata": {},
       "output_type": "pyout",
       "prompt_number": 8,
       "text": [
        "'unknown'"
       ]
      }
     ],
     "prompt_number": 8
    },
    {
     "cell_type": "code",
     "collapsed": false,
     "input": [
      "pvdz.nf()"
     ],
     "language": "python",
     "metadata": {},
     "outputs": [
      {
       "metadata": {},
       "output_type": "pyout",
       "prompt_number": 10,
       "text": [
        "14"
       ]
      }
     ],
     "prompt_number": 10
    },
    {
     "cell_type": "code",
     "collapsed": false,
     "input": [
      "pvdz.nf(spherical=False)"
     ],
     "language": "python",
     "metadata": {},
     "outputs": [
      {
       "metadata": {},
       "output_type": "pyout",
       "prompt_number": 12,
       "text": [
        "15"
       ]
      }
     ],
     "prompt_number": 12
    },
    {
     "cell_type": "code",
     "collapsed": false,
     "input": [
      "print pvdz.write_cfour(comment=\"komentarz\")"
     ],
     "language": "python",
     "metadata": {},
     "outputs": [
      {
       "output_type": "stream",
       "stream": "stdout",
       "text": [
        "\n",
        "Be:cc-pVDZ\n",
        "komentarz\n",
        "\n",
        "  3\n",
        "    0    1    2\n",
        "    9    4    1\n",
        "    3    2    1\n",
        "\n",
        "  2940.00000000   441.20000000   100.50000000    28.43000000     9.16900000\n",
        "     3.19600000     1.15900000     0.18110000     0.05890000\n",
        "\n",
        "     0.00068000    -0.00012300     0.00000000\n",
        "     0.00523600    -0.00096600     0.00000000\n",
        "     0.02660600    -0.00483100     0.00000000\n",
        "     0.09999300    -0.01931400     0.00000000\n",
        "     0.26970200    -0.05328000     0.00000000\n",
        "     0.45146900    -0.12072300     0.00000000\n",
        "     0.29507400    -0.13343500     0.00000000\n",
        "     0.01258700     0.53076700     0.00000000\n",
        "    -0.00375600     0.58011700     1.00000000\n",
        "\n",
        "     3.61900000     0.71100000     0.19510000     0.06018000\n",
        "\n",
        "     0.02911100     0.00000000\n",
        "     0.16936500     0.00000000\n",
        "     0.51345800     0.00000000\n",
        "     0.47933800     1.00000000\n",
        "\n",
        "     0.23540000\n",
        "\n",
        "     1.00000000\n",
        "\n",
        "\n"
       ]
      }
     ],
     "prompt_number": 20
    },
    {
     "cell_type": "code",
     "collapsed": false,
     "input": [
      "print pvdz.write_dalton()"
     ],
     "language": "python",
     "metadata": {},
     "outputs": [
      {
       "output_type": "stream",
       "stream": "stdout",
       "text": [
        "! cc-pVDZ\n",
        "! s functions\n",
        "F   9   3\n",
        "     2940.0000000000     0.00068000    -0.00012300     0.00000000\n",
        "      441.2000000000     0.00523600    -0.00096600     0.00000000\n",
        "      100.5000000000     0.02660600    -0.00483100     0.00000000\n",
        "       28.4300000000     0.09999300    -0.01931400     0.00000000\n",
        "        9.1690000000     0.26970200    -0.05328000     0.00000000\n",
        "        3.1960000000     0.45146900    -0.12072300     0.00000000\n",
        "        1.1590000000     0.29507400    -0.13343500     0.00000000\n",
        "        0.1811000000     0.01258700     0.53076700     0.00000000\n",
        "        0.0589000000    -0.00375600     0.58011700     1.00000000\n",
        "! p functions\n",
        "F   4   2\n",
        "        3.6190000000     0.02911100     0.00000000\n",
        "        0.7110000000     0.16936500     0.00000000\n",
        "        0.1951000000     0.51345800     0.00000000\n",
        "        0.0601800000     0.47933800     1.00000000\n",
        "! d functions\n",
        "F   1   1\n",
        "        0.2354000000     1.00000000\n",
        "\n"
       ]
      }
     ],
     "prompt_number": 15
    },
    {
     "cell_type": "code",
     "collapsed": false,
     "input": [
      "print pvdz.write_gamess()"
     ],
     "language": "python",
     "metadata": {},
     "outputs": [
      {
       "output_type": "stream",
       "stream": "stdout",
       "text": [
        "S  9\n",
        "  1     2940.0000000000     0.00068000\n",
        "  2      441.2000000000     0.00523600\n",
        "  3      100.5000000000     0.02660600\n",
        "  4       28.4300000000     0.09999300\n",
        "  5        9.1690000000     0.26970200\n",
        "  6        3.1960000000     0.45146900\n",
        "  7        1.1590000000     0.29507400\n",
        "  8        0.1811000000     0.01258700\n",
        "  9        0.0589000000    -0.00375600\n",
        "S  9\n",
        "  1     2940.0000000000    -0.00012300\n",
        "  2      441.2000000000    -0.00096600\n",
        "  3      100.5000000000    -0.00483100\n",
        "  4       28.4300000000    -0.01931400\n",
        "  5        9.1690000000    -0.05328000\n",
        "  6        3.1960000000    -0.12072300\n",
        "  7        1.1590000000    -0.13343500\n",
        "  8        0.1811000000     0.53076700\n",
        "  9        0.0589000000     0.58011700\n",
        "S  1\n",
        "  1        0.0589000000     1.00000000\n",
        "P  4\n",
        "  1        3.6190000000     0.02911100\n",
        "  2        0.7110000000     0.16936500\n",
        "  3        0.1951000000     0.51345800\n",
        "  4        0.0601800000     0.47933800\n",
        "P  1\n",
        "  1        0.0601800000     1.00000000\n",
        "D  1\n",
        "  1        0.2354000000     1.00000000\n",
        "\n",
        "\n"
       ]
      }
     ],
     "prompt_number": 17
    },
    {
     "cell_type": "code",
     "collapsed": false,
     "input": [
      "print pvdz.write_molpro()"
     ],
     "language": "python",
     "metadata": {},
     "outputs": [
      {
       "output_type": "stream",
       "stream": "stdout",
       "text": [
        "s, Be, 2940.0000000000, 441.2000000000, 100.5000000000, 28.4300000000, 9.1690000000, 3.1960000000, 1.1590000000, 0.1811000000, 0.0589000000\n",
        "c, 1.9, 0.00068000, 0.00523600, 0.02660600, 0.09999300, 0.26970200, 0.45146900, 0.29507400, 0.01258700, -0.00375600\n",
        "c, 1.9, -0.00012300, -0.00096600, -0.00483100, -0.01931400, -0.05328000, -0.12072300, -0.13343500, 0.53076700, 0.58011700\n",
        "c, 9.9, 1.00000000\n",
        "p, Be, 3.6190000000, 0.7110000000, 0.1951000000, 0.0601800000\n",
        "c, 1.4, 0.02911100, 0.16936500, 0.51345800, 0.47933800\n",
        "c, 4.4, 1.00000000\n",
        "d, Be, 0.2354000000\n",
        "c, 1.1, 1.00000000\n",
        "\n"
       ]
      }
     ],
     "prompt_number": 18
    },
    {
     "cell_type": "code",
     "collapsed": false,
     "input": [
      "print pvdz.write_nwchem()"
     ],
     "language": "python",
     "metadata": {},
     "outputs": [
      {
       "output_type": "stream",
       "stream": "stdout",
       "text": [
        "BASIS \"ao basis\" PRINT\n",
        "Be s\n",
        "     2940.0000000000     0.00068000    -0.00012300     0.00000000\n",
        "      441.2000000000     0.00523600    -0.00096600     0.00000000\n",
        "      100.5000000000     0.02660600    -0.00483100     0.00000000\n",
        "       28.4300000000     0.09999300    -0.01931400     0.00000000\n",
        "        9.1690000000     0.26970200    -0.05328000     0.00000000\n",
        "        3.1960000000     0.45146900    -0.12072300     0.00000000\n",
        "        1.1590000000     0.29507400    -0.13343500     0.00000000\n",
        "        0.1811000000     0.01258700     0.53076700     0.00000000\n",
        "        0.0589000000    -0.00375600     0.58011700     1.00000000\n",
        "Be p\n",
        "        3.6190000000     0.02911100     0.00000000\n",
        "        0.7110000000     0.16936500     0.00000000\n",
        "        0.1951000000     0.51345800     0.00000000\n",
        "        0.0601800000     0.47933800     1.00000000\n",
        "Be d\n",
        "        0.2354000000     1.00000000\n",
        "END\n",
        "\n"
       ]
      }
     ],
     "prompt_number": 19
    },
    {
     "cell_type": "code",
     "collapsed": false,
     "input": [],
     "language": "python",
     "metadata": {},
     "outputs": []
    }
   ],
   "metadata": {}
  }
 ]
}