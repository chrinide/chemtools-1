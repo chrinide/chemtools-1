{
 "metadata": {
  "name": "",
  "signature": "sha256:e208998f102eee9fef369a0cea681f544a67f6715089112546dc690f381f9631"
 },
 "nbformat": 3,
 "nbformat_minor": 0,
 "worksheets": [
  {
   "cells": [
    {
     "cell_type": "markdown",
     "metadata": {},
     "source": [
      "# This is a short tutorial on the BasisSet class\n",
      "\n",
      "BasisSet class provides a handy format for storing and manipulating basis sets used in quantum chemistry.\n",
      "\n",
      "The BasisSet object has the following attributes\n",
      "* name\n",
      "* functions\n",
      "* element\n",
      "\n",
      "`functions` is a dictionary and should have the folowing structure:\n",
      "\n",
      "    {'shell_1' : {'exponents'    : [exp_1, exp_2],\n",
      "                  'contractedfs' : [{'indices'      : [index_1-1, index_1-2, ...], \n",
      "                                     'coefficients' : [coeff_1-1, coeff_1-2, ...]},\n",
      "                                    {'indices'      : [index_2-1, index_2-2, ...], \n",
      "                                     'coefficients' : [coeff_2-1, coeff_2-2, ...]}, \n",
      "                                   ]\n",
      "                 }\n",
      "     'shell_2' : {'exponents'    : [exp_1, exp_2],\n",
      "                  'contractedfs' : [{'indices'      : [index_1-1, index_1-2, ...], \n",
      "                                     'coefficients' : [coeff_1-1, coeff_1-2, ...]},\n",
      "                                    {'indices'      : [index_2-1, index_2-2, ...], \n",
      "                                     'coefficients' : [coeff_2-1, coeff_2-2, ...]}, \n",
      "                                   ]\n",
      "                 }\n",
      "    }\n",
      "\n"
     ]
    },
    {
     "cell_type": "code",
     "collapsed": false,
     "input": [
      "from chemtools import basisset as bs"
     ],
     "language": "python",
     "metadata": {},
     "outputs": []
    },
    {
     "cell_type": "code",
     "collapsed": false,
     "input": [
      "from chemtools import molpro\n",
      "\n",
      "basstr = '''basis={\n",
      "!BAZA Petersona\n",
      "s,Be,2.940000E+03,4.412000E+02,1.005000E+02,2.843000E+01,9.169000E+00,3.196000E+00,1.159000E+00,1.811000E-01,5.890000E-02;\n",
      "c,1.9,6.800000E-04,5.236000E-03,2.660600E-02,9.999300E-02,2.697020E-01,4.514690E-01,2.950740E-01,1.258700E-02,-3.756000E-03;\n",
      "c,1.9,-1.230000E-04,-9.660000E-04,-4.831000E-03,-1.931400E-02,-5.328000E-02,-1.207230E-01,-1.334350E-01,5.307670E-01,5.801170E-01;\n",
      "c,9.9,1.000000E+00;\n",
      "\n",
      "p,Be,3.619000E+00,7.110000E-01,1.951000E-01,6.018000E-02;\n",
      "c,1.4,2.911100E-02,1.693650E-01,5.134580E-01,4.793380E-01;\n",
      "c,4.4,1.000000E+00;\n",
      "\n",
      "d,Be,2.354000E-01;\n",
      "c,1.1,1.000000E+00;\n",
      "}'''\n",
      "\n",
      "# parse the basis into the internal format\n",
      "parsed = molpro.parse_basis(basstr)\n",
      "\n",
      "bs_dict = {'name'      : 'cc-pVDZ',\n",
      "           'element'   : 'Be',\n",
      "           'functions' : parsed['Be']}\n",
      "\n",
      "\n",
      "pvdz = bs.BasisSet.from_dict(bs_dict)"
     ],
     "language": "python",
     "metadata": {},
     "outputs": []
    },
    {
     "cell_type": "markdown",
     "metadata": {},
     "source": [
      "Now we can print the specified attributes"
     ]
    },
    {
     "cell_type": "code",
     "collapsed": false,
     "input": [
      "pvdz.name"
     ],
     "language": "python",
     "metadata": {},
     "outputs": []
    },
    {
     "cell_type": "code",
     "collapsed": false,
     "input": [
      "pvdz.element"
     ],
     "language": "python",
     "metadata": {},
     "outputs": []
    },
    {
     "cell_type": "markdown",
     "metadata": {},
     "source": [
      "and apply some common methods "
     ]
    },
    {
     "cell_type": "code",
     "collapsed": false,
     "input": [
      "pvdz.contraction_scheme()"
     ],
     "language": "python",
     "metadata": {},
     "outputs": []
    },
    {
     "cell_type": "code",
     "collapsed": false,
     "input": [
      "pvdz.contraction_type()"
     ],
     "language": "python",
     "metadata": {},
     "outputs": []
    },
    {
     "cell_type": "code",
     "collapsed": false,
     "input": [
      "pvdz.nf()"
     ],
     "language": "python",
     "metadata": {},
     "outputs": []
    },
    {
     "cell_type": "code",
     "collapsed": false,
     "input": [
      "pvdz.nf(spherical=False)"
     ],
     "language": "python",
     "metadata": {},
     "outputs": []
    },
    {
     "cell_type": "code",
     "collapsed": false,
     "input": [
      "print pvdz.write_cfour(comment=\"komentarz\")"
     ],
     "language": "python",
     "metadata": {},
     "outputs": []
    },
    {
     "cell_type": "code",
     "collapsed": false,
     "input": [
      "print pvdz.write_dalton()"
     ],
     "language": "python",
     "metadata": {},
     "outputs": []
    },
    {
     "cell_type": "code",
     "collapsed": false,
     "input": [
      "print pvdz.write_gamess()"
     ],
     "language": "python",
     "metadata": {},
     "outputs": []
    },
    {
     "cell_type": "code",
     "collapsed": false,
     "input": [
      "print pvdz.write_molpro()"
     ],
     "language": "python",
     "metadata": {},
     "outputs": []
    },
    {
     "cell_type": "code",
     "collapsed": false,
     "input": [
      "print pvdz.write_nwchem()"
     ],
     "language": "python",
     "metadata": {},
     "outputs": []
    },
    {
     "cell_type": "markdown",
     "metadata": {},
     "source": [
      "## You can merge two basis sets\n",
      "\n",
      "For exmaple add diffuse functions to the existing BasisSet object"
     ]
    },
    {
     "cell_type": "code",
     "collapsed": false,
     "input": [
      "augfs = '''! aug-cc-pVDZ\n",
      "\n",
      "basis={\n",
      "\n",
      "s,Be,1.790000E-02;\n",
      "c,1.1,1.000000E+00;\n",
      "\n",
      "p,Be,1.110000E-02;\n",
      "c,1.1,1.000000E+00;\n",
      "\n",
      "d,Be,7.220000E-02;\n",
      "c,1.1,1.000000E+00;\n",
      "\n",
      "}'''\n",
      "\n",
      "# parse the basis into the internal format\n",
      "parsed = molpro.parse_basis(augfs)\n",
      "\n",
      "aug_dict = {'name'      : 'diffuse functions',\n",
      "           'element'   : 'Be',\n",
      "           'functions' : parsed['Be']}\n",
      "\n",
      "aug = bs.BasisSet.from_dict(aug_dict)\n",
      "\n",
      "# now we can add\n",
      "\n",
      "pvdz.add(aug)"
     ],
     "language": "python",
     "metadata": {},
     "outputs": []
    },
    {
     "cell_type": "code",
     "collapsed": false,
     "input": [
      "print pvdz.write_cfour()"
     ],
     "language": "python",
     "metadata": {},
     "outputs": []
    },
    {
     "cell_type": "code",
     "collapsed": false,
     "input": [],
     "language": "python",
     "metadata": {},
     "outputs": []
    }
   ],
   "metadata": {}
  }
 ]
}