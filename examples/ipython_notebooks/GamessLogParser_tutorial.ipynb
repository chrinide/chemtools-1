{
 "cells": [
  {
   "cell_type": "markdown",
   "metadata": {},
   "source": [
    "# GamessLogParser tutorial\n",
    "\n",
    "This tutorial shows a few examples on how to use `GamessLogParser` class to extract data from the the ASCII log file created by GAMESS(US).\n",
    "\n",
    "First we need to import the necessary class"
   ]
  },
  {
   "cell_type": "code",
   "execution_count": 1,
   "metadata": {
    "collapsed": false
   },
   "outputs": [
    {
     "name": "stderr",
     "output_type": "stream",
     "text": [
      "/home/lmentel/.virtualenvs/cat/local/lib/python2.7/site-packages/matplotlib/__init__.py:872: UserWarning: axes.color_cycle is deprecated and replaced with axes.prop_cycle; please use the latter.\n",
      "  warnings.warn(self.msg_depr % (key, alt_key))\n"
     ]
    }
   ],
   "source": [
    "from chemtools.gamessus import GamessLogParser"
   ]
  },
  {
   "cell_type": "code",
   "execution_count": 2,
   "metadata": {
    "collapsed": false
   },
   "outputs": [],
   "source": [
    "glp = GamessLogParser(\"data/h2_eq_pvtz_fci.log\")"
   ]
  },
  {
   "cell_type": "markdown",
   "metadata": {},
   "source": [
    "First we check is the job finished without errors by calling the `accomplished` method"
   ]
  },
  {
   "cell_type": "code",
   "execution_count": 3,
   "metadata": {
    "collapsed": false
   },
   "outputs": [
    {
     "data": {
      "text/plain": [
       "True"
      ]
     },
     "execution_count": 3,
     "metadata": {},
     "output_type": "execute_result"
    }
   ],
   "source": [
    "glp.accomplished()"
   ]
  },
  {
   "cell_type": "markdown",
   "metadata": {},
   "source": [
    "Now we can parse some basic information about the molecule"
   ]
  },
  {
   "cell_type": "code",
   "execution_count": 4,
   "metadata": {
    "collapsed": false
   },
   "outputs": [
    {
     "data": {
      "text/plain": [
       "2"
      ]
     },
     "execution_count": 4,
     "metadata": {},
     "output_type": "execute_result"
    }
   ],
   "source": [
    "glp.get_electrons()"
   ]
  },
  {
   "cell_type": "code",
   "execution_count": 5,
   "metadata": {
    "collapsed": false
   },
   "outputs": [
    {
     "data": {
      "text/plain": [
       "0"
      ]
     },
     "execution_count": 5,
     "metadata": {},
     "output_type": "execute_result"
    }
   ],
   "source": [
    "glp.get_charge()"
   ]
  },
  {
   "cell_type": "code",
   "execution_count": 6,
   "metadata": {
    "collapsed": false
   },
   "outputs": [
    {
     "data": {
      "text/plain": [
       "0"
      ]
     },
     "execution_count": 6,
     "metadata": {},
     "output_type": "execute_result"
    }
   ],
   "source": [
    "glp.get_homo()"
   ]
  },
  {
   "cell_type": "code",
   "execution_count": 7,
   "metadata": {
    "collapsed": false
   },
   "outputs": [
    {
     "data": {
      "text/plain": [
       "2"
      ]
     },
     "execution_count": 7,
     "metadata": {},
     "output_type": "execute_result"
    }
   ],
   "source": [
    "glp.get_number_of_atoms()"
   ]
  },
  {
   "cell_type": "markdown",
   "metadata": {},
   "source": [
    "and some basic information about the calculation"
   ]
  },
  {
   "cell_type": "code",
   "execution_count": 8,
   "metadata": {
    "collapsed": false
   },
   "outputs": [
    {
     "data": {
      "text/plain": [
       "'RHF'"
      ]
     },
     "execution_count": 8,
     "metadata": {},
     "output_type": "execute_result"
    }
   ],
   "source": [
    "glp.get_scf_type()"
   ]
  },
  {
   "cell_type": "code",
   "execution_count": 9,
   "metadata": {
    "collapsed": false
   },
   "outputs": [
    {
     "data": {
      "text/plain": [
       "'GUGA'"
      ]
     },
     "execution_count": 9,
     "metadata": {},
     "output_type": "execute_result"
    }
   ],
   "source": [
    "glp.get_ci_type()"
   ]
  },
  {
   "cell_type": "code",
   "execution_count": 10,
   "metadata": {
    "collapsed": false
   },
   "outputs": [
    {
     "data": {
      "text/plain": [
       "'NONE'"
      ]
     },
     "execution_count": 10,
     "metadata": {},
     "output_type": "execute_result"
    }
   ],
   "source": [
    "glp.get_cc_type()"
   ]
  },
  {
   "cell_type": "code",
   "execution_count": 11,
   "metadata": {
    "collapsed": false
   },
   "outputs": [
    {
     "data": {
      "text/plain": [
       "0"
      ]
     },
     "execution_count": 11,
     "metadata": {},
     "output_type": "execute_result"
    }
   ],
   "source": [
    "glp.get_mplevel()"
   ]
  },
  {
   "cell_type": "code",
   "execution_count": 12,
   "metadata": {
    "collapsed": false
   },
   "outputs": [
    {
     "data": {
      "text/plain": [
       "30"
      ]
     },
     "execution_count": 12,
     "metadata": {},
     "output_type": "execute_result"
    }
   ],
   "source": [
    "glp.get_number_of_aos()"
   ]
  },
  {
   "cell_type": "code",
   "execution_count": 13,
   "metadata": {
    "collapsed": false
   },
   "outputs": [
    {
     "data": {
      "text/plain": [
       "28"
      ]
     },
     "execution_count": 13,
     "metadata": {},
     "output_type": "execute_result"
    }
   ],
   "source": [
    "glp.get_number_of_mos()"
   ]
  },
  {
   "cell_type": "code",
   "execution_count": 14,
   "metadata": {
    "collapsed": false
   },
   "outputs": [
    {
     "data": {
      "text/plain": [
       "0"
      ]
     },
     "execution_count": 14,
     "metadata": {},
     "output_type": "execute_result"
    }
   ],
   "source": [
    "glp.get_number_of_core_mos()"
   ]
  },
  {
   "cell_type": "code",
   "execution_count": 15,
   "metadata": {
    "collapsed": false
   },
   "outputs": [
    {
     "data": {
      "text/plain": [
       "{'ELECTRON-ELECTRON POTENTIAL ENERGY': 0.6583903152,\n",
       " 'NUCLEAR REPULSION ENERGY': 0.7142857143,\n",
       " 'NUCLEUS-ELECTRON POTENTIAL ENERGY': -3.6287606058,\n",
       " 'NUCLEUS-NUCLEUS POTENTIAL ENERGY': 0.7142857143,\n",
       " 'ONE ELECTRON ENERGY': -2.505636555,\n",
       " 'TOTAL ENERGY': -1.1329605255,\n",
       " 'TOTAL KINETIC ENERGY': 1.1231240508,\n",
       " 'TOTAL POTENTIAL ENERGY': -2.2560845763,\n",
       " 'TWO ELECTRON ENERGY': 0.6583903152,\n",
       " 'VIRIAL RATIO (V/T)': 2.0087581373,\n",
       " 'WAVEFUNCTION NORMALIZATION': 1.0}"
      ]
     },
     "execution_count": 15,
     "metadata": {},
     "output_type": "execute_result"
    }
   ],
   "source": [
    "glp.get_energy_components('hf')"
   ]
  },
  {
   "cell_type": "code",
   "execution_count": 16,
   "metadata": {
    "collapsed": false
   },
   "outputs": [
    {
     "data": {
      "text/plain": [
       "{'ELECTRON-ELECTRON POTENTIAL ENERGY': 0.5886602014,\n",
       " 'NUCLEAR REPULSION ENERGY': 0.7142857143,\n",
       " 'NUCLEUS-ELECTRON POTENTIAL ENERGY': -3.6466910029,\n",
       " 'NUCLEUS-NUCLEUS POTENTIAL ENERGY': 0.7142857143,\n",
       " 'ONE ELECTRON ENERGY': -2.4752805092,\n",
       " 'TOTAL ENERGY': -1.1723345936,\n",
       " 'TOTAL KINETIC ENERGY': 1.1714104937,\n",
       " 'TOTAL POTENTIAL ENERGY': -2.3437450872,\n",
       " 'TWO ELECTRON ENERGY': 0.5886602014,\n",
       " 'VIRIAL RATIO (V/T)': 2.0007888779,\n",
       " 'WAVEFUNCTION NORMALIZATION': 1.0}"
      ]
     },
     "execution_count": 16,
     "metadata": {},
     "output_type": "execute_result"
    }
   ],
   "source": [
    "glp.get_energy_components('ci')"
   ]
  },
  {
   "cell_type": "code",
   "execution_count": 17,
   "metadata": {
    "collapsed": false
   },
   "outputs": [
    {
     "data": {
      "text/plain": [
       "[{'index': 0, 'lz': 0, 'shell': 1},\n",
       " {'index': 1, 'lz': 0, 'shell': 2},\n",
       " {'index': 2, 'lz': 0, 'shell': 3},\n",
       " {'index': 3, 'lz': 0, 'shell': 4},\n",
       " {'index': 4, 'lz': 1, 'shell': 5},\n",
       " {'index': 5, 'lz': 1, 'shell': 5},\n",
       " {'index': 6, 'lz': 0, 'shell': 6},\n",
       " {'index': 7, 'lz': 1, 'shell': 7},\n",
       " {'index': 8, 'lz': 1, 'shell': 7},\n",
       " {'index': 9, 'lz': 0, 'shell': 8},\n",
       " {'index': 10, 'lz': 0, 'shell': 9},\n",
       " {'index': 11, 'lz': 0, 'shell': 10},\n",
       " {'index': 12, 'lz': 2, 'shell': 11},\n",
       " {'index': 13, 'lz': 2, 'shell': 11},\n",
       " {'index': 14, 'lz': 1, 'shell': 12},\n",
       " {'index': 15, 'lz': 1, 'shell': 12},\n",
       " {'index': 16, 'lz': 0, 'shell': 13},\n",
       " {'index': 17, 'lz': 1, 'shell': 14},\n",
       " {'index': 18, 'lz': 1, 'shell': 14},\n",
       " {'index': 19, 'lz': 2, 'shell': 15},\n",
       " {'index': 20, 'lz': 2, 'shell': 15},\n",
       " {'index': 21, 'lz': 1, 'shell': 16},\n",
       " {'index': 22, 'lz': 1, 'shell': 16},\n",
       " {'index': 23, 'lz': 0, 'shell': 17},\n",
       " {'index': 24, 'lz': 1, 'shell': 18},\n",
       " {'index': 25, 'lz': 1, 'shell': 18},\n",
       " {'index': 26, 'lz': 0, 'shell': 19},\n",
       " {'index': 27, 'lz': 0, 'shell': 20}]"
      ]
     },
     "execution_count": 17,
     "metadata": {},
     "output_type": "execute_result"
    }
   ],
   "source": [
    "glp.get_lz_values()"
   ]
  },
  {
   "cell_type": "code",
   "execution_count": 18,
   "metadata": {
    "collapsed": false
   },
   "outputs": [
    {
     "data": {
      "text/plain": [
       "[{'center': 1, 'component': 'S', 'index': 0, 'symbol': 'H'},\n",
       " {'center': 1, 'component': 'S', 'index': 1, 'symbol': 'H'},\n",
       " {'center': 1, 'component': 'S', 'index': 2, 'symbol': 'H'},\n",
       " {'center': 1, 'component': 'X', 'index': 3, 'symbol': 'H'},\n",
       " {'center': 1, 'component': 'Y', 'index': 4, 'symbol': 'H'},\n",
       " {'center': 1, 'component': 'Z', 'index': 5, 'symbol': 'H'},\n",
       " {'center': 1, 'component': 'X', 'index': 6, 'symbol': 'H'},\n",
       " {'center': 1, 'component': 'Y', 'index': 7, 'symbol': 'H'},\n",
       " {'center': 1, 'component': 'Z', 'index': 8, 'symbol': 'H'},\n",
       " {'center': 1, 'component': 'XX', 'index': 9, 'symbol': 'H'},\n",
       " {'center': 1, 'component': 'YY', 'index': 10, 'symbol': 'H'},\n",
       " {'center': 1, 'component': 'ZZ', 'index': 11, 'symbol': 'H'},\n",
       " {'center': 1, 'component': 'XY', 'index': 12, 'symbol': 'H'},\n",
       " {'center': 1, 'component': 'XZ', 'index': 13, 'symbol': 'H'},\n",
       " {'center': 1, 'component': 'YZ', 'index': 14, 'symbol': 'H'},\n",
       " {'center': 2, 'component': 'S', 'index': 15, 'symbol': 'H'},\n",
       " {'center': 2, 'component': 'S', 'index': 16, 'symbol': 'H'},\n",
       " {'center': 2, 'component': 'S', 'index': 17, 'symbol': 'H'},\n",
       " {'center': 2, 'component': 'X', 'index': 18, 'symbol': 'H'},\n",
       " {'center': 2, 'component': 'Y', 'index': 19, 'symbol': 'H'},\n",
       " {'center': 2, 'component': 'Z', 'index': 20, 'symbol': 'H'},\n",
       " {'center': 2, 'component': 'X', 'index': 21, 'symbol': 'H'},\n",
       " {'center': 2, 'component': 'Y', 'index': 22, 'symbol': 'H'},\n",
       " {'center': 2, 'component': 'Z', 'index': 23, 'symbol': 'H'},\n",
       " {'center': 2, 'component': 'XX', 'index': 24, 'symbol': 'H'},\n",
       " {'center': 2, 'component': 'YY', 'index': 25, 'symbol': 'H'},\n",
       " {'center': 2, 'component': 'ZZ', 'index': 26, 'symbol': 'H'},\n",
       " {'center': 2, 'component': 'XY', 'index': 27, 'symbol': 'H'},\n",
       " {'center': 2, 'component': 'XZ', 'index': 28, 'symbol': 'H'},\n",
       " {'center': 2, 'component': 'YZ', 'index': 29, 'symbol': 'H'}]"
      ]
     },
     "execution_count": 18,
     "metadata": {},
     "output_type": "execute_result"
    }
   ],
   "source": [
    "glp.get_ao_labels()"
   ]
  },
  {
   "cell_type": "code",
   "execution_count": 19,
   "metadata": {
    "collapsed": false
   },
   "outputs": [
    {
     "data": {
      "text/plain": [
       "0"
      ]
     },
     "execution_count": 19,
     "metadata": {},
     "output_type": "execute_result"
    }
   ],
   "source": [
    "glp.get_linear_deps()"
   ]
  },
  {
   "cell_type": "code",
   "execution_count": 20,
   "metadata": {
    "collapsed": false
   },
   "outputs": [
    {
     "data": {
      "text/plain": [
       "'5 DEC 2014 (R1)'"
      ]
     },
     "execution_count": 20,
     "metadata": {},
     "output_type": "execute_result"
    }
   ],
   "source": [
    "glp.get_version()"
   ]
  },
  {
   "cell_type": "code",
   "execution_count": 24,
   "metadata": {
    "collapsed": false
   },
   "outputs": [],
   "source": [
    "coeffs = glp.get_ci_coeffs()"
   ]
  },
  {
   "cell_type": "code",
   "execution_count": 25,
   "metadata": {
    "collapsed": false
   },
   "outputs": [],
   "source": [
    "csfs = glp.get_csfs()"
   ]
  },
  {
   "cell_type": "code",
   "execution_count": 26,
   "metadata": {
    "collapsed": false
   },
   "outputs": [
    {
     "data": {
      "text/plain": [
       "{'coeff': 0.1730527989,\n",
       " 'dets': [(1, 1.0, 'ab')],\n",
       " 'no': 1,\n",
       " 'spatial': [1, 1],\n",
       " 'vector': '1111111111111111111111111114'}"
      ]
     },
     "execution_count": 26,
     "metadata": {},
     "output_type": "execute_result"
    }
   ],
   "source": [
    "csfs[0]"
   ]
  },
  {
   "cell_type": "code",
   "execution_count": null,
   "metadata": {
    "collapsed": true
   },
   "outputs": [],
   "source": []
  }
 ],
 "metadata": {
  "kernelspec": {
   "display_name": "Python 2",
   "language": "python",
   "name": "python2"
  },
  "language_info": {
   "codemirror_mode": {
    "name": "ipython",
    "version": 2
   },
   "file_extension": ".py",
   "mimetype": "text/x-python",
   "name": "python",
   "nbconvert_exporter": "python",
   "pygments_lexer": "ipython2",
   "version": "2.7.9"
  }
 },
 "nbformat": 4,
 "nbformat_minor": 0
}
