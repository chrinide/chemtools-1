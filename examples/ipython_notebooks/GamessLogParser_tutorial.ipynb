{
 "metadata": {
  "name": "",
  "signature": "sha256:4a1e305db6cf505d9f7e2b95f0947f660b025bb368939675f02eca9006f945ef"
 },
 "nbformat": 3,
 "nbformat_minor": 0,
 "worksheets": [
  {
   "cells": [
    {
     "cell_type": "markdown",
     "metadata": {},
     "source": [
      "# GamessLogParser tutorial\n",
      "\n",
      "This tutorial shows a few examples on how to use `GamessLogParser` class to extract data from the the ASCII log file created by GAMESS(US).\n",
      "\n",
      "First we need to import the necessary class"
     ]
    },
    {
     "cell_type": "code",
     "collapsed": false,
     "input": [
      "from chemtools.gamessus import GamessLogParser"
     ],
     "language": "python",
     "metadata": {},
     "outputs": [],
     "prompt_number": 2
    },
    {
     "cell_type": "code",
     "collapsed": false,
     "input": [
      "glp = GamessLogParser(\"h2_eq_pvtz_fci.log\")"
     ],
     "language": "python",
     "metadata": {},
     "outputs": [],
     "prompt_number": 5
    },
    {
     "cell_type": "markdown",
     "metadata": {},
     "source": [
      "First we check is the job finished without errors by calling the `accomplished` method"
     ]
    },
    {
     "cell_type": "code",
     "collapsed": false,
     "input": [
      "glp.accomplished()"
     ],
     "language": "python",
     "metadata": {},
     "outputs": [
      {
       "metadata": {},
       "output_type": "pyout",
       "prompt_number": 4,
       "text": [
        "True"
       ]
      }
     ],
     "prompt_number": 4
    },
    {
     "cell_type": "markdown",
     "metadata": {},
     "source": [
      "Now we can parse some basic information about the molecule"
     ]
    },
    {
     "cell_type": "code",
     "collapsed": false,
     "input": [
      "glp.get_electrons()"
     ],
     "language": "python",
     "metadata": {},
     "outputs": [
      {
       "metadata": {},
       "output_type": "pyout",
       "prompt_number": 7,
       "text": [
        "2"
       ]
      }
     ],
     "prompt_number": 7
    },
    {
     "cell_type": "code",
     "collapsed": false,
     "input": [
      "glp.get_charge()"
     ],
     "language": "python",
     "metadata": {},
     "outputs": [
      {
       "metadata": {},
       "output_type": "pyout",
       "prompt_number": 8,
       "text": [
        "0"
       ]
      }
     ],
     "prompt_number": 8
    },
    {
     "cell_type": "code",
     "collapsed": false,
     "input": [
      "glp.get_homo()"
     ],
     "language": "python",
     "metadata": {},
     "outputs": [
      {
       "metadata": {},
       "output_type": "pyout",
       "prompt_number": 9,
       "text": [
        "0"
       ]
      }
     ],
     "prompt_number": 9
    },
    {
     "cell_type": "code",
     "collapsed": false,
     "input": [
      "glp.get_number_of_atoms()"
     ],
     "language": "python",
     "metadata": {},
     "outputs": [
      {
       "metadata": {},
       "output_type": "pyout",
       "prompt_number": 15,
       "text": [
        "2"
       ]
      }
     ],
     "prompt_number": 15
    },
    {
     "cell_type": "markdown",
     "metadata": {},
     "source": [
      "and some basic information about the calculation"
     ]
    },
    {
     "cell_type": "code",
     "collapsed": false,
     "input": [
      "glp.get_scf_type()"
     ],
     "language": "python",
     "metadata": {},
     "outputs": [
      {
       "metadata": {},
       "output_type": "pyout",
       "prompt_number": 11,
       "text": [
        "'RHF'"
       ]
      }
     ],
     "prompt_number": 11
    },
    {
     "cell_type": "code",
     "collapsed": false,
     "input": [
      "glp.get_ci_type()"
     ],
     "language": "python",
     "metadata": {},
     "outputs": [
      {
       "metadata": {},
       "output_type": "pyout",
       "prompt_number": 12,
       "text": [
        "'GUGA'"
       ]
      }
     ],
     "prompt_number": 12
    },
    {
     "cell_type": "code",
     "collapsed": false,
     "input": [
      "glp.get_cc_type()"
     ],
     "language": "python",
     "metadata": {},
     "outputs": [
      {
       "metadata": {},
       "output_type": "pyout",
       "prompt_number": 13,
       "text": [
        "'NONE'"
       ]
      }
     ],
     "prompt_number": 13
    },
    {
     "cell_type": "code",
     "collapsed": false,
     "input": [
      "glp.get_mplevel()"
     ],
     "language": "python",
     "metadata": {},
     "outputs": [
      {
       "metadata": {},
       "output_type": "pyout",
       "prompt_number": 14,
       "text": [
        "0"
       ]
      }
     ],
     "prompt_number": 14
    },
    {
     "cell_type": "code",
     "collapsed": false,
     "input": [
      "glp.get_number_of_aos()"
     ],
     "language": "python",
     "metadata": {},
     "outputs": [
      {
       "metadata": {},
       "output_type": "pyout",
       "prompt_number": 16,
       "text": [
        "30"
       ]
      }
     ],
     "prompt_number": 16
    },
    {
     "cell_type": "code",
     "collapsed": false,
     "input": [
      "glp.get_number_of_mos()"
     ],
     "language": "python",
     "metadata": {},
     "outputs": [
      {
       "metadata": {},
       "output_type": "pyout",
       "prompt_number": 17,
       "text": [
        "28"
       ]
      }
     ],
     "prompt_number": 17
    },
    {
     "cell_type": "code",
     "collapsed": false,
     "input": [
      "glp.get_number_of_core_mos()"
     ],
     "language": "python",
     "metadata": {},
     "outputs": [
      {
       "metadata": {},
       "output_type": "pyout",
       "prompt_number": 18,
       "text": [
        "0"
       ]
      }
     ],
     "prompt_number": 18
    },
    {
     "cell_type": "code",
     "collapsed": false,
     "input": [
      "glp.get_energy_components('hf')"
     ],
     "language": "python",
     "metadata": {},
     "outputs": [
      {
       "metadata": {},
       "output_type": "pyout",
       "prompt_number": 20,
       "text": [
        "{'ELECTRON-ELECTRON POTENTIAL ENERGY': 0.6583903152,\n",
        " 'NUCLEAR REPULSION ENERGY': 0.7142857143,\n",
        " 'NUCLEUS-ELECTRON POTENTIAL ENERGY': -3.6287606058,\n",
        " 'NUCLEUS-NUCLEUS POTENTIAL ENERGY': 0.7142857143,\n",
        " 'ONE ELECTRON ENERGY': -2.505636555,\n",
        " 'TOTAL ENERGY': -1.1329605255,\n",
        " 'TOTAL KINETIC ENERGY': 1.1231240508,\n",
        " 'TOTAL POTENTIAL ENERGY': -2.2560845763,\n",
        " 'TWO ELECTRON ENERGY': 0.6583903152,\n",
        " 'VIRIAL RATIO (V/T)': 2.0087581373,\n",
        " 'WAVEFUNCTION NORMALIZATION': 1.0}"
       ]
      }
     ],
     "prompt_number": 20
    },
    {
     "cell_type": "code",
     "collapsed": false,
     "input": [
      "glp.get_energy_components('ci')"
     ],
     "language": "python",
     "metadata": {},
     "outputs": [
      {
       "metadata": {},
       "output_type": "pyout",
       "prompt_number": 21,
       "text": [
        "{'ELECTRON-ELECTRON POTENTIAL ENERGY': 0.5886602014,\n",
        " 'NUCLEAR REPULSION ENERGY': 0.7142857143,\n",
        " 'NUCLEUS-ELECTRON POTENTIAL ENERGY': -3.6466910029,\n",
        " 'NUCLEUS-NUCLEUS POTENTIAL ENERGY': 0.7142857143,\n",
        " 'ONE ELECTRON ENERGY': -2.4752805092,\n",
        " 'TOTAL ENERGY': -1.1723345936,\n",
        " 'TOTAL KINETIC ENERGY': 1.1714104937,\n",
        " 'TOTAL POTENTIAL ENERGY': -2.3437450872,\n",
        " 'TWO ELECTRON ENERGY': 0.5886602014,\n",
        " 'VIRIAL RATIO (V/T)': 2.0007888779,\n",
        " 'WAVEFUNCTION NORMALIZATION': 1.0}"
       ]
      }
     ],
     "prompt_number": 21
    },
    {
     "cell_type": "code",
     "collapsed": false,
     "input": [
      "glp.get_lz_values()"
     ],
     "language": "python",
     "metadata": {},
     "outputs": [
      {
       "metadata": {},
       "output_type": "pyout",
       "prompt_number": 23,
       "text": [
        "[{'index': 0, 'lz': 0, 'shell': 1},\n",
        " {'index': 1, 'lz': 0, 'shell': 2},\n",
        " {'index': 2, 'lz': 0, 'shell': 3},\n",
        " {'index': 3, 'lz': 0, 'shell': 4},\n",
        " {'index': 4, 'lz': 1, 'shell': 5},\n",
        " {'index': 5, 'lz': 1, 'shell': 5},\n",
        " {'index': 6, 'lz': 0, 'shell': 6},\n",
        " {'index': 7, 'lz': 1, 'shell': 7},\n",
        " {'index': 8, 'lz': 1, 'shell': 7},\n",
        " {'index': 9, 'lz': 0, 'shell': 8},\n",
        " {'index': 10, 'lz': 0, 'shell': 9},\n",
        " {'index': 11, 'lz': 0, 'shell': 10},\n",
        " {'index': 12, 'lz': 2, 'shell': 11},\n",
        " {'index': 13, 'lz': 2, 'shell': 11},\n",
        " {'index': 14, 'lz': 1, 'shell': 12},\n",
        " {'index': 15, 'lz': 1, 'shell': 12},\n",
        " {'index': 16, 'lz': 0, 'shell': 13},\n",
        " {'index': 17, 'lz': 1, 'shell': 14},\n",
        " {'index': 18, 'lz': 1, 'shell': 14},\n",
        " {'index': 19, 'lz': 2, 'shell': 15},\n",
        " {'index': 20, 'lz': 2, 'shell': 15},\n",
        " {'index': 21, 'lz': 1, 'shell': 16},\n",
        " {'index': 22, 'lz': 1, 'shell': 16},\n",
        " {'index': 23, 'lz': 0, 'shell': 17},\n",
        " {'index': 24, 'lz': 1, 'shell': 18},\n",
        " {'index': 25, 'lz': 1, 'shell': 18},\n",
        " {'index': 26, 'lz': 0, 'shell': 19},\n",
        " {'index': 27, 'lz': 0, 'shell': 20}]"
       ]
      }
     ],
     "prompt_number": 23
    },
    {
     "cell_type": "code",
     "collapsed": false,
     "input": [],
     "language": "python",
     "metadata": {},
     "outputs": []
    }
   ],
   "metadata": {}
  }
 ]
}