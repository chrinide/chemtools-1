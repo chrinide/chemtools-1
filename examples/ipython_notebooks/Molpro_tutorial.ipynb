{
 "metadata": {
  "name": "",
  "signature": "sha256:55f1b56ed328e8a213ee2dd3247cf8f552087080147be4175732a0594af2e10e"
 },
 "nbformat": 3,
 "nbformat_minor": 0,
 "worksheets": [
  {
   "cells": [
    {
     "cell_type": "markdown",
     "metadata": {},
     "source": [
      "# Molpro module tutorial\n",
      "\n",
      "The `molpro` module contains two main classes:\n",
      "\n",
      "* `Molpro` class as a python wrapper for running the molpro program\n",
      "* `MolproOutputParser` is the parser for molpro output "
     ]
    },
    {
     "cell_type": "code",
     "collapsed": false,
     "input": [
      "from chemtools.molpro import Molpro, MolproOutputParser"
     ],
     "language": "python",
     "metadata": {},
     "outputs": [],
     "prompt_number": 1
    },
    {
     "cell_type": "markdown",
     "metadata": {},
     "source": [
      "#### First we instantiate the `Molpro` object"
     ]
    },
    {
     "cell_type": "code",
     "collapsed": false,
     "input": [
      "molpro = Molpro(name=\"molpro\",\n",
      "                executable=\"/home/lmentel/Programs/MOLPRO/molprop_2012_1_Linux_x86_64_i8/bin/molpro\",\n",
      "                runopts=[\"-s\", \"-n\", \"1\"],\n",
      "                scratch=\"\")"
     ],
     "language": "python",
     "metadata": {},
     "outputs": [],
     "prompt_number": 2
    },
    {
     "cell_type": "markdown",
     "metadata": {},
     "source": [
      "Now we can write some sample molpro input and run in from python using the `Molpro` object created earlier."
     ]
    },
    {
     "cell_type": "code",
     "collapsed": false,
     "input": [
      "inpstr = '''***,H2O finite field calculations\n",
      "r=1.85,theta=104                !set geometry parameters\n",
      "geometry={O;                    !z-matrix input\n",
      "H1,O,r;\n",
      "H2,O,r,H1,theta}\n",
      "\n",
      "basis=avtz                      !define default basis\n",
      "\n",
      "hf\n",
      "ccsd(t)\n",
      "'''\n",
      "\n",
      "with open('h2o.inp', 'w') as finp:\n",
      "    finp.write(inpstr)\n",
      "    \n",
      "output = molpro.run('h2o.inp')"
     ],
     "language": "python",
     "metadata": {},
     "outputs": [],
     "prompt_number": 3
    },
    {
     "cell_type": "code",
     "collapsed": false,
     "input": [
      "mop = MolproOutputParser(output)"
     ],
     "language": "python",
     "metadata": {},
     "outputs": [],
     "prompt_number": 4
    },
    {
     "cell_type": "code",
     "collapsed": false,
     "input": [
      "mop.terminatedOK()"
     ],
     "language": "python",
     "metadata": {},
     "outputs": [
      {
       "metadata": {},
       "output_type": "pyout",
       "prompt_number": 5,
       "text": [
        "True"
       ]
      }
     ],
     "prompt_number": 5
    },
    {
     "cell_type": "code",
     "collapsed": false,
     "input": [
      "mop.get_hf_total_energy()"
     ],
     "language": "python",
     "metadata": {},
     "outputs": [
      {
       "metadata": {},
       "output_type": "pyout",
       "prompt_number": 6,
       "text": [
        "-76.058288041466"
       ]
      }
     ],
     "prompt_number": 6
    },
    {
     "cell_type": "code",
     "collapsed": false,
     "input": [
      "mop.get_ccsdt_total_energy()"
     ],
     "language": "python",
     "metadata": {},
     "outputs": [
      {
       "metadata": {},
       "output_type": "pyout",
       "prompt_number": 7,
       "text": [
        "-76.341780640047"
       ]
      }
     ],
     "prompt_number": 7
    },
    {
     "cell_type": "code",
     "collapsed": false,
     "input": [
      "mop.get_variable(r'NUCLEAR REPULSION ENERGY\\s*(-?\\d+\\.\\d+)')"
     ],
     "language": "python",
     "metadata": {},
     "outputs": [
      {
       "metadata": {},
       "output_type": "pyout",
       "prompt_number": 8,
       "text": [
        "8.99162654"
       ]
      }
     ],
     "prompt_number": 8
    },
    {
     "cell_type": "code",
     "collapsed": false,
     "input": [
      "mop.outexists()"
     ],
     "language": "python",
     "metadata": {},
     "outputs": [
      {
       "metadata": {},
       "output_type": "pyout",
       "prompt_number": 9,
       "text": [
        "True"
       ]
      }
     ],
     "prompt_number": 9
    }
   ],
   "metadata": {}
  }
 ]
}