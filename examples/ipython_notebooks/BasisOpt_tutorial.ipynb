{
 "cells": [
  {
   "cell_type": "markdown",
   "metadata": {},
   "source": [
    "<h1 style=\"text-align:center\"> Basis set optimization with chemtools tutorial</h1>"
   ]
  },
  {
   "cell_type": "code",
   "execution_count": 1,
   "metadata": {
    "collapsed": false
   },
   "outputs": [],
   "source": [
    "from chemtools.basisset import BasisSet\n",
    "from chemtools.basisopt import BSOptimizer\n",
    "from chemtools.molecule import Molecule\n",
    "from chemtools.molpro import Molpro"
   ]
  },
  {
   "cell_type": "markdown",
   "metadata": {},
   "source": [
    "Define the program that will be used to perform the energy calculations, in this particular case it will be [Molpro](https://www.molpro.net/)."
   ]
  },
  {
   "cell_type": "code",
   "execution_count": 2,
   "metadata": {
    "collapsed": true
   },
   "outputs": [],
   "source": [
    "mp = Molpro(executable=\"/home/lmentel/Programs/molprop_2012_1_Linux_x86_64_i8/bin/molpro\",\n",
    "            runopts=[\"-s\", \"-n\", \"1\", \"-d\", \".\"])"
   ]
  },
  {
   "cell_type": "markdown",
   "metadata": {},
   "source": [
    "# Optimization of even tempered parameters at the Hartree-Fock level for Be atom\n",
    "\n",
    "In the first example we will optimize the *s* exponents for the HF calculations."
   ]
  },
  {
   "cell_type": "markdown",
   "metadata": {},
   "source": [
    "define the system for which the optimization will be performed"
   ]
  },
  {
   "cell_type": "code",
   "execution_count": 3,
   "metadata": {
    "collapsed": false
   },
   "outputs": [],
   "source": [
    "be = Molecule('Be', atoms=[('Be',)])"
   ]
  },
  {
   "cell_type": "markdown",
   "metadata": {},
   "source": [
    "template for the input file to be used in sigle point calculations"
   ]
  },
  {
   "cell_type": "code",
   "execution_count": 4,
   "metadata": {
    "collapsed": true
   },
   "outputs": [],
   "source": [
    "templ =  '''***,be\n",
    "memory,100,m\n",
    "\n",
    "%geometry\n",
    "\n",
    "%basis\n",
    "\n",
    "%core\n",
    "\n",
    "gthresh,energy=1.0e-9\n",
    "{rhf; wf,4,1,0}\n",
    "\n",
    "'''"
   ]
  },
  {
   "cell_type": "code",
   "execution_count": 5,
   "metadata": {
    "collapsed": false
   },
   "outputs": [],
   "source": [
    "bso = BSOptimizer(method='hf', objective='total energy', template=templ, code=mp, mol=be,\n",
    "                  fsopt={'Be' : [('s', 'et', 8, (0.2, 4.0)),],}, verbose=False)"
   ]
  },
  {
   "cell_type": "code",
   "execution_count": 6,
   "metadata": {
    "collapsed": false
   },
   "outputs": [
    {
     "name": "stdout",
     "output_type": "stream",
     "text": [
      "Script name : /usr/local/lib/python2.7/dist-packages/IPython/kernel/__main__.py\n",
      "Workdir     : /usr/local/lib/python2.7/dist-packages/IPython/kernel\n",
      "Start time  : 2015-07-03 00:11:13.710915\n",
      "\n",
      "================================================================================\n",
      "=============================STARTING OPTIMIZATION==============================\n",
      "================================================================================\n",
      "\n",
      "======================================CODE======================================\n",
      "<Molpro(\n",
      "\tname=Molpro,\n",
      "\tmolpropath=/home/lmentel/Programs/molprop_2012_1_Linux_x86_64_i8/bin,\n",
      "\texecutable=/home/lmentel/Programs/molprop_2012_1_Linux_x86_64_i8/bin/molpro,\n",
      "\tscratch=/home/lmentel/scratch,\n",
      "\trunopts=['-s', '-n', '1', '-d', '.'],\n",
      ")>\n",
      "======================================MOL=======================================\n",
      "Name: Be         Charge: 0          Multiplicty: 1          Electrons: 4         \n",
      "Atoms:\n",
      "Element    Nuclear Charge\t       x              y              z       \n",
      "Be                   4.00\t        0.00000        0.00000        0.00000\n",
      "=====================================OPTALG=====================================\n",
      "{'jacob': None,\n",
      " 'lambda': 10.0,\n",
      " 'method': 'Nelder-Mead',\n",
      " 'options': {'disp': True, 'maxiter': 100},\n",
      " 'tol': 0.0001}\n",
      "Optimization terminated successfully.\n",
      "         Current function value: -14.566522\n",
      "         Iterations: 36\n",
      "         Function evaluations: 70\n",
      "  status: 0\n",
      "    nfev: 70\n",
      " success: True\n",
      "     fun: -14.566522375031999\n",
      "       x: array([ 0.07026115,  3.55530678])\n",
      " message: 'Optimization terminated successfully.'\n",
      "     nit: 36\n",
      "Elapsed time :               15.491 sec\n"
     ]
    }
   ],
   "source": [
    "bso.run()"
   ]
  },
  {
   "cell_type": "code",
   "execution_count": 7,
   "metadata": {
    "collapsed": false
   },
   "outputs": [
    {
     "data": {
      "text/plain": [
       "  status: 0\n",
       "    nfev: 70\n",
       " success: True\n",
       "     fun: -14.566522375031999\n",
       "       x: array([ 0.07026115,  3.55530678])\n",
       " message: 'Optimization terminated successfully.'\n",
       "     nit: 36"
      ]
     },
     "execution_count": 7,
     "metadata": {},
     "output_type": "execute_result"
    }
   ],
   "source": [
    "bso.result"
   ]
  },
  {
   "cell_type": "markdown",
   "metadata": {},
   "source": [
    "# Optimization of diffuse functions for cc-pvdz for Be \n",
    "\n",
    "Since Be atom doesn't form a stable negative ion diffuse functions for Be are optimized for BeH<sup>-</sup>  "
   ]
  },
  {
   "cell_type": "code",
   "execution_count": 8,
   "metadata": {
    "collapsed": true
   },
   "outputs": [],
   "source": [
    "beh = Molecule(name=\"Be\", atoms=[('Be',), ('H', (0.0, 0.0, 2.724985))], sym=\"cnv 2\", charge=-1, multiplicity=1)"
   ]
  },
  {
   "cell_type": "code",
   "execution_count": 9,
   "metadata": {
    "collapsed": false
   },
   "outputs": [],
   "source": [
    "bsstr = '''basis={\n",
    "s,Be,2.940000E+03,4.412000E+02,1.005000E+02,2.843000E+01,9.169000E+00,3.196000E+00,1.159000E+00,1.811000E-01,5.890000E-02;\n",
    "c,1.9,6.800000E-04,5.236000E-03,2.660600E-02,9.999300E-02,2.697020E-01,4.514690E-01,2.950740E-01,1.258700E-02,-3.756000E-03;\n",
    "c,1.9,-1.230000E-04,-9.660000E-04,-4.831000E-03,-1.931400E-02,-5.328000E-02,-1.207230E-01,-1.334350E-01,5.307670E-01,5.801170E-01;\n",
    "c,9.9,1.000000E+00;\n",
    "\n",
    "p,Be,3.619000E+00,7.110000E-01,1.951000E-01,6.018000E-02;\n",
    "c,1.4,2.911100E-02,1.693650E-01,5.134580E-01,4.793380E-01;\n",
    "c,4.4,1.000000E+00;\n",
    "\n",
    "d,Be,2.354000E-01;\n",
    "c,1.1,1.000000E+00;\n",
    "\n",
    "s, H , 13.0100000, 1.9620000, 0.4446000, 0.1220000, 0.0297400\n",
    "c, 1.3, 0.0196850, 0.1379770, 0.4781480\n",
    "c, 4.4, 1\n",
    "c, 5.5, 1\n",
    "p, H , 0.7270000, 0.1410000\n",
    "c, 1.1, 1\n",
    "c, 2.2, 1\n",
    "}\n",
    "'''\n",
    "diffusetmp =  '''***,be\n",
    "memory,100,m\n",
    "\n",
    "%geometry\n",
    "\n",
    "%basis\n",
    "\n",
    "%core\n",
    "\n",
    "gthresh,energy=1.0e-9\n",
    "{rhf; wf,6,1,0}\n",
    "cisd\n",
    "\n",
    "'''"
   ]
  },
  {
   "cell_type": "code",
   "execution_count": 10,
   "metadata": {
    "collapsed": true
   },
   "outputs": [],
   "source": [
    "bsd = BasisSet.from_str(bsstr, fmt='molpro', name='cc-pvdz')"
   ]
  },
  {
   "cell_type": "code",
   "execution_count": 11,
   "metadata": {
    "collapsed": false
   },
   "outputs": [],
   "source": [
    "difffs = {'Be' : [('s', 'exp', 1, (0.02,)), ('p', 'exp', 1, (0.01,)), ('d', 'exp', 1, (0.07,))]}"
   ]
  },
  {
   "cell_type": "code",
   "execution_count": 12,
   "metadata": {
    "collapsed": false
   },
   "outputs": [],
   "source": [
    "bso = BSOptimizer(method='cisd', objective='total energy', template=diffusetmp, code=mp, mol=beh,\n",
    "                  fsopt=difffs, staticbs=bsd, core=[1,0,0,0,0,0,0,0], verbose=False)"
   ]
  },
  {
   "cell_type": "code",
   "execution_count": 13,
   "metadata": {
    "collapsed": false
   },
   "outputs": [
    {
     "name": "stdout",
     "output_type": "stream",
     "text": [
      "Script name : /usr/local/lib/python2.7/dist-packages/IPython/kernel/__main__.py\n",
      "Workdir     : /usr/local/lib/python2.7/dist-packages/IPython/kernel\n",
      "Start time  : 2015-07-03 00:11:43.699471\n",
      "\n",
      "================================================================================\n",
      "=============================STARTING OPTIMIZATION==============================\n",
      "================================================================================\n",
      "\n",
      "======================================CODE======================================\n",
      "<Molpro(\n",
      "\tname=Molpro,\n",
      "\tmolpropath=/home/lmentel/Programs/molprop_2012_1_Linux_x86_64_i8/bin,\n",
      "\texecutable=/home/lmentel/Programs/molprop_2012_1_Linux_x86_64_i8/bin/molpro,\n",
      "\tscratch=/home/lmentel/scratch,\n",
      "\trunopts=['-s', '-n', '1', '-d', '.'],\n",
      ")>\n",
      "======================================MOL=======================================\n",
      "Name: Be         Charge: -1         Multiplicty: 1          Electrons: 6         \n",
      "Atoms:\n",
      "Element    Nuclear Charge\t       x              y              z       \n",
      "Be                   4.00\t        0.00000        0.00000        0.00000\n",
      "H                    1.00\t        0.00000        0.00000        2.72499\n",
      "=====================================OPTALG=====================================\n",
      "{'jacob': None,\n",
      " 'lambda': 10.0,\n",
      " 'method': 'Nelder-Mead',\n",
      " 'options': {'disp': True, 'maxiter': 100},\n",
      " 'tol': 0.0001}\n",
      "Optimization terminated successfully.\n",
      "         Current function value: -15.158347\n",
      "         Iterations: 61\n",
      "         Function evaluations: 106\n",
      "  status: 0\n",
      "    nfev: 106\n",
      " success: True\n",
      "     fun: -15.158346988063\n",
      "       x: array([ 0.02079341,  0.18930133,  0.07711282])\n",
      " message: 'Optimization terminated successfully.'\n",
      "     nit: 61\n",
      "Elapsed time :               31.183 sec\n"
     ]
    }
   ],
   "source": [
    "bso.run()"
   ]
  },
  {
   "cell_type": "code",
   "execution_count": 14,
   "metadata": {
    "collapsed": false
   },
   "outputs": [
    {
     "data": {
      "text/plain": [
       "  status: 0\n",
       "    nfev: 106\n",
       " success: True\n",
       "     fun: -15.158346988063\n",
       "       x: array([ 0.02079341,  0.18930133,  0.07711282])\n",
       " message: 'Optimization terminated successfully.'\n",
       "     nit: 61"
      ]
     },
     "execution_count": 14,
     "metadata": {},
     "output_type": "execute_result"
    }
   ],
   "source": [
    "bso.result"
   ]
  },
  {
   "cell_type": "markdown",
   "metadata": {},
   "source": [
    "# Optimization of tight functions for cc-pvdz Be"
   ]
  },
  {
   "cell_type": "code",
   "execution_count": 15,
   "metadata": {
    "collapsed": false
   },
   "outputs": [],
   "source": [
    "bsd = BasisSet.from_str(bsstr, fmt='molpro', name='cc-pvdz')\n",
    "pvdzbe = {k:v for k, v in bsd.items() if k=='Be'}"
   ]
  },
  {
   "cell_type": "code",
   "execution_count": 16,
   "metadata": {
    "collapsed": false
   },
   "outputs": [],
   "source": [
    "tightfs = {'Be' : [('s', 'exp', 1, (1.8,)), ('p', 'exp', 1, (4.2,))]}"
   ]
  },
  {
   "cell_type": "code",
   "execution_count": 17,
   "metadata": {
    "collapsed": true
   },
   "outputs": [],
   "source": [
    "tighttmp = '''***,be-core\n",
    "memory,100,m                            !allocate 500 MW dynamic memory\n",
    "\n",
    "%geometry\n",
    "\n",
    "%basis\n",
    "\n",
    "%core\n",
    "\n",
    "{rhf; wf,4,1,0}\n",
    "cisd\n",
    "'''"
   ]
  },
  {
   "cell_type": "code",
   "execution_count": 18,
   "metadata": {
    "collapsed": true
   },
   "outputs": [],
   "source": [
    "bso = BSOptimizer(method='cisd', objective='core energy', template=tighttmp, code=mp, mol=be,\n",
    "                  fsopt=tightfs, staticbs=pvdzbe, core=[[1,0,0,0,0,0,0,0],[0,0,0,0,0,0,0,0]], verbose=False)"
   ]
  },
  {
   "cell_type": "code",
   "execution_count": 19,
   "metadata": {
    "collapsed": false
   },
   "outputs": [
    {
     "name": "stdout",
     "output_type": "stream",
     "text": [
      "Script name : /usr/local/lib/python2.7/dist-packages/IPython/kernel/__main__.py\n",
      "Workdir     : /usr/local/lib/python2.7/dist-packages/IPython/kernel\n",
      "Start time  : 2015-07-03 00:12:34.024122\n",
      "\n",
      "================================================================================\n",
      "=============================STARTING OPTIMIZATION==============================\n",
      "================================================================================\n",
      "\n",
      "======================================CODE======================================\n",
      "<Molpro(\n",
      "\tname=Molpro,\n",
      "\tmolpropath=/home/lmentel/Programs/molprop_2012_1_Linux_x86_64_i8/bin,\n",
      "\texecutable=/home/lmentel/Programs/molprop_2012_1_Linux_x86_64_i8/bin/molpro,\n",
      "\tscratch=/home/lmentel/scratch,\n",
      "\trunopts=['-s', '-n', '1', '-d', '.'],\n",
      ")>\n",
      "======================================MOL=======================================\n",
      "Name: Be         Charge: 0          Multiplicty: 1          Electrons: 4         \n",
      "Atoms:\n",
      "Element    Nuclear Charge\t       x              y              z       \n",
      "Be                   4.00\t        0.00000        0.00000        0.00000\n",
      "=====================================OPTALG=====================================\n",
      "{'jacob': None,\n",
      " 'lambda': 10.0,\n",
      " 'method': 'Nelder-Mead',\n",
      " 'options': {'disp': True, 'maxiter': 100},\n",
      " 'tol': 0.0001}\n",
      "Optimization terminated successfully.\n",
      "         Current function value: -0.031657\n",
      "         Iterations: 34\n",
      "         Function evaluations: 68\n",
      "  status: 0\n",
      "    nfev: 68\n",
      " success: True\n",
      "     fun: -0.031657195983001429\n",
      "       x: array([ 1.85981969,  6.16310027])\n",
      " message: 'Optimization terminated successfully.'\n",
      "     nit: 34\n",
      "Elapsed time :               20.886 sec\n"
     ]
    }
   ],
   "source": [
    "bso.run()"
   ]
  },
  {
   "cell_type": "code",
   "execution_count": 20,
   "metadata": {
    "collapsed": false
   },
   "outputs": [
    {
     "data": {
      "text/plain": [
       "  status: 0\n",
       "    nfev: 68\n",
       " success: True\n",
       "     fun: -0.031657195983001429\n",
       "       x: array([ 1.85981969,  6.16310027])\n",
       " message: 'Optimization terminated successfully.'\n",
       "     nit: 34"
      ]
     },
     "execution_count": 20,
     "metadata": {},
     "output_type": "execute_result"
    }
   ],
   "source": [
    "bso.result"
   ]
  },
  {
   "cell_type": "markdown",
   "metadata": {},
   "source": [
    "# Optimization of mid-bond function exponents"
   ]
  },
  {
   "cell_type": "code",
   "execution_count": 21,
   "metadata": {
    "collapsed": false
   },
   "outputs": [],
   "source": [
    "be2X = Molecule(name=\"Be2\", atoms=[('Be', (0.0, 0.0, -1.5)),\n",
    "                                  ('H', (0.0, 0.0,  0.0), True),\n",
    "                                  ('Be', (0.0, 0.0,  1.5))], sym=\"dnh 2\", charge=0, multiplicity=1)"
   ]
  },
  {
   "cell_type": "code",
   "execution_count": 22,
   "metadata": {
    "collapsed": true
   },
   "outputs": [],
   "source": [
    "mbfs = {'H' : [('s', 'et', 4, (0.05, 2.0)), ('p', 'et', 4, (0.04, 2.0))]}"
   ]
  },
  {
   "cell_type": "code",
   "execution_count": 23,
   "metadata": {
    "collapsed": true
   },
   "outputs": [],
   "source": [
    "mbtmp = '''***,h2o test\n",
    "memory,100,m                            !allocate 500 MW dynamic memory\n",
    "\n",
    "%geometry\n",
    "\n",
    "%basis\n",
    "\n",
    "dummy, H\n",
    "\n",
    "%core\n",
    "\n",
    "{rhf; wf,8,1,0}\n",
    "cisd\n",
    "\n",
    "'''"
   ]
  },
  {
   "cell_type": "code",
   "execution_count": 24,
   "metadata": {
    "collapsed": false
   },
   "outputs": [],
   "source": [
    "bso = BSOptimizer(method='cisd', objective='total energy', template=mbtmp, code=mp, mol=be2X,\n",
    "                  fsopt=mbfs, staticbs=pvdzbe, core=[2,0,0,0,0,0,0,0], verbose=False)"
   ]
  },
  {
   "cell_type": "code",
   "execution_count": 25,
   "metadata": {
    "collapsed": false
   },
   "outputs": [
    {
     "name": "stdout",
     "output_type": "stream",
     "text": [
      "Script name : /usr/local/lib/python2.7/dist-packages/IPython/kernel/__main__.py\n",
      "Workdir     : /usr/local/lib/python2.7/dist-packages/IPython/kernel\n",
      "Start time  : 2015-07-03 00:13:43.444477\n",
      "\n",
      "================================================================================\n",
      "=============================STARTING OPTIMIZATION==============================\n",
      "================================================================================\n",
      "\n",
      "======================================CODE======================================\n",
      "<Molpro(\n",
      "\tname=Molpro,\n",
      "\tmolpropath=/home/lmentel/Programs/molprop_2012_1_Linux_x86_64_i8/bin,\n",
      "\texecutable=/home/lmentel/Programs/molprop_2012_1_Linux_x86_64_i8/bin/molpro,\n",
      "\tscratch=/home/lmentel/scratch,\n",
      "\trunopts=['-s', '-n', '1', '-d', '.'],\n",
      ")>\n",
      "======================================MOL=======================================\n",
      "Name: Be2        Charge: 0          Multiplicty: 1          Electrons: 8         \n",
      "Atoms:\n",
      "Element    Nuclear Charge\t       x              y              z       \n",
      "Be                   4.00\t        0.00000        0.00000       -1.50000\n",
      "H                    0.00\t        0.00000        0.00000        0.00000\n",
      "Be                   4.00\t        0.00000        0.00000        1.50000\n",
      "=====================================OPTALG=====================================\n",
      "{'jacob': None,\n",
      " 'lambda': 10.0,\n",
      " 'method': 'Nelder-Mead',\n",
      " 'options': {'disp': True, 'maxiter': 100},\n",
      " 'tol': 0.0001}\n",
      "Warning: Maximum number of iterations has been exceeded.\n",
      "  status: 2\n",
      "    nfev: 168\n",
      " success: False\n",
      "     fun: -29.164707647050999\n",
      "       x: array([ 0.05114879,  1.70176733,  0.05504829,  1.9460615 ])\n",
      " message: 'Maximum number of iterations has been exceeded.'\n",
      "     nit: 100\n",
      "Elapsed time :               54.715 sec\n"
     ]
    }
   ],
   "source": [
    "bso.run()"
   ]
  },
  {
   "cell_type": "code",
   "execution_count": 26,
   "metadata": {
    "collapsed": false
   },
   "outputs": [
    {
     "data": {
      "text/plain": [
       "  status: 2\n",
       "    nfev: 168\n",
       " success: False\n",
       "     fun: -29.164707647050999\n",
       "       x: array([ 0.05114879,  1.70176733,  0.05504829,  1.9460615 ])\n",
       " message: 'Maximum number of iterations has been exceeded.'\n",
       "     nit: 100"
      ]
     },
     "execution_count": 26,
     "metadata": {},
     "output_type": "execute_result"
    }
   ],
   "source": [
    "bso.result"
   ]
  },
  {
   "cell_type": "code",
   "execution_count": 27,
   "metadata": {
    "collapsed": false
   },
   "outputs": [
    {
     "data": {
      "application/json": {
       "Software versions": [
        {
         "module": "Python",
         "version": "2.7.9 64bit [GCC 4.9.2]"
        },
        {
         "module": "IPython",
         "version": "3.2.0"
        },
        {
         "module": "OS",
         "version": "Linux 3.16.0 4 amd64 x86_64 with debian 8.1"
        },
        {
         "module": "chemtools",
         "version": "0.5.0"
        }
       ]
      },
      "text/html": [
       "<table><tr><th>Software</th><th>Version</th></tr><tr><td>Python</td><td>2.7.9 64bit [GCC 4.9.2]</td></tr><tr><td>IPython</td><td>3.2.0</td></tr><tr><td>OS</td><td>Linux 3.16.0 4 amd64 x86_64 with debian 8.1</td></tr><tr><td>chemtools</td><td>0.5.0</td></tr><tr><td colspan='2'>Fri Jul 03 00:15:00 2015 CEST</td></tr></table>"
      ],
      "text/latex": [
       "\\begin{tabular}{|l|l|}\\hline\n",
       "{\\bf Software} & {\\bf Version} \\\\ \\hline\\hline\n",
       "Python & 2.7.9 64bit [GCC 4.9.2] \\\\ \\hline\n",
       "IPython & 3.2.0 \\\\ \\hline\n",
       "OS & Linux 3.16.0 4 amd64 x86\\_64 with debian 8.1 \\\\ \\hline\n",
       "chemtools & 0.5.0 \\\\ \\hline\n",
       "\\hline \\multicolumn{2}{|l|}{Fri Jul 03 00:15:00 2015 CEST} \\\\ \\hline\n",
       "\\end{tabular}\n"
      ],
      "text/plain": [
       "Software versions\n",
       "Python 2.7.9 64bit [GCC 4.9.2]\n",
       "IPython 3.2.0\n",
       "OS Linux 3.16.0 4 amd64 x86_64 with debian 8.1\n",
       "chemtools 0.5.0\n",
       "Fri Jul 03 00:15:00 2015 CEST"
      ]
     },
     "execution_count": 27,
     "metadata": {},
     "output_type": "execute_result"
    }
   ],
   "source": [
    "%version_information chemtools"
   ]
  }
 ],
 "metadata": {
  "kernelspec": {
   "display_name": "Python 2",
   "language": "python",
   "name": "python2"
  },
  "language_info": {
   "codemirror_mode": {
    "name": "ipython",
    "version": 2
   },
   "file_extension": ".py",
   "mimetype": "text/x-python",
   "name": "python",
   "nbconvert_exporter": "python",
   "pygments_lexer": "ipython2",
   "version": "2.7.9"
  }
 },
 "nbformat": 4,
 "nbformat_minor": 0
}
