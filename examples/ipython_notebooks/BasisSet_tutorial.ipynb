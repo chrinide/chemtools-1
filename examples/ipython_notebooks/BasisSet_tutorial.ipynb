{
 "cells": [
  {
   "cell_type": "markdown",
   "metadata": {},
   "source": [
    "<h1 style=\"text-align:center\"> A short tutorial on the basisset module </h1>\n",
    "\n",
    "BasisSet class provides a handy format for storing and manipulating basis sets used in quantum chemistry.\n",
    "\n",
    "The BasisSet object has the following attributes\n",
    "* name\n",
    "* functions\n",
    "* element\n",
    "\n",
    "`functions` is a dictionary and should have the folowing structure:\n",
    "\n",
    "    {'s' : {'e'  : numpy.array([exp0, exp1, exp2, ...]),\n",
    "            'cf' : [\n",
    "                    numpy.array([(i00, c00), (i01, c01), (i02, c02) ...], dtype=[('idx', '<i4'), ('cc', '<f8')]),\n",
    "                    numpy.array([(i10, c10), (i11, c11), (i12, c12) ...], dtype=[('idx', '<i4'), ('cc', '<f8')]),\n",
    "                    ...\n",
    "                    ]\n",
    "            }\n",
    "     'p' : {'e'  : numpy.array([exp0, exp1, exp2, ...]),\n",
    "            'cf' : [\n",
    "                    numpy.array([(i00, c00), (i01, c01), (i02, c02) ...], dtype=[('idx', '<i4'), ('cc', '<f8')]),\n",
    "                    numpy.array([(i10, c10), (i11, c11), (i12, c12) ...], dtype=[('idx', '<i4'), ('cc', '<f8')]),\n",
    "                    ...\n",
    "                    ]\n",
    "            }\n",
    "      ...\n",
    "    }\n",
    "\n"
   ]
  },
  {
   "cell_type": "code",
   "execution_count": 1,
   "metadata": {
    "collapsed": false
   },
   "outputs": [],
   "source": [
    "from __future__ import print_function\n",
    "from chemtools.basisset import BasisSet, merge"
   ]
  },
  {
   "cell_type": "markdown",
   "metadata": {},
   "source": [
    "<h1 style=\"text-align:center\"> Parsing basis sets </h1>"
   ]
  },
  {
   "cell_type": "markdown",
   "metadata": {},
   "source": [
    "At present the basis sets can be parsed in the following code formats:\n",
    "* [Molpro](https://www.molpro.net/),\n",
    "* [Gamess(US)](http://www.msg.ameslab.gov/gamess/),\n",
    "* [Gaussian](http://www.gaussian.com/)\n",
    "\n",
    "The basis sets can e parsed from string or from files. Here only the `from_string` will be shown but the `from_file` method has the same call sigantre with first argument being the file name."
   ]
  },
  {
   "cell_type": "markdown",
   "metadata": {},
   "source": [
    "### `cc-pvdz` basis for Be in molpro format"
   ]
  },
  {
   "cell_type": "code",
   "execution_count": 2,
   "metadata": {
    "collapsed": false
   },
   "outputs": [],
   "source": [
    "mpstr = '''basis={\n",
    "!\n",
    "! BERYLLIUM       (9s,4p,1d) -> [3s,2p,1d]\n",
    "! BERYLLIUM       (9s,4p,1d) -> [3s,2p,1d]\n",
    "s, BE , 2940.0000000, 441.2000000, 100.5000000, 28.4300000, 9.1690000, 3.1960000, 1.1590000, 0.1811000, 0.0589000\n",
    "c, 1.8, 0.0006800, 0.0052360, 0.0266060, 0.0999930, 0.2697020, 0.4514690, 0.2950740, 0.0125870\n",
    "c, 1.8, -0.0001230, -0.0009660, -0.0048310, -0.0193140, -0.0532800, -0.1207230, -0.1334350, 0.5307670\n",
    "c, 9.9, 1\n",
    "p, BE , 3.6190000, 0.7110000, 0.1951000, 0.0601800\n",
    "c, 1.3, 0.0291110, 0.1693650, 0.5134580\n",
    "c, 4.4, 1\n",
    "d, BE , 0.2380000\n",
    "c, 1.1, 1\n",
    "}'''"
   ]
  },
  {
   "cell_type": "markdown",
   "metadata": {},
   "source": [
    "Construct a `BasisSet` instance from string"
   ]
  },
  {
   "cell_type": "code",
   "execution_count": 3,
   "metadata": {
    "collapsed": false
   },
   "outputs": [],
   "source": [
    "pvdz = BasisSet.from_str(mpstr, fmt='molpro', name='cc-pvdz')"
   ]
  },
  {
   "cell_type": "code",
   "execution_count": 4,
   "metadata": {
    "collapsed": false
   },
   "outputs": [
    {
     "name": "stdout",
     "output_type": "stream",
     "text": [
      "Name                 = cc-pvdz\n",
      "Element              = Be\n",
      "Family               = None\n",
      "Kind                 = None\n",
      "Functions:\n",
      "\n",
      "================s shell=================\n",
      "Contracted:\n",
      "    1     2940.0000000000     0.00068000    -0.00012300\n",
      "    2      441.2000000000     0.00523600    -0.00096600\n",
      "    3      100.5000000000     0.02660600    -0.00483100\n",
      "    4       28.4300000000     0.09999300    -0.01931400\n",
      "    5        9.1690000000     0.26970200    -0.05328000\n",
      "    6        3.1960000000     0.45146900    -0.12072300\n",
      "    7        1.1590000000     0.29507400    -0.13343500\n",
      "    8        0.1811000000     0.01258700     0.53076700\n",
      "Uncontracted:\n",
      "    9        0.0589000000     1.00000000\n",
      "\n",
      "================p shell=================\n",
      "Contracted:\n",
      "    1        3.6190000000     0.02911100\n",
      "    2        0.7110000000     0.16936500\n",
      "    3        0.1951000000     0.51345800\n",
      "Uncontracted:\n",
      "    4        0.0601800000     1.00000000\n",
      "\n",
      "================d shell=================\n",
      "Uncontracted:\n",
      "    1        0.2380000000     1.00000000\n",
      "\n"
     ]
    }
   ],
   "source": [
    "print(pvdz)"
   ]
  },
  {
   "cell_type": "markdown",
   "metadata": {},
   "source": [
    "### `cc-pvdz` basis for Be in Gaussian format"
   ]
  },
  {
   "cell_type": "code",
   "execution_count": 5,
   "metadata": {
    "collapsed": true
   },
   "outputs": [],
   "source": [
    "gaustr = '''****\n",
    "Be     0 \n",
    "S   8   1.00\n",
    "   2940.0000000              0.0006800        \n",
    "    441.2000000              0.0052360        \n",
    "    100.5000000              0.0266060        \n",
    "     28.4300000              0.0999930        \n",
    "      9.1690000              0.2697020        \n",
    "      3.1960000              0.4514690        \n",
    "      1.1590000              0.2950740        \n",
    "      0.1811000              0.0125870        \n",
    "S   8   1.00\n",
    "   2940.0000000             -0.0001230        \n",
    "    441.2000000             -0.0009660        \n",
    "    100.5000000             -0.0048310        \n",
    "     28.4300000             -0.0193140        \n",
    "      9.1690000             -0.0532800        \n",
    "      3.1960000             -0.1207230        \n",
    "      1.1590000             -0.1334350        \n",
    "      0.1811000              0.5307670        \n",
    "S   1   1.00\n",
    "      0.0589000              1.0000000        \n",
    "P   3   1.00\n",
    "      3.6190000              0.0291110        \n",
    "      0.7110000              0.1693650        \n",
    "      0.1951000              0.5134580        \n",
    "P   1   1.00\n",
    "      0.0601800              1.0000000        \n",
    "D   1   1.00\n",
    "      0.2380000              1.0000000        \n",
    "****'''"
   ]
  },
  {
   "cell_type": "code",
   "execution_count": 6,
   "metadata": {
    "collapsed": true
   },
   "outputs": [],
   "source": [
    "gaupvdz = BasisSet.from_str(gaustr, fmt='gaussian', name='cc-pvdz')"
   ]
  },
  {
   "cell_type": "code",
   "execution_count": 7,
   "metadata": {
    "collapsed": false
   },
   "outputs": [
    {
     "name": "stdout",
     "output_type": "stream",
     "text": [
      "Name                 = cc-pvdz\n",
      "Element              = Be\n",
      "Family               = None\n",
      "Kind                 = None\n",
      "Functions:\n",
      "\n",
      "================s shell=================\n",
      "Contracted:\n",
      "    1     2940.0000000000     0.00068000    -0.00012300\n",
      "    2      441.2000000000     0.00523600    -0.00096600\n",
      "    3      100.5000000000     0.02660600    -0.00483100\n",
      "    4       28.4300000000     0.09999300    -0.01931400\n",
      "    5        9.1690000000     0.26970200    -0.05328000\n",
      "    6        3.1960000000     0.45146900    -0.12072300\n",
      "    7        1.1590000000     0.29507400    -0.13343500\n",
      "    8        0.1811000000     0.01258700     0.53076700\n",
      "Uncontracted:\n",
      "    9        0.0589000000     1.00000000\n",
      "\n",
      "================p shell=================\n",
      "Contracted:\n",
      "    1        3.6190000000     0.02911100\n",
      "    2        0.7110000000     0.16936500\n",
      "    3        0.1951000000     0.51345800\n",
      "Uncontracted:\n",
      "    4        0.0601800000     1.00000000\n",
      "\n",
      "================d shell=================\n",
      "Uncontracted:\n",
      "    1        0.2380000000     1.00000000\n",
      "\n"
     ]
    }
   ],
   "source": [
    "print(gaupvdz)"
   ]
  },
  {
   "cell_type": "markdown",
   "metadata": {},
   "source": [
    "### `cc-pvdz` for Be in Gamess(US) format"
   ]
  },
  {
   "cell_type": "code",
   "execution_count": 8,
   "metadata": {
    "collapsed": true
   },
   "outputs": [],
   "source": [
    "gamstr = '''$DATA\n",
    "BERYLLIUM\n",
    "S   8\n",
    "  1   2940.0000000              0.0006800        \n",
    "  2    441.2000000              0.0052360        \n",
    "  3    100.5000000              0.0266060        \n",
    "  4     28.4300000              0.0999930        \n",
    "  5      9.1690000              0.2697020        \n",
    "  6      3.1960000              0.4514690        \n",
    "  7      1.1590000              0.2950740        \n",
    "  8      0.1811000              0.0125870        \n",
    "S   8\n",
    "  1   2940.0000000             -0.0001230        \n",
    "  2    441.2000000             -0.0009660        \n",
    "  3    100.5000000             -0.0048310        \n",
    "  4     28.4300000             -0.0193140        \n",
    "  5      9.1690000             -0.0532800        \n",
    "  6      3.1960000             -0.1207230        \n",
    "  7      1.1590000             -0.1334350        \n",
    "  8      0.1811000              0.5307670        \n",
    "S   1\n",
    "  1      0.0589000              1.0000000        \n",
    "P   3\n",
    "  1      3.6190000              0.0291110        \n",
    "  2      0.7110000              0.1693650        \n",
    "  3      0.1951000              0.5134580        \n",
    "P   1\n",
    "  1      0.0601800              1.0000000        \n",
    "D   1\n",
    "  1      0.2380000              1.0000000        \n",
    "$END\n",
    "'''"
   ]
  },
  {
   "cell_type": "code",
   "execution_count": 9,
   "metadata": {
    "collapsed": false
   },
   "outputs": [],
   "source": [
    "gampvdz = BasisSet.from_str(gamstr, fmt='gamessus', name='cc-pvdz') "
   ]
  },
  {
   "cell_type": "code",
   "execution_count": 10,
   "metadata": {
    "collapsed": false
   },
   "outputs": [
    {
     "name": "stdout",
     "output_type": "stream",
     "text": [
      "Name                 = cc-pvdz\n",
      "Element              = Be\n",
      "Family               = None\n",
      "Kind                 = None\n",
      "Functions:\n",
      "\n",
      "================s shell=================\n",
      "Contracted:\n",
      "    1     2940.0000000000     0.00068000    -0.00012300\n",
      "    2      441.2000000000     0.00523600    -0.00096600\n",
      "    3      100.5000000000     0.02660600    -0.00483100\n",
      "    4       28.4300000000     0.09999300    -0.01931400\n",
      "    5        9.1690000000     0.26970200    -0.05328000\n",
      "    6        3.1960000000     0.45146900    -0.12072300\n",
      "    7        1.1590000000     0.29507400    -0.13343500\n",
      "    8        0.1811000000     0.01258700     0.53076700\n",
      "Uncontracted:\n",
      "    9        0.0589000000     1.00000000\n",
      "\n",
      "================p shell=================\n",
      "Contracted:\n",
      "    1        3.6190000000     0.02911100\n",
      "    2        0.7110000000     0.16936500\n",
      "    3        0.1951000000     0.51345800\n",
      "Uncontracted:\n",
      "    4        0.0601800000     1.00000000\n",
      "\n",
      "================d shell=================\n",
      "Uncontracted:\n",
      "    1        0.2380000000     1.00000000\n",
      "\n"
     ]
    }
   ],
   "source": [
    "print(gampvdz)"
   ]
  },
  {
   "cell_type": "markdown",
   "metadata": {},
   "source": [
    "### Basis sets for multiple elements\n",
    "\n",
    "If basis sets for multiple elements are given in the format compatible with [EMSL BSE](https://bse.pnl.gov/bse/portal) the parser returns a dictionary with element symbols as keys and `BasisSet` objects as values. For example below is the cc-pCVDZ basis set string in molpro format for Be, Mg, Ca as downloaded from EMSL. Remaining Gamess(US) and Gaussian formats can be parsed analogously. "
   ]
  },
  {
   "cell_type": "code",
   "execution_count": 11,
   "metadata": {
    "collapsed": true
   },
   "outputs": [],
   "source": [
    "multi = '''\n",
    "basis={\n",
    "!\n",
    "! BERYLLIUM       (10s,5p,1d) -> [4s,3p,1d]\n",
    "! BERYLLIUM       (9s,4p,1d) -> [3s,2p,1d]\n",
    "! BERYLLIUM       (1s,1p)\n",
    "s, BE , 2940.0000000, 441.2000000, 100.5000000, 28.4300000, 9.1690000, 3.1960000, 1.1590000, 0.1811000, 0.0589000, 1.8600000\n",
    "c, 1.8, 0.0006800, 0.0052360, 0.0266060, 0.0999930, 0.2697020, 0.4514690, 0.2950740, 0.0125870\n",
    "c, 1.8, -0.0001230, -0.0009660, -0.0048310, -0.0193140, -0.0532800, -0.1207230, -0.1334350, 0.5307670\n",
    "c, 9.9, 1\n",
    "c, 10.10, 1\n",
    "p, BE , 3.6190000, 0.7110000, 0.1951000, 0.0601800, 6.1630000\n",
    "c, 1.3, 0.0291110, 0.1693650, 0.5134580\n",
    "c, 4.4, 1\n",
    "c, 5.5, 1\n",
    "d, BE , 0.2380000\n",
    "c, 1.1, 1\n",
    "! MAGNESIUM       (13s,9p,2d) -> [5s,4p,2d]\n",
    "! MAGNESIUM       (12s,8p,1d) -> [4s,3p,1d]\n",
    "! MAGNESIUM       (1s,1p,1d)\n",
    "s, MG , 47390.0000000, 7108.0000000, 1618.0000000, 458.4000000, 149.3000000, 53.5900000, 20.7000000, 8.3840000, 2.5420000, 0.8787000, 0.1077000, 0.0399900, 3.4220000\n",
    "c, 1.11, 0.346023D-03, 0.268077D-02, 0.138367D-01, 0.551767D-01, 0.169660D+00, 0.364703D+00, 0.406856D+00, 0.135089D+00, 0.490884D-02, 0.286460D-03, 0.264590D-04\n",
    "c, 1.11, -0.877839D-04, -0.674725D-03, -0.355603D-02, -0.142154D-01, -0.476748D-01, -0.114892D+00, -0.200676D+00, -0.341224D-01, 0.570454D+00, 0.542309D+00, 0.218128D-01\n",
    "c, 1.11, 0.169628D-04, 0.129865D-03, 0.688831D-03, 0.273533D-02, 0.931224D-02, 0.223265D-01, 0.411195D-01, 0.545642D-02, -0.134012D+00, -0.256176D+00, 0.605856D+00\n",
    "c, 12.12, 1\n",
    "c, 13.13, 1\n",
    "p, MG , 179.9000000, 42.1400000, 13.1300000, 4.6280000, 1.6700000, 0.5857000, 0.1311000, 0.0411200, 8.2790000\n",
    "c, 1.7, 0.538161D-02, 0.392418D-01, 0.157445D+00, 0.358535D+00, 0.457226D+00, 0.215918D+00, 0.664948D-02\n",
    "c, 1.7, -0.865948D-03, -0.615978D-02, -0.261519D-01, -0.570647D-01, -0.873906D-01, -0.122990D-01, 0.502085D+00\n",
    "c, 8.8, 1\n",
    "c, 9.9, 1\n",
    "d, MG , 0.1870000, 3.7040000\n",
    "c, 1.1, 1\n",
    "c, 2.2, 1\n",
    "! CALCIUM       (15s,12p,6d) -> [6s,5p,3d]\n",
    "! CALCIUM       (14s,11p,5d) -> [5s,4p,2d]\n",
    "! CALCIUM       (1s,1p,1d)\n",
    "s, CA , 190000.7000000, 28481.4600000, 6482.7010000, 1835.8910000, 598.7243000, 215.8841000, 84.0124200, 34.2248800, 10.0249700, 4.0559200, 1.0202610, 0.4268650, 0.0633470, 0.0263010, 1.1143000\n",
    "c, 1.13, 0.00022145, 0.00171830, 0.00892348, 0.03630183, 0.11762223, 0.28604352, 0.42260708, 0.25774366, 0.02391893, -0.00495218, 0.00171779, -0.00089209, 0.00024510\n",
    "c, 1.13, -0.00006453, -0.00049662, -0.00262826, -0.01066845, -0.03713509, -0.09804284, -0.20342692, -0.15244655, 0.48279406, 0.62923839, 0.06164842, -0.01479971, 0.00361089\n",
    "c, 1.13, 0.00002223, 0.00017170, 0.00090452, 0.00370343, 0.01283750, 0.03475459, 0.07303491, 0.06100083, -0.24292928, -0.48708500, 0.56502804, 0.65574386, 0.02672894\n",
    "c, 1.13, 0.00000531, 0.00004111, 0.00021568, 0.00088827, 0.00305813, 0.00837608, 0.01741056, 0.01515453, -0.06207919, -0.12611803, 0.17360694, 0.37822943, -0.65964698\n",
    "c, 14.14, 1\n",
    "c, 15.15, 1\n",
    "p, CA , 1072.0430000, 253.8439000, 81.3162600, 30.2418300, 12.1011000, 5.0225540, 1.9092200, 0.7713040, 0.3005700, 0.0766490, 0.0277720, 1.5101000\n",
    "c, 1.10, 0.00198166, 0.01612944, 0.07657851, 0.23269594, 0.42445210, 0.37326402, 0.07868530, -0.00599927, 0.00264257, -0.00085694\n",
    "c, 1.10, -0.00064891, -0.00527907, -0.02581131, -0.08062892, -0.15846552, -0.12816816, 0.25610103, 0.58724068, 0.30372561, 0.01416451\n",
    "c, 1.10, 0.00013595, 0.00109420, 0.00542680, 0.01674718, 0.03389863, 0.02531183, -0.05895713, -0.15876120, -0.08554523, 0.54464665\n",
    "c, 11.11, 1\n",
    "c, 12.12, 1\n",
    "d, CA , 10.3182000, 2.5924200, 0.7617000, 0.2083800, 0.0537000, 1.3743000\n",
    "c, 1.4, 0.03284900, 0.14819200, 0.31092100, 0.45219500\n",
    "c, 5.5, 1\n",
    "c, 6.6, 1\n",
    "}'''"
   ]
  },
  {
   "cell_type": "markdown",
   "metadata": {},
   "source": [
    "It can be parsed analogously to a basis for single element using `from_string` method or `from_file` when the basis is stored in a text file"
   ]
  },
  {
   "cell_type": "code",
   "execution_count": 12,
   "metadata": {
    "collapsed": false
   },
   "outputs": [],
   "source": [
    "bsdict = BasisSet.from_str(multi, name='cc-pCVDZ', fmt='molpro')"
   ]
  },
  {
   "cell_type": "markdown",
   "metadata": {},
   "source": [
    "The parsed basis set can be accessed by element symbols"
   ]
  },
  {
   "cell_type": "code",
   "execution_count": 13,
   "metadata": {
    "collapsed": false
   },
   "outputs": [
    {
     "data": {
      "text/plain": [
       "dict_keys(['Be', 'Mg', 'Ca'])"
      ]
     },
     "execution_count": 13,
     "metadata": {},
     "output_type": "execute_result"
    }
   ],
   "source": [
    "bsdict.keys()"
   ]
  },
  {
   "cell_type": "markdown",
   "metadata": {},
   "source": [
    "To test the parsed basis we can print some of the properties of the basis sets"
   ]
  },
  {
   "cell_type": "code",
   "execution_count": 14,
   "metadata": {
    "collapsed": false
   },
   "outputs": [
    {
     "name": "stdout",
     "output_type": "stream",
     "text": [
      "Be cc-pCVDZ Be (10s5p1d) -> [4s3p1d] : {8 8 1 1/3 1 1/1}\n",
      "Mg cc-pCVDZ Mg (13s9p2d) -> [5s4p2d] : {11 11 11 1 1/7 7 1 1/1 1}\n",
      "Ca cc-pCVDZ Ca (15s12p6d) -> [6s5p3d] : {13 13 13 13 1 1/10 10 10 1 1/4 1 1}\n"
     ]
    }
   ],
   "source": [
    "for symbol, bs in bsdict.items():\n",
    "    print(symbol, bs.name, bs.element, bs.contraction_scheme())"
   ]
  },
  {
   "cell_type": "markdown",
   "metadata": {},
   "source": [
    "## Attributes and methods"
   ]
  },
  {
   "cell_type": "markdown",
   "metadata": {},
   "source": [
    "Siple attributes and methods are available to retrieve the inforamtion about the basis set"
   ]
  },
  {
   "cell_type": "code",
   "execution_count": 15,
   "metadata": {
    "collapsed": false
   },
   "outputs": [
    {
     "data": {
      "text/plain": [
       "'cc-pvdz'"
      ]
     },
     "execution_count": 15,
     "metadata": {},
     "output_type": "execute_result"
    }
   ],
   "source": [
    "pvdz.name"
   ]
  },
  {
   "cell_type": "code",
   "execution_count": 16,
   "metadata": {
    "collapsed": false
   },
   "outputs": [
    {
     "data": {
      "text/plain": [
       "'Be'"
      ]
     },
     "execution_count": 16,
     "metadata": {},
     "output_type": "execute_result"
    }
   ],
   "source": [
    "pvdz.element"
   ]
  },
  {
   "cell_type": "markdown",
   "metadata": {},
   "source": [
    "and apply some common methods "
   ]
  },
  {
   "cell_type": "code",
   "execution_count": 17,
   "metadata": {
    "collapsed": false
   },
   "outputs": [
    {
     "data": {
      "text/plain": [
       "'(9s4p1d) -> [3s2p1d] : {8 8 1/3 1/1}'"
      ]
     },
     "execution_count": 17,
     "metadata": {},
     "output_type": "execute_result"
    }
   ],
   "source": [
    "pvdz.contraction_scheme()"
   ]
  },
  {
   "cell_type": "code",
   "execution_count": 18,
   "metadata": {
    "collapsed": false
   },
   "outputs": [
    {
     "data": {
      "text/plain": [
       "'unknown'"
      ]
     },
     "execution_count": 18,
     "metadata": {},
     "output_type": "execute_result"
    }
   ],
   "source": [
    "pvdz.contraction_type()"
   ]
  },
  {
   "cell_type": "markdown",
   "metadata": {},
   "source": [
    "Calculate the total number of functions in the basis set. By default the number is calculated assuming spherical harmonics, namely 5*d* functions, 7*f* functions, etc. "
   ]
  },
  {
   "cell_type": "code",
   "execution_count": 19,
   "metadata": {
    "collapsed": false
   },
   "outputs": [
    {
     "data": {
      "text/plain": [
       "14"
      ]
     },
     "execution_count": 19,
     "metadata": {},
     "output_type": "execute_result"
    }
   ],
   "source": [
    "pvdz.nf()"
   ]
  },
  {
   "cell_type": "markdown",
   "metadata": {},
   "source": [
    "The number of functions assuming cartesian gaussians, namely 6*d* components, 10*f* components, etc., can be calcualted by passing ``spherical=False`` argument."
   ]
  },
  {
   "cell_type": "code",
   "execution_count": 20,
   "metadata": {
    "collapsed": false
   },
   "outputs": [
    {
     "data": {
      "text/plain": [
       "15"
      ]
     },
     "execution_count": 20,
     "metadata": {},
     "output_type": "execute_result"
    }
   ],
   "source": [
    "pvdz.nf(spherical=False)"
   ]
  },
  {
   "cell_type": "markdown",
   "metadata": {},
   "source": [
    "<h1 style=\"text-align:center\">Conversion to formats of different quantum chemistry programs </h1>\n",
    "\n",
    "The following basis set formats are supported:\n",
    "* Gaussian\n",
    "* NwChem\n",
    "* Aces II/Cfour\n",
    "* Dalton\n",
    "* Gamess(US)\n",
    "* Molpro"
   ]
  },
  {
   "cell_type": "markdown",
   "metadata": {},
   "source": [
    "Gaussian format"
   ]
  },
  {
   "cell_type": "code",
   "execution_count": 21,
   "metadata": {
    "collapsed": false
   },
   "outputs": [
    {
     "name": "stdout",
     "output_type": "stream",
     "text": [
      "****\n",
      "Be     0\n",
      "S   8   1.00\n",
      "     2940.0000000000     0.00068000\n",
      "      441.2000000000     0.00523600\n",
      "      100.5000000000     0.02660600\n",
      "       28.4300000000     0.09999300\n",
      "        9.1690000000     0.26970200\n",
      "        3.1960000000     0.45146900\n",
      "        1.1590000000     0.29507400\n",
      "        0.1811000000     0.01258700\n",
      "S   8   1.00\n",
      "     2940.0000000000    -0.00012300\n",
      "      441.2000000000    -0.00096600\n",
      "      100.5000000000    -0.00483100\n",
      "       28.4300000000    -0.01931400\n",
      "        9.1690000000    -0.05328000\n",
      "        3.1960000000    -0.12072300\n",
      "        1.1590000000    -0.13343500\n",
      "        0.1811000000     0.53076700\n",
      "S   1   1.00\n",
      "        0.0589000000     1.00000000\n",
      "P   3   1.00\n",
      "        3.6190000000     0.02911100\n",
      "        0.7110000000     0.16936500\n",
      "        0.1951000000     0.51345800\n",
      "P   1   1.00\n",
      "        0.0601800000     1.00000000\n",
      "D   1   1.00\n",
      "        0.2380000000     1.00000000\n",
      "****\n",
      "\n"
     ]
    }
   ],
   "source": [
    "print(pvdz.to_gaussian())"
   ]
  },
  {
   "cell_type": "markdown",
   "metadata": {},
   "source": [
    "NwChem format"
   ]
  },
  {
   "cell_type": "code",
   "execution_count": 22,
   "metadata": {
    "collapsed": false
   },
   "outputs": [
    {
     "name": "stdout",
     "output_type": "stream",
     "text": [
      "BASIS \"ao basis\" PRINT\n",
      "Be s\n",
      "     2940.0000000000     0.00068000    -0.00012300\n",
      "      441.2000000000     0.00523600    -0.00096600\n",
      "      100.5000000000     0.02660600    -0.00483100\n",
      "       28.4300000000     0.09999300    -0.01931400\n",
      "        9.1690000000     0.26970200    -0.05328000\n",
      "        3.1960000000     0.45146900    -0.12072300\n",
      "        1.1590000000     0.29507400    -0.13343500\n",
      "        0.1811000000     0.01258700     0.53076700\n",
      "Be s\n",
      "        0.0589000000     1.00000000\n",
      "Be p\n",
      "        3.6190000000     0.02911100\n",
      "        0.7110000000     0.16936500\n",
      "        0.1951000000     0.51345800\n",
      "Be p\n",
      "        0.0601800000     1.00000000\n",
      "Be d\n",
      "        0.2380000000     1.00000000\n",
      "END\n",
      "\n"
     ]
    }
   ],
   "source": [
    "print(pvdz.to_nwchem())"
   ]
  },
  {
   "cell_type": "markdown",
   "metadata": {},
   "source": [
    "Cfour/AcesII format"
   ]
  },
  {
   "cell_type": "code",
   "execution_count": 23,
   "metadata": {
    "collapsed": false
   },
   "outputs": [
    {
     "name": "stdout",
     "output_type": "stream",
     "text": [
      "\n",
      "Be:cc-pvdz\n",
      "komentarz\n",
      "\n",
      "  3\n",
      "    0    1    2\n",
      "    3    2    1\n",
      "    9    4    1\n",
      "\n",
      "  2940.00000000   441.20000000   100.50000000    28.43000000     9.16900000\n",
      "     3.19600000     1.15900000     0.18110000     0.05890000\n",
      "\n",
      "     0.00068000    -0.00012300     0.00000000\n",
      "     0.00523600    -0.00096600     0.00000000\n",
      "     0.02660600    -0.00483100     0.00000000\n",
      "     0.09999300    -0.01931400     0.00000000\n",
      "     0.26970200    -0.05328000     0.00000000\n",
      "     0.45146900    -0.12072300     0.00000000\n",
      "     0.29507400    -0.13343500     0.00000000\n",
      "     0.01258700     0.53076700     0.00000000\n",
      "     0.00000000     0.00000000     1.00000000\n",
      "\n",
      "     3.61900000     0.71100000     0.19510000     0.06018000\n",
      "\n",
      "     0.02911100     0.00000000\n",
      "     0.16936500     0.00000000\n",
      "     0.51345800     0.00000000\n",
      "     0.00000000     1.00000000\n",
      "\n",
      "     0.23800000\n",
      "\n",
      "     1.00000000\n",
      "\n",
      "\n"
     ]
    }
   ],
   "source": [
    "print(pvdz.to_cfour(comment=\"komentarz\"))"
   ]
  },
  {
   "cell_type": "markdown",
   "metadata": {},
   "source": [
    "Dalton format"
   ]
  },
  {
   "cell_type": "code",
   "execution_count": 24,
   "metadata": {
    "collapsed": false
   },
   "outputs": [
    {
     "name": "stdout",
     "output_type": "stream",
     "text": [
      "! cc-pvdz\n",
      "! s functions\n",
      "H   9   3\n",
      "     2940.0000000000        0.0006800000       -0.0001230000        0.0000000000\n",
      "      441.2000000000        0.0052360000       -0.0009660000        0.0000000000\n",
      "      100.5000000000        0.0266060000       -0.0048310000        0.0000000000\n",
      "       28.4300000000        0.0999930000       -0.0193140000        0.0000000000\n",
      "        9.1690000000        0.2697020000       -0.0532800000        0.0000000000\n",
      "        3.1960000000        0.4514690000       -0.1207230000        0.0000000000\n",
      "        1.1590000000        0.2950740000       -0.1334350000        0.0000000000\n",
      "        0.1811000000        0.0125870000        0.5307670000        0.0000000000\n",
      "        0.0589000000        0.0000000000        0.0000000000        1.0000000000\n",
      "! p functions\n",
      "H   4   2\n",
      "        3.6190000000        0.0291110000        0.0000000000\n",
      "        0.7110000000        0.1693650000        0.0000000000\n",
      "        0.1951000000        0.5134580000        0.0000000000\n",
      "        0.0601800000        0.0000000000        1.0000000000\n",
      "! d functions\n",
      "H   1   1\n",
      "        0.2380000000        1.0000000000\n",
      "\n"
     ]
    }
   ],
   "source": [
    "print(pvdz.to_dalton())"
   ]
  },
  {
   "cell_type": "markdown",
   "metadata": {},
   "source": [
    "Gamess(US) format"
   ]
  },
  {
   "cell_type": "code",
   "execution_count": 25,
   "metadata": {
    "collapsed": false
   },
   "outputs": [
    {
     "name": "stdout",
     "output_type": "stream",
     "text": [
      "S  8\n",
      "  1     2940.0000000000     0.00068000\n",
      "  2      441.2000000000     0.00523600\n",
      "  3      100.5000000000     0.02660600\n",
      "  4       28.4300000000     0.09999300\n",
      "  5        9.1690000000     0.26970200\n",
      "  6        3.1960000000     0.45146900\n",
      "  7        1.1590000000     0.29507400\n",
      "  8        0.1811000000     0.01258700\n",
      "S  8\n",
      "  1     2940.0000000000    -0.00012300\n",
      "  2      441.2000000000    -0.00096600\n",
      "  3      100.5000000000    -0.00483100\n",
      "  4       28.4300000000    -0.01931400\n",
      "  5        9.1690000000    -0.05328000\n",
      "  6        3.1960000000    -0.12072300\n",
      "  7        1.1590000000    -0.13343500\n",
      "  8        0.1811000000     0.53076700\n",
      "S  1\n",
      "  1        0.0589000000     1.00000000\n",
      "P  3\n",
      "  1        3.6190000000     0.02911100\n",
      "  2        0.7110000000     0.16936500\n",
      "  3        0.1951000000     0.51345800\n",
      "P  1\n",
      "  1        0.0601800000     1.00000000\n",
      "D  1\n",
      "  1        0.2380000000     1.00000000\n",
      "\n",
      "\n"
     ]
    }
   ],
   "source": [
    "print(pvdz.to_gamessus())"
   ]
  },
  {
   "cell_type": "markdown",
   "metadata": {},
   "source": [
    "Molpro format"
   ]
  },
  {
   "cell_type": "code",
   "execution_count": 27,
   "metadata": {
    "collapsed": false
   },
   "outputs": [
    {
     "name": "stdout",
     "output_type": "stream",
     "text": [
      "basis={\n",
      "s, Be, 2940.0000000000, 441.2000000000, 100.5000000000, 28.4300000000, 9.1690000000, 3.1960000000, 1.1590000000, 0.1811000000, 0.0589000000\n",
      "c, 1.8, 0.00068000, 0.00523600, 0.02660600, 0.09999300, 0.26970200, 0.45146900, 0.29507400, 0.01258700\n",
      "c, 1.8, -0.00012300, -0.00096600, -0.00483100, -0.01931400, -0.05328000, -0.12072300, -0.13343500, 0.53076700\n",
      "c, 9.9, 1.00000000\n",
      "p, Be, 3.6190000000, 0.7110000000, 0.1951000000, 0.0601800000\n",
      "c, 1.3, 0.02911100, 0.16936500, 0.51345800\n",
      "c, 4.4, 1.00000000\n",
      "d, Be, 0.2380000000\n",
      "c, 1.1, 1.00000000\n",
      "}\n"
     ]
    }
   ],
   "source": [
    "print(pvdz.to_molpro(withpars=True))"
   ]
  },
  {
   "cell_type": "markdown",
   "metadata": {},
   "source": [
    "## Sorting\n",
    "\n",
    "Each shell of the `BasisSet` can be sorted with respect to the exponents, the default order is descending"
   ]
  },
  {
   "cell_type": "code",
   "execution_count": 28,
   "metadata": {
    "collapsed": false
   },
   "outputs": [
    {
     "name": "stdout",
     "output_type": "stream",
     "text": [
      "Name                 = cc-pvdz\n",
      "Element              = Be\n",
      "Family               = None\n",
      "Kind                 = None\n",
      "Functions:\n",
      "\n",
      "================s shell=================\n",
      "Contracted:\n",
      "    1     2940.0000000000     0.00068000    -0.00012300\n",
      "    2      441.2000000000     0.00523600    -0.00096600\n",
      "    3      100.5000000000     0.02660600    -0.00483100\n",
      "    4       28.4300000000     0.09999300    -0.01931400\n",
      "    5        9.1690000000     0.26970200    -0.05328000\n",
      "    6        3.1960000000     0.45146900    -0.12072300\n",
      "    7        1.1590000000     0.29507400    -0.13343500\n",
      "    8        0.1811000000     0.01258700     0.53076700\n",
      "Uncontracted:\n",
      "    9        0.0589000000     1.00000000\n",
      "\n",
      "================p shell=================\n",
      "Contracted:\n",
      "    1        3.6190000000     0.02911100\n",
      "    2        0.7110000000     0.16936500\n",
      "    3        0.1951000000     0.51345800\n",
      "Uncontracted:\n",
      "    4        0.0601800000     1.00000000\n",
      "\n",
      "================d shell=================\n",
      "Uncontracted:\n",
      "    1        0.2380000000     1.00000000\n",
      "\n"
     ]
    }
   ],
   "source": [
    "pvdz.sort()\n",
    "print(pvdz)"
   ]
  },
  {
   "cell_type": "markdown",
   "metadata": {},
   "source": [
    "the basis set was already sorted so there is no difference but we can also sort in ascending order to see the result"
   ]
  },
  {
   "cell_type": "code",
   "execution_count": 29,
   "metadata": {
    "collapsed": false
   },
   "outputs": [
    {
     "name": "stdout",
     "output_type": "stream",
     "text": [
      "Name                 = cc-pvdz\n",
      "Element              = Be\n",
      "Family               = None\n",
      "Kind                 = None\n",
      "Functions:\n",
      "\n",
      "================s shell=================\n",
      "Contracted:\n",
      "    1        0.1811000000     0.01258700     0.53076700\n",
      "    2        1.1590000000     0.29507400    -0.13343500\n",
      "    3        3.1960000000     0.45146900    -0.12072300\n",
      "    4        9.1690000000     0.26970200    -0.05328000\n",
      "    5       28.4300000000     0.09999300    -0.01931400\n",
      "    6      100.5000000000     0.02660600    -0.00483100\n",
      "    7      441.2000000000     0.00523600    -0.00096600\n",
      "    8     2940.0000000000     0.00068000    -0.00012300\n",
      "Uncontracted:\n",
      "    9        0.0589000000     1.00000000\n",
      "\n",
      "================p shell=================\n",
      "Contracted:\n",
      "    1        0.1951000000     0.51345800\n",
      "    2        0.7110000000     0.16936500\n",
      "    3        3.6190000000     0.02911100\n",
      "Uncontracted:\n",
      "    4        0.0601800000     1.00000000\n",
      "\n",
      "================d shell=================\n",
      "Uncontracted:\n",
      "    1        0.2380000000     1.00000000\n",
      "\n"
     ]
    }
   ],
   "source": [
    "pvdz.sort(reverse=True)\n",
    "print(pvdz)\n",
    "pvdz.sort()"
   ]
  },
  {
   "cell_type": "markdown",
   "metadata": {},
   "source": [
    "## Normalization of the contraction coefficients\n",
    "\n",
    "To check if the contraction coefficients for each function are properly normalized to unity the ``normalized`` method can be called, which returns a list of tuples with the shell, contracted function index and the current normalization."
   ]
  },
  {
   "cell_type": "code",
   "execution_count": 30,
   "metadata": {
    "collapsed": false
   },
   "outputs": [
    {
     "data": {
      "text/plain": [
       "[('s', 0, 1.0013033713220225),\n",
       " ('s', 1, 0.2391592969910476),\n",
       " ('s', 2, 1.0),\n",
       " ('p', 0, 0.40825721905456636),\n",
       " ('p', 1, 1.0),\n",
       " ('d', 0, 1.0)]"
      ]
     },
     "execution_count": 30,
     "metadata": {},
     "output_type": "execute_result"
    }
   ],
   "source": [
    "pvdz.normalzation()"
   ]
  },
  {
   "cell_type": "markdown",
   "metadata": {},
   "source": [
    "To normalize the contracted functions simply call the ``normalize`` method"
   ]
  },
  {
   "cell_type": "code",
   "execution_count": 31,
   "metadata": {
    "collapsed": false
   },
   "outputs": [],
   "source": [
    "pvdz.normalze()"
   ]
  },
  {
   "cell_type": "markdown",
   "metadata": {},
   "source": [
    "to verify we can call the check the normalization again"
   ]
  },
  {
   "cell_type": "code",
   "execution_count": 32,
   "metadata": {
    "collapsed": false
   },
   "outputs": [
    {
     "data": {
      "text/plain": [
       "[('s', 0, 0.99999999999999967),\n",
       " ('s', 1, 1.0),\n",
       " ('s', 2, 1.0),\n",
       " ('p', 0, 1.0),\n",
       " ('p', 1, 1.0),\n",
       " ('d', 0, 1.0)]"
      ]
     },
     "execution_count": 32,
     "metadata": {},
     "output_type": "execute_result"
    }
   ],
   "source": [
    "pvdz.normalzation()"
   ]
  },
  {
   "cell_type": "markdown",
   "metadata": {},
   "source": [
    "## Uncontracting basis sets\n",
    "\n",
    "The basis sets can be easily uncontract by using the `uncontract` method. By default the basis set is uncontracted in-place but the `copy=True` can be specified to obtain an uncotracted copy of the basis set without altering the original."
   ]
  },
  {
   "cell_type": "code",
   "execution_count": 33,
   "metadata": {
    "collapsed": false
   },
   "outputs": [
    {
     "name": "stdout",
     "output_type": "stream",
     "text": [
      "Name                 = cc-pvdz\n",
      "Element              = Be\n",
      "Family               = None\n",
      "Kind                 = None\n",
      "Functions:\n",
      "\n",
      "================s shell=================\n",
      "Uncontracted:\n",
      "    1     2940.0000000000     1.00000000\n",
      "    2      441.2000000000     1.00000000\n",
      "    3      100.5000000000     1.00000000\n",
      "    4       28.4300000000     1.00000000\n",
      "    5        9.1690000000     1.00000000\n",
      "    6        3.1960000000     1.00000000\n",
      "    7        1.1590000000     1.00000000\n",
      "    8        0.1811000000     1.00000000\n",
      "    9        0.0589000000     1.00000000\n",
      "\n",
      "================p shell=================\n",
      "Uncontracted:\n",
      "    1        3.6190000000     1.00000000\n",
      "    2        0.7110000000     1.00000000\n",
      "    3        0.1951000000     1.00000000\n",
      "    4        0.0601800000     1.00000000\n",
      "\n",
      "================d shell=================\n",
      "Uncontracted:\n",
      "    1        0.2380000000     1.00000000\n",
      "\n"
     ]
    }
   ],
   "source": [
    "upvdz = pvdz.uncontract(copy=True)\n",
    "print(upvdz)"
   ]
  },
  {
   "cell_type": "markdown",
   "metadata": {},
   "source": [
    "## Adding basis sets\n",
    "\n",
    "As an example diffuse functions will be added to the existing `BasisSet` object with cc-pVDZ basis producing the aug-cc-pVDZ basis. The agumented functions are first parsed from a string to a `BasisSet` object"
   ]
  },
  {
   "cell_type": "code",
   "execution_count": 34,
   "metadata": {
    "collapsed": false
   },
   "outputs": [],
   "source": [
    "augstr = '''! aug-cc-pVDZ\n",
    "\n",
    "basis={\n",
    "\n",
    "s,Be,1.790000E-02;\n",
    "c,1.1,1.000000E+00;\n",
    "\n",
    "p,Be,1.110000E-02;\n",
    "c,1.1,1.000000E+00;\n",
    "\n",
    "d,Be,7.220000E-02;\n",
    "c,1.1,1.000000E+00;\n",
    "\n",
    "}'''"
   ]
  },
  {
   "cell_type": "code",
   "execution_count": 35,
   "metadata": {
    "collapsed": false
   },
   "outputs": [],
   "source": [
    "aug = BasisSet.from_str(augstr, fmt='molpro', name='aug functions')"
   ]
  },
  {
   "cell_type": "code",
   "execution_count": 36,
   "metadata": {
    "collapsed": false
   },
   "outputs": [
    {
     "name": "stdout",
     "output_type": "stream",
     "text": [
      "Name                 = aug functions\n",
      "Element              = Be\n",
      "Family               = None\n",
      "Kind                 = None\n",
      "Functions:\n",
      "\n",
      "================s shell=================\n",
      "Uncontracted:\n",
      "    1        0.0179000000     1.00000000\n",
      "\n",
      "================p shell=================\n",
      "Uncontracted:\n",
      "    1        0.0111000000     1.00000000\n",
      "\n",
      "================d shell=================\n",
      "Uncontracted:\n",
      "    1        0.0722000000     1.00000000\n",
      "\n"
     ]
    }
   ],
   "source": [
    "print(aug)"
   ]
  },
  {
   "cell_type": "markdown",
   "metadata": {},
   "source": [
    "Addition of two `BasisSet` object can be done simply by using the `+` operator. The functions from the second argument are then added to the first argument. The order of the arguments is important since remaining attributes (name, element, family) are copied from the first argument. In the example below the resulting `apvdz` object retained the `name` and `element` attributes from the first argument namely `pvdz` object. If the addition was done in reverse order (`aug + pvdz`) the `name` of the result would be *aug functions*."
   ]
  },
  {
   "cell_type": "code",
   "execution_count": 37,
   "metadata": {
    "collapsed": false
   },
   "outputs": [
    {
     "name": "stdout",
     "output_type": "stream",
     "text": [
      "Name                 = cc-pvdz\n",
      "Element              = Be\n",
      "Family               = None\n",
      "Kind                 = None\n",
      "Functions:\n",
      "\n",
      "================s shell=================\n",
      "Contracted:\n",
      "    1     2940.0000000000     0.00067956    -0.00025151\n",
      "    2      441.2000000000     0.00523259    -0.00197530\n",
      "    3      100.5000000000     0.02658868    -0.00987855\n",
      "    4       28.4300000000     0.09992790    -0.03949377\n",
      "    5        9.1690000000     0.26952641    -0.10894833\n",
      "    6        3.1960000000     0.45117507    -0.24685753\n",
      "    7        1.1590000000     0.29488189    -0.27285136\n",
      "    8        0.1811000000     0.01257881     1.08532618\n",
      "Uncontracted:\n",
      "    9        0.0589000000     1.00000000\n",
      "   10        0.0179000000     1.00000000\n",
      "\n",
      "================p shell=================\n",
      "Contracted:\n",
      "    1        3.6190000000     0.04556068\n",
      "    2        0.7110000000     0.26506765\n",
      "    3        0.1951000000     0.80359641\n",
      "Uncontracted:\n",
      "    4        0.0601800000     1.00000000\n",
      "    5        0.0111000000     1.00000000\n",
      "\n",
      "================d shell=================\n",
      "Uncontracted:\n",
      "    1        0.2380000000     1.00000000\n",
      "    2        0.0722000000     1.00000000\n",
      "\n"
     ]
    }
   ],
   "source": [
    "apvdz = pvdz + aug\n",
    "print(apvdz)"
   ]
  },
  {
   "cell_type": "markdown",
   "metadata": {},
   "source": [
    "<h1 style=\"text-align:center\"> IO </h1>\n",
    "\n",
    "The default format for storing ``BasisSet`` object is [python pickle](https://docs.python.org/2/library/pickle.html). To store the basis set you can use the ``to_pickle`` method"
   ]
  },
  {
   "cell_type": "code",
   "execution_count": 38,
   "metadata": {
    "collapsed": true
   },
   "outputs": [],
   "source": [
    "pvdz.to_pickle('cc-pvdz.bas')"
   ]
  },
  {
   "cell_type": "code",
   "execution_count": 39,
   "metadata": {
    "collapsed": false
   },
   "outputs": [
    {
     "name": "stdout",
     "output_type": "stream",
     "text": [
      "cc-pvdz.bas\r\n"
     ]
    }
   ],
   "source": [
    "!ls cc-pvdz.bas"
   ]
  },
  {
   "cell_type": "markdown",
   "metadata": {},
   "source": [
    "The pickle can be read back into the ``BasisSet`` object by ``read_pickle`` method "
   ]
  },
  {
   "cell_type": "code",
   "execution_count": 40,
   "metadata": {
    "collapsed": false
   },
   "outputs": [
    {
     "name": "stdout",
     "output_type": "stream",
     "text": [
      "Name                 = cc-pvdz\n",
      "Element              = Be\n",
      "Family               = None\n",
      "Kind                 = None\n",
      "Functions:\n",
      "\n",
      "================s shell=================\n",
      "Contracted:\n",
      "    1     2940.0000000000     0.00067956    -0.00025151\n",
      "    2      441.2000000000     0.00523259    -0.00197530\n",
      "    3      100.5000000000     0.02658868    -0.00987855\n",
      "    4       28.4300000000     0.09992790    -0.03949377\n",
      "    5        9.1690000000     0.26952641    -0.10894833\n",
      "    6        3.1960000000     0.45117507    -0.24685753\n",
      "    7        1.1590000000     0.29488189    -0.27285136\n",
      "    8        0.1811000000     0.01257881     1.08532618\n",
      "Uncontracted:\n",
      "    9        0.0589000000     1.00000000\n",
      "\n",
      "================p shell=================\n",
      "Contracted:\n",
      "    1        3.6190000000     0.04556068\n",
      "    2        0.7110000000     0.26506765\n",
      "    3        0.1951000000     0.80359641\n",
      "Uncontracted:\n",
      "    4        0.0601800000     1.00000000\n",
      "\n",
      "================d shell=================\n",
      "Uncontracted:\n",
      "    1        0.2380000000     1.00000000\n",
      "\n"
     ]
    }
   ],
   "source": [
    "from chemtools.basisset import read_pickle\n",
    "bsfromfile = read_pickle('cc-pvdz.bas')\n",
    "print(bsfromfile)"
   ]
  },
  {
   "cell_type": "markdown",
   "metadata": {},
   "source": [
    "<h1 style=\"text-align:center\"> Initialize a basis set from a sequence </h1>\n",
    "\n",
    "The BasisSet exponents can be generated from following sequences:\n",
    "* even tempered\n",
    "* well tempered\n",
    "* legendre expansion\n",
    "\n",
    "To generate the exponents `from_sequence` classmethod is used. The arguments that have to be specified are\n",
    "* `formula` describing the sequence, one of *eventemp*, *welltemp*, *legendre*, can be a single value or a list of values with the same length as `funcs`\n",
    "* `name` of the basis set\n",
    "* `element`\n",
    "* `funcs` a list of 4-tuples, where the tuple elements are *shell*, *sequence name*, *number of functions*, *parameters*"
   ]
  },
  {
   "cell_type": "markdown",
   "metadata": {},
   "source": [
    "## even tempered"
   ]
  },
  {
   "cell_type": "markdown",
   "metadata": {},
   "source": [
    "10 `s` functions with $\\alpha=0.5$ and $\\beta=2.0$"
   ]
  },
  {
   "cell_type": "code",
   "execution_count": 41,
   "metadata": {
    "collapsed": false
   },
   "outputs": [
    {
     "name": "stdout",
     "output_type": "stream",
     "text": [
      "Name                 = my basis\n",
      "Element              = Be\n",
      "Family               = None\n",
      "Kind                 = None\n",
      "Functions:\n",
      "\n",
      "================s shell=================\n",
      "Uncontracted:\n",
      "    1      256.0000000000     1.00000000\n",
      "    2      128.0000000000     1.00000000\n",
      "    3       64.0000000000     1.00000000\n",
      "    4       32.0000000000     1.00000000\n",
      "    5       16.0000000000     1.00000000\n",
      "    6        8.0000000000     1.00000000\n",
      "    7        4.0000000000     1.00000000\n",
      "    8        2.0000000000     1.00000000\n",
      "    9        1.0000000000     1.00000000\n",
      "   10        0.5000000000     1.00000000\n",
      "\n"
     ]
    }
   ],
   "source": [
    "et = BasisSet.from_sequence(name='my basis', element='Be', functs=[('s', 'et', 10, (0.5, 2.0))])\n",
    "print(et)"
   ]
  },
  {
   "cell_type": "markdown",
   "metadata": {},
   "source": [
    "8 *s* functions with $\\alpha=0.8$, $\\beta=2.5$ and 6 *p* functions with $\\alpha=0.2$, $\\beta=3.0$"
   ]
  },
  {
   "cell_type": "code",
   "execution_count": 42,
   "metadata": {
    "collapsed": false
   },
   "outputs": [
    {
     "name": "stdout",
     "output_type": "stream",
     "text": [
      "Name                 = my basis\n",
      "Element              = Be\n",
      "Family               = None\n",
      "Kind                 = None\n",
      "Functions:\n",
      "\n",
      "================s shell=================\n",
      "Uncontracted:\n",
      "    1      256.0000000000     1.00000000\n",
      "    2      128.0000000000     1.00000000\n",
      "    3       64.0000000000     1.00000000\n",
      "    4       32.0000000000     1.00000000\n",
      "    5       16.0000000000     1.00000000\n",
      "    6        8.0000000000     1.00000000\n",
      "    7        4.0000000000     1.00000000\n",
      "    8        2.0000000000     1.00000000\n",
      "    9        1.0000000000     1.00000000\n",
      "   10        0.5000000000     1.00000000\n",
      "\n"
     ]
    }
   ],
   "source": [
    "et2 = BasisSet.from_sequence(name='my basis', element='Be',\n",
    "                            functs=[('s', 'et', 8, (0.8, 2.5)), ('p', 'et', 6, (0.2, 3.0))])\n",
    "print(et)"
   ]
  },
  {
   "cell_type": "markdown",
   "metadata": {},
   "source": [
    "## well tempered "
   ]
  },
  {
   "cell_type": "code",
   "execution_count": 43,
   "metadata": {
    "collapsed": false
   },
   "outputs": [
    {
     "name": "stdout",
     "output_type": "stream",
     "text": [
      "Name                 = my basis\n",
      "Element              = Be\n",
      "Family               = None\n",
      "Kind                 = None\n",
      "Functions:\n",
      "\n",
      "================p shell=================\n",
      "Uncontracted:\n",
      "    1       30.4000000000     1.00000000\n",
      "    2       13.7851550240     1.00000000\n",
      "    3        6.2130589876     1.00000000\n",
      "    4        2.7834955070     1.00000000\n",
      "    5        1.2408224685     1.00000000\n",
      "    6        0.5524120339     1.00000000\n",
      "\n"
     ]
    }
   ],
   "source": [
    "wt = BasisSet.from_sequence(name='my basis', element='Be', functs=[('p', 'wt', 6, (0.5, 2.0, 0.9, 1.2))])\n",
    "print(wt)"
   ]
  },
  {
   "cell_type": "markdown",
   "metadata": {},
   "source": [
    "## legendre"
   ]
  },
  {
   "cell_type": "code",
   "execution_count": 44,
   "metadata": {
    "collapsed": false
   },
   "outputs": [
    {
     "name": "stdout",
     "output_type": "stream",
     "text": [
      "Name                 = my basis\n",
      "Element              = Be\n",
      "Family               = None\n",
      "Kind                 = None\n",
      "Functions:\n",
      "\n",
      "================d shell=================\n",
      "Uncontracted:\n",
      "    1       12.1824939607     1.00000000\n",
      "    2        6.8796751109     1.00000000\n",
      "    3        3.8850772086     1.00000000\n",
      "    4        2.1939735051     1.00000000\n",
      "    5        1.2389765975     1.00000000\n",
      "    6        0.6996725374     1.00000000\n",
      "    7        0.3951177613     1.00000000\n",
      "    8        0.2231301601     1.00000000\n",
      "\n"
     ]
    }
   ],
   "source": [
    "leg = BasisSet.from_sequence(name='my basis', element='Be', functs=[('d', 'le', 8, (0.5, 2.0))])\n",
    "print(leg)"
   ]
  },
  {
   "cell_type": "markdown",
   "metadata": {},
   "source": [
    "## direct specification of exponents"
   ]
  },
  {
   "cell_type": "code",
   "execution_count": 45,
   "metadata": {
    "collapsed": false
   },
   "outputs": [
    {
     "name": "stdout",
     "output_type": "stream",
     "text": [
      "Name                 = my exponents\n",
      "Element              = Be\n",
      "Family               = None\n",
      "Kind                 = None\n",
      "Functions:\n",
      "\n",
      "================s shell=================\n",
      "Uncontracted:\n",
      "    1       10.0000000000     1.00000000\n",
      "    2        2.0000000000     1.00000000\n",
      "    3        0.5000000000     1.00000000\n",
      "    4        0.1000000000     1.00000000\n",
      "    5        0.0100000000     1.00000000\n",
      "\n"
     ]
    }
   ],
   "source": [
    "de = BasisSet.from_sequence(name='my exponents', element='Be', functs=[('s', 'exp', 5, (0.01, 0.1, 0.5, 2.0, 10.0))])\n",
    "print(de)"
   ]
  },
  {
   "cell_type": "markdown",
   "metadata": {},
   "source": [
    "## mixed\n",
    "\n",
    "In this example a basis set is created by taking:\n",
    "* 6 *s* functions generated from an even tempered sequence\n",
    "* 4 *p* functions generated from a well tempered sequence\n",
    "* 4 *d* functions generated from a legendre sequence"
   ]
  },
  {
   "cell_type": "code",
   "execution_count": 46,
   "metadata": {
    "collapsed": false
   },
   "outputs": [
    {
     "name": "stdout",
     "output_type": "stream",
     "text": [
      "Name                 = composite\n",
      "Element              = He\n",
      "Family               = None\n",
      "Kind                 = None\n",
      "Functions:\n",
      "\n",
      "================s shell=================\n",
      "Uncontracted:\n",
      "    1      512.0000000000     1.00000000\n",
      "    2      128.0000000000     1.00000000\n",
      "    3       32.0000000000     1.00000000\n",
      "    4        8.0000000000     1.00000000\n",
      "    5        2.0000000000     1.00000000\n",
      "    6        0.5000000000     1.00000000\n",
      "\n",
      "================p shell=================\n",
      "Uncontracted:\n",
      "    1       43.7400000000     1.00000000\n",
      "    2       12.6882653049     1.00000000\n",
      "    3        3.6401946084     1.00000000\n",
      "    4        1.0364144910     1.00000000\n",
      "\n",
      "================d shell=================\n",
      "Uncontracted:\n",
      "    1       33.1154519587     1.00000000\n",
      "    2        6.2547009519     1.00000000\n",
      "    3        1.1813604129     1.00000000\n",
      "    4        0.2231301601     1.00000000\n",
      "\n"
     ]
    }
   ],
   "source": [
    "basis = BasisSet.from_sequence(name='composite', element='He',\n",
    "                              functs=[('s', 'et', 6, (0.5, 4.0)),\n",
    "                                      ('p', 'wt', 4, (0.9, 3.0, 0.8, 1.2)),\n",
    "                                      ('d', 'le', 4, (1.0, 2.5))])\n",
    "print(basis)"
   ]
  },
  {
   "cell_type": "markdown",
   "metadata": {},
   "source": [
    "<h1 style=\"text-align:center\"> Completeness profiles </h1>\n",
    "\n",
    "To visually inspect the quality of the basis set, completeness profiles can be calculated [[Chong 1995](http://www.dx.doi.org/10.1139/v95-011), [Lehtola 2014](http://www.dx.doi.org/10.1002/jcc.23802)]. The completeness profile calculation is also implemented in the [kruununhaka](http://www.chem.helsinki.fi/~manninen/kruununhaka/) basis set tool kit."
   ]
  },
  {
   "cell_type": "code",
   "execution_count": 47,
   "metadata": {
    "collapsed": true
   },
   "outputs": [],
   "source": [
    "%matplotlib inline\n",
    "import matplotlib.pyplot as plt\n",
    "import seaborn as sns\n",
    "import numpy as np\n",
    "import pandas as pd"
   ]
  },
  {
   "cell_type": "markdown",
   "metadata": {},
   "source": [
    "To specify the range of scanning exponents for the basis set we'll use the grid of equidistant points in the $\\log$ space"
   ]
  },
  {
   "cell_type": "code",
   "execution_count": 48,
   "metadata": {
    "collapsed": true
   },
   "outputs": [],
   "source": [
    "zetas = np.logspace(-10, 10, num=2000, endpoint=True, base=10.0)"
   ]
  },
  {
   "cell_type": "markdown",
   "metadata": {},
   "source": [
    "The `completeness_profile` method calculates the profile and returns a numpy array with profile values per shell \n",
    "stored in columns. For convenience we'll convert the numpy array to a `DataFrame`"
   ]
  },
  {
   "cell_type": "code",
   "execution_count": 49,
   "metadata": {
    "collapsed": false
   },
   "outputs": [],
   "source": [
    "cp = pvdz.completeness_profile(zetas)\n",
    "df = pd.DataFrame(cp, columns=pvdz.functions.keys())"
   ]
  },
  {
   "cell_type": "markdown",
   "metadata": {},
   "source": [
    "Now we can plot the profiles for each shell together"
   ]
  },
  {
   "cell_type": "code",
   "execution_count": 50,
   "metadata": {
    "collapsed": false
   },
   "outputs": [
    {
     "data": {
      "image/png": "[encoded data removed]",
      "text/plain": [
       "<matplotlib.figure.Figure at 0x7f104afd2898>"
      ]
     },
     "metadata": {},
     "output_type": "display_data"
    }
   ],
   "source": [
    "sns.set_style('whitegrid')\n",
    "plt.figure(figsize=(16, 5))\n",
    "for shell in df.columns:\n",
    "    c = df[shell].sum()/df[shell].size\n",
    "    plt.plot(np.log10(zetas), df[shell], label='{} shell completeness {:8.4f}'.format(shell, c))\n",
    "plt.legend(loc='best', frameon=False, fontsize='14')\n",
    "plt.xlim(-4, 4)\n",
    "plt.ylim(0.0, 1.1)\n",
    "plt.show()"
   ]
  },
  {
   "cell_type": "markdown",
   "metadata": {},
   "source": [
    "or separately"
   ]
  },
  {
   "cell_type": "code",
   "execution_count": 51,
   "metadata": {
    "collapsed": false
   },
   "outputs": [
    {
     "data": {
      "image/png": "[encoded data removed]",
      "text/plain": [
       "<matplotlib.figure.Figure at 0x7f104afd26a0>"
      ]
     },
     "metadata": {},
     "output_type": "display_data"
    }
   ],
   "source": [
    "f, axes = plt.subplots(df.shape[1], sharex=True, figsize=(16, 5*df.shape[1]))\n",
    "for axis, shell in zip(axes, df.columns):\n",
    "    axis.plot(np.log10(zetas), df[shell])\n",
    "    axis.set_title('{} shell completeness: {:8.4f}'.format(shell, df[shell].sum()/df[shell].size), fontsize=18)\n",
    "    axis.set_ylim(0.0, 1.1)\n",
    "plt.xlim(-4, 4)\n",
    "plt.tight_layout()"
   ]
  },
  {
   "cell_type": "code",
   "execution_count": 53,
   "metadata": {
    "collapsed": false
   },
   "outputs": [
    {
     "data": {
      "application/json": {
       "Software versions": [
        {
         "module": "Python",
         "version": "3.5.2 64bit [GCC 4.4.7 20120313 (Red Hat 4.4.7-1)]"
        },
        {
         "module": "IPython",
         "version": "5.1.0"
        },
        {
         "module": "OS",
         "version": "Linux 3.16.0 4 amd64 x86_64 with debian 8.5"
        },
        {
         "module": "chemtools",
         "version": "0.8.0"
        },
        {
         "module": "mendeleev",
         "version": "0.2.7"
        },
        {
         "module": "scipy",
         "version": "0.17.1"
        },
        {
         "module": "numpy",
         "version": "1.10.4"
        },
        {
         "module": "matplotlib",
         "version": "1.5.1"
        },
        {
         "module": "seaborn",
         "version": "0.7.1"
        }
       ]
      },
      "text/html": [
       "<table><tr><th>Software</th><th>Version</th></tr><tr><td>Python</td><td>3.5.2 64bit [GCC 4.4.7 20120313 (Red Hat 4.4.7-1)]</td></tr><tr><td>IPython</td><td>5.1.0</td></tr><tr><td>OS</td><td>Linux 3.16.0 4 amd64 x86_64 with debian 8.5</td></tr><tr><td>chemtools</td><td>0.8.0</td></tr><tr><td>mendeleev</td><td>0.2.7</td></tr><tr><td>scipy</td><td>0.17.1</td></tr><tr><td>numpy</td><td>1.10.4</td></tr><tr><td>matplotlib</td><td>1.5.1</td></tr><tr><td>seaborn</td><td>0.7.1</td></tr><tr><td colspan='2'>Mon Aug 29 13:48:24 2016 CEST</td></tr></table>"
      ],
      "text/latex": [
       "\\begin{tabular}{|l|l|}\\hline\n",
       "{\\bf Software} & {\\bf Version} \\\\ \\hline\\hline\n",
       "Python & 3.5.2 64bit [GCC 4.4.7 20120313 (Red Hat 4.4.7-1)] \\\\ \\hline\n",
       "IPython & 5.1.0 \\\\ \\hline\n",
       "OS & Linux 3.16.0 4 amd64 x86\\_64 with debian 8.5 \\\\ \\hline\n",
       "chemtools & 0.8.0 \\\\ \\hline\n",
       "mendeleev & 0.2.7 \\\\ \\hline\n",
       "scipy & 0.17.1 \\\\ \\hline\n",
       "numpy & 1.10.4 \\\\ \\hline\n",
       "matplotlib & 1.5.1 \\\\ \\hline\n",
       "seaborn & 0.7.1 \\\\ \\hline\n",
       "\\hline \\multicolumn{2}{|l|}{Mon Aug 29 13:48:24 2016 CEST} \\\\ \\hline\n",
       "\\end{tabular}\n"
      ],
      "text/plain": [
       "Software versions\n",
       "Python 3.5.2 64bit [GCC 4.4.7 20120313 (Red Hat 4.4.7-1)]\n",
       "IPython 5.1.0\n",
       "OS Linux 3.16.0 4 amd64 x86_64 with debian 8.5\n",
       "chemtools 0.8.0\n",
       "mendeleev 0.2.7\n",
       "scipy 0.17.1\n",
       "numpy 1.10.4\n",
       "matplotlib 1.5.1\n",
       "seaborn 0.7.1\n",
       "Mon Aug 29 13:48:24 2016 CEST"
      ]
     },
     "execution_count": 53,
     "metadata": {},
     "output_type": "execute_result"
    }
   ],
   "source": [
    "%version_information chemtools, mendeleev, scipy, numpy, matplotlib, seaborn"
   ]
  }
 ],
 "metadata": {
  "anaconda-cloud": {},
  "kernelspec": {
   "display_name": "Python [conda root]",
   "language": "python",
   "name": "conda-root-py"
  },
  "language_info": {
   "codemirror_mode": {
    "name": "ipython",
    "version": 3
   },
   "file_extension": ".py",
   "mimetype": "text/x-python",
   "name": "python",
   "nbconvert_exporter": "python",
   "pygments_lexer": "ipython3",
   "version": "3.5.2"
  }
 },
 "nbformat": 4,
 "nbformat_minor": 0
}
