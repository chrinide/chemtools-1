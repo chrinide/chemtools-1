{
 "cells": [
  {
   "cell_type": "markdown",
   "metadata": {},
   "source": [
    "Import pymongo, a python API for MongoDB and basisset moudule that holds a BasisSet class for handling the basis sets"
   ]
  },
  {
   "cell_type": "code",
   "execution_count": 50,
   "metadata": {
    "collapsed": false
   },
   "outputs": [],
   "source": [
    "from pprint import pprint\n",
    "import pymongo\n",
    "from chemtools.basisset import BasisSet, zetas2legendre, legendre"
   ]
  },
  {
   "cell_type": "markdown",
   "metadata": {},
   "source": [
    "Connect to the database \"BasisSetRepo\""
   ]
  },
  {
   "cell_type": "code",
   "execution_count": 26,
   "metadata": {
    "collapsed": false
   },
   "outputs": [],
   "source": [
    "client = pymongo.MongoClient()\n",
    "db = client.BasisSetRepo"
   ]
  },
  {
   "cell_type": "markdown",
   "metadata": {},
   "source": [
    "Show available collections"
   ]
  },
  {
   "cell_type": "code",
   "execution_count": 27,
   "metadata": {
    "collapsed": false
   },
   "outputs": [
    {
     "data": {
      "text/plain": [
       "[u'system.indexes', u'EMSL', u'PetersonGroup']"
      ]
     },
     "execution_count": 27,
     "metadata": {},
     "output_type": "execute_result"
    }
   ],
   "source": [
    "db.collection_names()"
   ]
  },
  {
   "cell_type": "markdown",
   "metadata": {},
   "source": [
    "Get a database entry matching the query"
   ]
  },
  {
   "cell_type": "code",
   "execution_count": 28,
   "metadata": {
    "collapsed": true
   },
   "outputs": [],
   "source": [
    "Hanorcc = db.EMSL.find_one({\"name\" : \"cc-pVDZ\", \"element\" : \"H\"})"
   ]
  },
  {
   "cell_type": "markdown",
   "metadata": {},
   "source": [
    "Create a BasisSet object from the database entry"
   ]
  },
  {
   "cell_type": "code",
   "execution_count": 29,
   "metadata": {
    "collapsed": false
   },
   "outputs": [
    {
     "name": "stdout",
     "output_type": "stream",
     "text": [
      "Attributes:\n",
      "status\n",
      "functions\n",
      "publishedIn\n",
      "name\n",
      "url\n",
      "lastModified\n",
      "hasSpin\n",
      "addedBy\n",
      "element\n",
      "contributionPI\n",
      "ecp\n",
      "contributorName\n",
      "hasECP\n",
      "_id\n",
      "type\n",
      "bsAbstract\n"
     ]
    }
   ],
   "source": [
    "hano = BasisSet.from_dict(Hanorcc)\n",
    "attrs = vars(hano)\n",
    "print(\"Attributes:\")\n",
    "print(\"\\n\".join([x for x in attrs.keys()]))"
   ]
  },
  {
   "cell_type": "code",
   "execution_count": 30,
   "metadata": {
    "collapsed": true
   },
   "outputs": [
    {
     "data": {
      "text/plain": [
       "u'published'"
      ]
     },
     "execution_count": 30,
     "metadata": {},
     "output_type": "execute_result"
    }
   ],
   "source": [
    "hano.status"
   ]
  },
  {
   "cell_type": "code",
   "execution_count": 31,
   "metadata": {
    "collapsed": false
   },
   "outputs": [
    {
     "data": {
      "text/plain": [
       "u'cc-pVDZ'"
      ]
     },
     "execution_count": 31,
     "metadata": {},
     "output_type": "execute_result"
    }
   ],
   "source": [
    "hano.name"
   ]
  },
  {
   "cell_type": "code",
   "execution_count": 32,
   "metadata": {
    "collapsed": false
   },
   "outputs": [
    {
     "data": {
      "text/plain": [
       "u'H'"
      ]
     },
     "execution_count": 32,
     "metadata": {},
     "output_type": "execute_result"
    }
   ],
   "source": [
    "hano.element"
   ]
  },
  {
   "cell_type": "code",
   "execution_count": 33,
   "metadata": {
    "collapsed": false
   },
   "outputs": [
    {
     "data": {
      "text/plain": [
       "[u's', u'p']"
      ]
     },
     "execution_count": 33,
     "metadata": {},
     "output_type": "execute_result"
    }
   ],
   "source": [
    "hano.functions.keys()"
   ]
  },
  {
   "cell_type": "code",
   "execution_count": 34,
   "metadata": {
    "collapsed": false
   },
   "outputs": [
    {
     "name": "stdout",
     "output_type": "stream",
     "text": [
      "Number of functions (spherical): 5\n",
      "Number of functions (cartesian): 5\n"
     ]
    }
   ],
   "source": [
    "print(\"Number of functions (spherical): {}\".format(hano.nf()))\n",
    "print(\"Number of functions (cartesian): {}\".format(hano.nf(spherical=False)))"
   ]
  },
  {
   "cell_type": "code",
   "execution_count": 35,
   "metadata": {
    "collapsed": true
   },
   "outputs": [
    {
     "data": {
      "text/plain": [
       "'(4s1p) -> [2s1p] : {31/1}'"
      ]
     },
     "execution_count": 35,
     "metadata": {},
     "output_type": "execute_result"
    }
   ],
   "source": [
    "hano.contraction_scheme()"
   ]
  },
  {
   "cell_type": "code",
   "execution_count": 36,
   "metadata": {
    "collapsed": false
   },
   "outputs": [
    {
     "data": {
      "text/plain": [
       "'unknown'"
      ]
     },
     "execution_count": 36,
     "metadata": {},
     "output_type": "execute_result"
    }
   ],
   "source": [
    "hano.contraction_type()"
   ]
  },
  {
   "cell_type": "code",
   "execution_count": 37,
   "metadata": {
    "collapsed": true
   },
   "outputs": [
    {
     "name": "stdout",
     "output_type": "stream",
     "text": [
      "! cc-pVDZ\n",
      "! s functions\n",
      "F   4   2\n",
      "       13.0100000000     0.01968500     0.00000000\n",
      "        1.9620000000     0.13797700     0.00000000\n",
      "        0.4446000000     0.47814800     0.00000000\n",
      "        0.1220000000     0.00000000     1.00000000\n",
      "! p functions\n",
      "F   1   1\n",
      "        0.7270000000     1.00000000\n",
      "\n"
     ]
    }
   ],
   "source": [
    "print(hano.write_dalton())"
   ]
  },
  {
   "cell_type": "code",
   "execution_count": 38,
   "metadata": {
    "collapsed": false
   },
   "outputs": [
    {
     "name": "stdout",
     "output_type": "stream",
     "text": [
      "S  3\n",
      "  1       13.0100000000     0.01968500\n",
      "  2        1.9620000000     0.13797700\n",
      "  3        0.4446000000     0.47814800\n",
      "S  1\n",
      "  1        0.1220000000     1.00000000\n",
      "P  1\n",
      "  1        0.7270000000     1.00000000\n",
      "\n",
      "\n"
     ]
    }
   ],
   "source": [
    "print(hano.write_gamess())"
   ]
  },
  {
   "cell_type": "code",
   "execution_count": 39,
   "metadata": {
    "collapsed": false
   },
   "outputs": [
    {
     "name": "stdout",
     "output_type": "stream",
     "text": [
      "s, H, 13.0100000000, 1.9620000000, 0.4446000000, 0.1220000000\n",
      "c, 1.3, 0.01968500, 0.13797700, 0.47814800\n",
      "c, 4.4, 1.00000000\n",
      "p, H, 0.7270000000\n",
      "c, 1.1, 1.00000000\n",
      "\n"
     ]
    }
   ],
   "source": [
    "print(hano.write_molpro())"
   ]
  },
  {
   "cell_type": "code",
   "execution_count": 40,
   "metadata": {
    "collapsed": false
   },
   "outputs": [
    {
     "name": "stdout",
     "output_type": "stream",
     "text": [
      "BASIS \"ao basis\" PRINT\n",
      "H s\n",
      "       13.0100000000     0.01968500     0.00000000\n",
      "        1.9620000000     0.13797700     0.00000000\n",
      "        0.4446000000     0.47814800     0.00000000\n",
      "        0.1220000000     0.00000000     1.00000000\n",
      "H p\n",
      "        0.7270000000     1.00000000\n",
      "END\n",
      "\n"
     ]
    }
   ],
   "source": [
    "print(hano.write_nwchem())"
   ]
  },
  {
   "cell_type": "code",
   "execution_count": 41,
   "metadata": {
    "collapsed": false
   },
   "outputs": [],
   "source": [
    "uhano = BasisSet.uncontracted(hano)"
   ]
  },
  {
   "cell_type": "code",
   "execution_count": 42,
   "metadata": {
    "collapsed": false
   },
   "outputs": [
    {
     "data": {
      "text/plain": [
       "'(4s1p) -> [4s1p] : {1111/1}'"
      ]
     },
     "execution_count": 42,
     "metadata": {},
     "output_type": "execute_result"
    }
   ],
   "source": [
    "uhano.contraction_scheme()"
   ]
  },
  {
   "cell_type": "code",
   "execution_count": 43,
   "metadata": {
    "collapsed": false
   },
   "outputs": [
    {
     "name": "stdout",
     "output_type": "stream",
     "text": [
      "s, H, 13.0100000000, 1.9620000000, 0.4446000000, 0.1220000000\n",
      "c, 1.1, 1.00000000\n",
      "c, 2.2, 1.00000000\n",
      "c, 3.3, 1.00000000\n",
      "c, 4.4, 1.00000000\n",
      "p, H, 0.7270000000\n",
      "c, 1.1, 1.00000000\n",
      "\n"
     ]
    }
   ],
   "source": [
    "print(uhano.write_molpro())"
   ]
  },
  {
   "cell_type": "code",
   "execution_count": 55,
   "metadata": {
    "collapsed": false
   },
   "outputs": [
    {
     "data": {
      "text/plain": [
       "[0.12199999999999994,\n",
       " 0.44459999999999955,\n",
       " 1.9620000000000013,\n",
       " 13.010000000000018]"
      ]
     },
     "execution_count": 55,
     "metadata": {},
     "output_type": "execute_result"
    }
   ],
   "source": [
    "p = zetas2legendre(hano.functions['s']['exponents'], 4)\n",
    "legendre(4, p)"
   ]
  },
  {
   "cell_type": "code",
   "execution_count": 57,
   "metadata": {
    "collapsed": false
   },
   "outputs": [],
   "source": [
    "from chemtools import molpro"
   ]
  },
  {
   "cell_type": "code",
   "execution_count": 59,
   "metadata": {
    "collapsed": false
   },
   "outputs": [],
   "source": [
    "dz = molpro.parse_basis('''basis={s, H, 13.0100000000, 1.9620000000, 0.4446000000, 0.1220000000\n",
    "c, 1.3, 0.01968500, 0.13797700, 0.47814800\n",
    "c, 4.4, 1.00000000\n",
    "p, H, 0.7270000000\n",
    "c, 1.1, 1.00000000\n",
    "}''')"
   ]
  },
  {
   "cell_type": "code",
   "execution_count": 63,
   "metadata": {
    "collapsed": false
   },
   "outputs": [],
   "source": [
    "dz = BasisSet.from_dict({'element' : 'H', 'functions' : dz['H']})"
   ]
  },
  {
   "cell_type": "code",
   "execution_count": 66,
   "metadata": {
    "collapsed": false
   },
   "outputs": [
    {
     "name": "stdout",
     "output_type": "stream",
     "text": [
      "s, H, 13.0100000000, 1.9620000000, 0.4446000000, 0.1220000000\n",
      "c, 1.3, 0.01968500, 0.13797700, 0.47814800\n",
      "c, 4.4, 1.00000000\n",
      "p, H, 0.7270000000\n",
      "c, 1.1, 1.00000000\n",
      "\n"
     ]
    }
   ],
   "source": [
    "print dz.write_molpro()"
   ]
  },
  {
   "cell_type": "code",
   "execution_count": null,
   "metadata": {
    "collapsed": false
   },
   "outputs": [],
   "source": []
  }
 ],
 "metadata": {
  "anaconda-cloud": {},
  "kernelspec": {
   "display_name": "Python [default]",
   "language": "python",
   "name": "python3"
  },
  "language_info": {
   "codemirror_mode": {
    "name": "ipython",
    "version": 3
   },
   "file_extension": ".py",
   "mimetype": "text/x-python",
   "name": "python",
   "nbconvert_exporter": "python",
   "pygments_lexer": "ipython3",
   "version": "3.5.2"
  }
 },
 "nbformat": 4,
 "nbformat_minor": 0
}
