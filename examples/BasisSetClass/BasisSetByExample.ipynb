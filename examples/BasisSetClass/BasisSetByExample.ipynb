{
 "metadata": {
  "name": "",
  "signature": "sha256:a0fba195cbc47046442124a7123105d4396f69bb353401c0203ed869af670a1b"
 },
 "nbformat": 3,
 "nbformat_minor": 0,
 "worksheets": [
  {
   "cells": [
    {
     "cell_type": "markdown",
     "metadata": {},
     "source": [
      "Import pymongo, a python API for MongoDB and basisset moudule that holds a BasisSet class for handling the basis sets"
     ]
    },
    {
     "cell_type": "code",
     "collapsed": false,
     "input": [
      "from pprint import pprint\n",
      "import pymongo\n",
      "from chemtools.basisset import BasisSet, zetas2legendre, legendre"
     ],
     "language": "python",
     "metadata": {},
     "outputs": [],
     "prompt_number": 50
    },
    {
     "cell_type": "markdown",
     "metadata": {},
     "source": [
      "Connect to the database \"BasisSetRepo\""
     ]
    },
    {
     "cell_type": "code",
     "collapsed": false,
     "input": [
      "client = pymongo.MongoClient()\n",
      "db = client.BasisSetRepo"
     ],
     "language": "python",
     "metadata": {},
     "outputs": [],
     "prompt_number": 26
    },
    {
     "cell_type": "markdown",
     "metadata": {},
     "source": [
      "Show available collections"
     ]
    },
    {
     "cell_type": "code",
     "collapsed": false,
     "input": [
      "db.collection_names()"
     ],
     "language": "python",
     "metadata": {},
     "outputs": [
      {
       "metadata": {},
       "output_type": "pyout",
       "prompt_number": 27,
       "text": [
        "[u'system.indexes', u'EMSL', u'PetersonGroup']"
       ]
      }
     ],
     "prompt_number": 27
    },
    {
     "cell_type": "markdown",
     "metadata": {},
     "source": [
      "Get a database entry matching the query"
     ]
    },
    {
     "cell_type": "code",
     "collapsed": true,
     "input": [
      "Hanorcc = db.EMSL.find_one({\"name\" : \"cc-pVDZ\", \"element\" : \"H\"})"
     ],
     "language": "python",
     "metadata": {},
     "outputs": [],
     "prompt_number": 28
    },
    {
     "cell_type": "markdown",
     "metadata": {},
     "source": [
      "Create a BasisSet object from the database entry"
     ]
    },
    {
     "cell_type": "code",
     "collapsed": false,
     "input": [
      "hano = BasisSet.from_dict(Hanorcc)\n",
      "attrs = vars(hano)\n",
      "print(\"Attributes:\")\n",
      "print(\"\\n\".join([x for x in attrs.keys()]))"
     ],
     "language": "python",
     "metadata": {},
     "outputs": [
      {
       "output_type": "stream",
       "stream": "stdout",
       "text": [
        "Attributes:\n",
        "status\n",
        "functions\n",
        "publishedIn\n",
        "name\n",
        "url\n",
        "lastModified\n",
        "hasSpin\n",
        "addedBy\n",
        "element\n",
        "contributionPI\n",
        "ecp\n",
        "contributorName\n",
        "hasECP\n",
        "_id\n",
        "type\n",
        "bsAbstract\n"
       ]
      }
     ],
     "prompt_number": 29
    },
    {
     "cell_type": "code",
     "collapsed": true,
     "input": [
      "hano.status"
     ],
     "language": "python",
     "metadata": {},
     "outputs": [
      {
       "metadata": {},
       "output_type": "pyout",
       "prompt_number": 30,
       "text": [
        "u'published'"
       ]
      }
     ],
     "prompt_number": 30
    },
    {
     "cell_type": "code",
     "collapsed": false,
     "input": [
      "hano.name"
     ],
     "language": "python",
     "metadata": {},
     "outputs": [
      {
       "metadata": {},
       "output_type": "pyout",
       "prompt_number": 31,
       "text": [
        "u'cc-pVDZ'"
       ]
      }
     ],
     "prompt_number": 31
    },
    {
     "cell_type": "code",
     "collapsed": false,
     "input": [
      "hano.element"
     ],
     "language": "python",
     "metadata": {},
     "outputs": [
      {
       "metadata": {},
       "output_type": "pyout",
       "prompt_number": 32,
       "text": [
        "u'H'"
       ]
      }
     ],
     "prompt_number": 32
    },
    {
     "cell_type": "code",
     "collapsed": false,
     "input": [
      "hano.functions.keys()"
     ],
     "language": "python",
     "metadata": {},
     "outputs": [
      {
       "metadata": {},
       "output_type": "pyout",
       "prompt_number": 33,
       "text": [
        "[u's', u'p']"
       ]
      }
     ],
     "prompt_number": 33
    },
    {
     "cell_type": "code",
     "collapsed": false,
     "input": [
      "print(\"Number of functions (spherical): {}\".format(hano.nf()))\n",
      "print(\"Number of functions (cartesian): {}\".format(hano.nf(spherical=False)))"
     ],
     "language": "python",
     "metadata": {},
     "outputs": [
      {
       "output_type": "stream",
       "stream": "stdout",
       "text": [
        "Number of functions (spherical): 5\n",
        "Number of functions (cartesian): 5\n"
       ]
      }
     ],
     "prompt_number": 34
    },
    {
     "cell_type": "code",
     "collapsed": true,
     "input": [
      "hano.contraction_scheme()"
     ],
     "language": "python",
     "metadata": {},
     "outputs": [
      {
       "metadata": {},
       "output_type": "pyout",
       "prompt_number": 35,
       "text": [
        "'(4s1p) -> [2s1p] : {31/1}'"
       ]
      }
     ],
     "prompt_number": 35
    },
    {
     "cell_type": "code",
     "collapsed": false,
     "input": [
      "hano.contraction_type()"
     ],
     "language": "python",
     "metadata": {},
     "outputs": [
      {
       "metadata": {},
       "output_type": "pyout",
       "prompt_number": 36,
       "text": [
        "'unknown'"
       ]
      }
     ],
     "prompt_number": 36
    },
    {
     "cell_type": "code",
     "collapsed": true,
     "input": [
      "print(hano.write_dalton())"
     ],
     "language": "python",
     "metadata": {},
     "outputs": [
      {
       "output_type": "stream",
       "stream": "stdout",
       "text": [
        "! cc-pVDZ\n",
        "! s functions\n",
        "F   4   2\n",
        "       13.0100000000     0.01968500     0.00000000\n",
        "        1.9620000000     0.13797700     0.00000000\n",
        "        0.4446000000     0.47814800     0.00000000\n",
        "        0.1220000000     0.00000000     1.00000000\n",
        "! p functions\n",
        "F   1   1\n",
        "        0.7270000000     1.00000000\n",
        "\n"
       ]
      }
     ],
     "prompt_number": 37
    },
    {
     "cell_type": "code",
     "collapsed": false,
     "input": [
      "print(hano.write_gamess())"
     ],
     "language": "python",
     "metadata": {},
     "outputs": [
      {
       "output_type": "stream",
       "stream": "stdout",
       "text": [
        "S  3\n",
        "  1       13.0100000000     0.01968500\n",
        "  2        1.9620000000     0.13797700\n",
        "  3        0.4446000000     0.47814800\n",
        "S  1\n",
        "  1        0.1220000000     1.00000000\n",
        "P  1\n",
        "  1        0.7270000000     1.00000000\n",
        "\n",
        "\n"
       ]
      }
     ],
     "prompt_number": 38
    },
    {
     "cell_type": "code",
     "collapsed": false,
     "input": [
      "print(hano.write_molpro())"
     ],
     "language": "python",
     "metadata": {},
     "outputs": [
      {
       "output_type": "stream",
       "stream": "stdout",
       "text": [
        "s, H, 13.0100000000, 1.9620000000, 0.4446000000, 0.1220000000\n",
        "c, 1.3, 0.01968500, 0.13797700, 0.47814800\n",
        "c, 4.4, 1.00000000\n",
        "p, H, 0.7270000000\n",
        "c, 1.1, 1.00000000\n",
        "\n"
       ]
      }
     ],
     "prompt_number": 39
    },
    {
     "cell_type": "code",
     "collapsed": false,
     "input": [
      "print(hano.write_nwchem())"
     ],
     "language": "python",
     "metadata": {},
     "outputs": [
      {
       "output_type": "stream",
       "stream": "stdout",
       "text": [
        "BASIS \"ao basis\" PRINT\n",
        "H s\n",
        "       13.0100000000     0.01968500     0.00000000\n",
        "        1.9620000000     0.13797700     0.00000000\n",
        "        0.4446000000     0.47814800     0.00000000\n",
        "        0.1220000000     0.00000000     1.00000000\n",
        "H p\n",
        "        0.7270000000     1.00000000\n",
        "END\n",
        "\n"
       ]
      }
     ],
     "prompt_number": 40
    },
    {
     "cell_type": "code",
     "collapsed": false,
     "input": [
      "uhano = BasisSet.uncontracted(hano)"
     ],
     "language": "python",
     "metadata": {},
     "outputs": [],
     "prompt_number": 41
    },
    {
     "cell_type": "code",
     "collapsed": false,
     "input": [
      "uhano.contraction_scheme()"
     ],
     "language": "python",
     "metadata": {},
     "outputs": [
      {
       "metadata": {},
       "output_type": "pyout",
       "prompt_number": 42,
       "text": [
        "'(4s1p) -> [4s1p] : {1111/1}'"
       ]
      }
     ],
     "prompt_number": 42
    },
    {
     "cell_type": "code",
     "collapsed": false,
     "input": [
      "print(uhano.write_molpro())"
     ],
     "language": "python",
     "metadata": {},
     "outputs": [
      {
       "output_type": "stream",
       "stream": "stdout",
       "text": [
        "s, H, 13.0100000000, 1.9620000000, 0.4446000000, 0.1220000000\n",
        "c, 1.1, 1.00000000\n",
        "c, 2.2, 1.00000000\n",
        "c, 3.3, 1.00000000\n",
        "c, 4.4, 1.00000000\n",
        "p, H, 0.7270000000\n",
        "c, 1.1, 1.00000000\n",
        "\n"
       ]
      }
     ],
     "prompt_number": 43
    },
    {
     "cell_type": "code",
     "collapsed": false,
     "input": [
      "p = zetas2legendre(hano.functions['s']['exponents'], 4)\n",
      "legendre(4, p)"
     ],
     "language": "python",
     "metadata": {},
     "outputs": [
      {
       "metadata": {},
       "output_type": "pyout",
       "prompt_number": 55,
       "text": [
        "[0.12199999999999994,\n",
        " 0.44459999999999955,\n",
        " 1.9620000000000013,\n",
        " 13.010000000000018]"
       ]
      }
     ],
     "prompt_number": 55
    },
    {
     "cell_type": "code",
     "collapsed": false,
     "input": [
      "from chemtools import molpro"
     ],
     "language": "python",
     "metadata": {},
     "outputs": [],
     "prompt_number": 57
    },
    {
     "cell_type": "code",
     "collapsed": false,
     "input": [
      "dz = molpro.parse_basis('''basis={s, H, 13.0100000000, 1.9620000000, 0.4446000000, 0.1220000000\n",
      "c, 1.3, 0.01968500, 0.13797700, 0.47814800\n",
      "c, 4.4, 1.00000000\n",
      "p, H, 0.7270000000\n",
      "c, 1.1, 1.00000000\n",
      "}''')"
     ],
     "language": "python",
     "metadata": {},
     "outputs": [],
     "prompt_number": 59
    },
    {
     "cell_type": "code",
     "collapsed": false,
     "input": [
      "dz = BasisSet.from_dict({'element' : 'H', 'functions' : dz['H']})"
     ],
     "language": "python",
     "metadata": {},
     "outputs": [],
     "prompt_number": 63
    },
    {
     "cell_type": "code",
     "collapsed": false,
     "input": [
      "print dz.write_molpro()"
     ],
     "language": "python",
     "metadata": {},
     "outputs": [
      {
       "output_type": "stream",
       "stream": "stdout",
       "text": [
        "s, H, 13.0100000000, 1.9620000000, 0.4446000000, 0.1220000000\n",
        "c, 1.3, 0.01968500, 0.13797700, 0.47814800\n",
        "c, 4.4, 1.00000000\n",
        "p, H, 0.7270000000\n",
        "c, 1.1, 1.00000000\n",
        "\n"
       ]
      }
     ],
     "prompt_number": 66
    },
    {
     "cell_type": "code",
     "collapsed": false,
     "input": [],
     "language": "python",
     "metadata": {},
     "outputs": []
    }
   ],
   "metadata": {}
  }
 ]
}